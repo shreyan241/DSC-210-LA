{
 "cells": [
  {
   "cell_type": "markdown",
   "metadata": {
    "id": "lJCEyyf3IlRw"
   },
   "source": [
    "# HW1 - Q2: Eigenvalues and Eigenvectors (30 points)\n",
    "Notes:\n",
    "* Questions (a), (b) need to be typewritten.\n",
    "* Questions (c), (d) need to be programmed.\n",
    "* For typewritten solution:\n",
    "  * Write all the steps of the solution . \n",
    "  * Use proper LATEX formatting and notation for all mathematical equations, vectors, and matrices. \n",
    "* For programming solution:\n",
    "  * Properly add comments to your code.\n"
   ]
  },
  {
   "cell_type": "markdown",
   "metadata": {
    "id": "b2ivsajX4yuy"
   },
   "source": [
    "\n",
    "\n",
    "---\n",
    "\n"
   ]
  },
  {
   "cell_type": "markdown",
   "metadata": {
    "id": "Cdpgzds_Isxc"
   },
   "source": [
    "### **(a)** Write down the characteristic equation for matrix \n",
    "$A= \\begin{bmatrix}\n",
    "2 & 2 \\\\\n",
    "5 & -1\n",
    "\\end{bmatrix}$. \n",
    "### Use the above characteristic equation to solve for eigenvalues and normalized eigenvectors of matrix $A$. (7 points)"
   ]
  },
  {
   "cell_type": "markdown",
   "metadata": {
    "id": "i_qPxVfOI34J"
   },
   "source": [
    "#### <font color=\"red\">Your answer here:</font>\n",
    "\n",
    "$A=\\begin{bmatrix}\n",
    "2 & 2 \\\\\n",
    "5 & -1  \n",
    "\\end{bmatrix} $\n",
    "\n",
    "Characteristic equation: $ P_A (\\lambda) = det(A - \\lambda I)$\n",
    "\n",
    "$A=\\begin{bmatrix}\n",
    "2 & 2 \\\\\n",
    "5 & -1  \n",
    "\\end{bmatrix} \\rightarrow A - \\lambda I = \\begin{bmatrix}\n",
    "2 - \\lambda & 2 \\\\\n",
    "5 & -1 - \\lambda  \n",
    "\\end{bmatrix}\n",
    "$ \n",
    "\n",
    "$\\rightarrow det(A - \\lambda I) \n",
    "=  (2 - \\lambda) (-1 - \\lambda) - (2 \\times 5) \n",
    "= -2 - 2 \\lambda + \\lambda + {\\lambda}^2 - 10\n",
    "= {\\lambda}^2 - \\lambda - 12\n",
    "= (\\lambda + 3)(\\lambda - 4)$\n",
    "\n",
    "$ \\text{Eigenvalue }\\lambda_1 = 4 \\rightarrow (A - 4I)x = 0 \n",
    "\\rightarrow \\begin{bmatrix}\n",
    "-2 & 2 \\\\\n",
    "5 & -5  \n",
    "\\end{bmatrix} \n",
    "\\times \\begin{bmatrix}\n",
    "x_1 \\\\\n",
    "x_2 \n",
    "\\end{bmatrix} = 0 \n",
    "\\rightarrow = \\begin{cases}\n",
    "-2x_1 + 2x_2 = 0 \\\\\n",
    "5x_1 - 5x_2 = 0\n",
    "\\end{cases} \n",
    "\\rightarrow \\begin{cases}\n",
    "x_2 = x_1 \\\\\n",
    "5x_1 - 5x_2 = 0\n",
    "\\end{cases}\n",
    "\\rightarrow x = x_1 \\begin{bmatrix}\n",
    "1 \\\\\n",
    "1\n",
    "\\end{bmatrix}\n",
    "$\n",
    "\n",
    "$\\rightarrow Length = \\sqrt{1^2 + 1^2} = \\sqrt{2}\n",
    "\\rightarrow \\text{Normalized eigenvector } \\begin{bmatrix}\n",
    "\\frac{1}{\\sqrt{2}} \\\\\n",
    "\\frac{1}{\\sqrt{2}}\n",
    "\\end{bmatrix}$\n",
    "\n",
    "$\\text{Eigenvalue } \\lambda_2 = -3 \\rightarrow (A + 3I)x = 0 \n",
    "\\rightarrow \\begin{bmatrix}\n",
    "5 & 2 \\\\\n",
    "5 & 2  \n",
    "\\end{bmatrix} \n",
    "\\times \\begin{bmatrix}\n",
    "x_1 \\\\\n",
    "x_2 \n",
    "\\end{bmatrix} = 0 \n",
    "\\rightarrow = \\begin{cases}\n",
    "5x_1 + 2x_2 = 0 \\\\\n",
    "5x_1 + 2x_2 = 0\n",
    "\\end{cases} \n",
    "\\rightarrow \\begin{cases}\n",
    "x_2 = \\frac{-5}{2}x_1 \\\\\n",
    "5x_1 + 2x_2 = 0\n",
    "\\end{cases}\n",
    "\\rightarrow x = x_1 \\begin{bmatrix}\n",
    "1 \\\\\n",
    "\\frac{-5}{2}\n",
    "\\end{bmatrix}\n",
    "$\n",
    "\n",
    "$\\rightarrow Length = \\sqrt{1^2 + (\\frac{-5}{2})^2} = \\frac{\\sqrt{29}}{2}\n",
    "\\rightarrow \\text{Normalized eigenvector } \\begin{bmatrix}\n",
    "1 / \\frac{\\sqrt{29}}{2} \\\\\n",
    "\\frac{-5}{2} / \\frac{\\sqrt{29}}{2}\n",
    "\\end{bmatrix} = \\begin{bmatrix}\n",
    "\\frac{2}{\\sqrt{29}} \\\\\n",
    "\\frac{-5}{\\sqrt{29}}\n",
    "\\end{bmatrix}$\n"
   ]
  },
  {
   "cell_type": "markdown",
   "metadata": {
    "id": "6-oX0Cas7B58"
   },
   "source": [
    "\n",
    "\n",
    "---\n"
   ]
  },
  {
   "cell_type": "markdown",
   "metadata": {
    "id": "Lj8zlLl6Jl7D"
   },
   "source": [
    "### **(b)** Prove that if a real matrix $A_{n\\times n}$ has unique eigenvalues (i.e. $\\lambda_i\\ne \\lambda_j\\,\\forall\\, i\\ne j$), then the eigenvectors $x_i$ are linearly independent.  (7 points)\n",
    "### Hint: Prove by contradiction, start with $n=2$ case."
   ]
  },
  {
   "cell_type": "markdown",
   "metadata": {
    "id": "oQJrA0hK7IFD"
   },
   "source": [
    "#### <font color=\"red\">Your answer here:</font>\n",
    "Given : Real matrix $A_{n\\times n}$ has eigenvalues $\\lambda_i\\ne \\lambda_j\\,\\forall\\, i\\ne j$\n",
    "\n",
    "To Prove: The set of eigenvectors $X =$ {$x_1, x_2, ..., x_n$} is linearly independent\n",
    "\n",
    "Proof by contradiction: \n",
    "\n",
    "Assume set {$x_1, x_2, ..., x_n$} is linearly dependent\n",
    "\n",
    "$\\implies $ we can express some eigenvector $x_k \\in X$  as a linear combination of other eigenvectors in $X$ with scalars $c_i$,\n",
    "\n",
    "$$\\implies x_k = \\sum_{i=1}^{k-1}c_i x_i , \\ \\ \\ (c_i \\ne 0, x_k \\ne 0)$$\n",
    "\n",
    "$$\n",
    "\\begin{equation} \\tag{1}\n",
    "    \\implies x_k = c_1 x_1 + c_2 x_2 + ... +c_{k-1} x_{k-1} \\ \\ \\ (c_i \\ne 0, x_k \\ne 0)\n",
    "\\end{equation}\n",
    "$$\n",
    "\n",
    "Since $x_i$ are the eigenvectors of $A$, we have\n",
    "$$\n",
    "\\begin{equation} \\tag{2}\n",
    "    A x_i = \\lambda_i x_i\n",
    "\\end{equation}\n",
    "$$\n",
    "\n",
    "By multiplying equation (1) by $A$, we get\n",
    "$$\n",
    "\\begin{equation} \\tag{3}\n",
    "    A x_k = c_1 A x_1 + c_2 A x_2 + ... +c_{k-1} A x_{k-1}\n",
    "\\end{equation}\n",
    "$$\n",
    "\n",
    "Substituting values of $A x_i$ from equation (2) in equation (3), we get\n",
    "$$\n",
    "\\begin{equation} \\tag{4}\n",
    "    \\lambda_k x_k = c_1 \\lambda_1 x_1 + c_2 \\lambda_2 x_2 + ... +c_{k-1} \\lambda_{k-1} x_{k-1}\n",
    "\\end{equation}\n",
    "$$\n",
    "\n",
    "Also, by multiplying equation (1) by $\\lambda_k$, we get\n",
    "$$\n",
    "\\begin{equation} \\tag{5}\n",
    "    \\lambda_k x_k = c_1 \\lambda_k x_1 + c_2 \\lambda_k x_2 + ... +c_{k-1} \\lambda_{k} x_{k-1}\n",
    "\\end{equation}\n",
    "$$\n",
    "\n",
    "Now, by subtracting equation (4) by equation (5), we get\n",
    "$$\n",
    "    \\lambda_k x_k -\\lambda_k x_k = c_1 (\\lambda_1 - \\lambda_k) x_1 + c_2 (\\lambda_2 - \\lambda_k x_2) + ... +c_{k-1} (\\lambda_{k-1} - \\lambda_{k}) x_{k-1}\n",
    "$$\n",
    "\n",
    "$$\n",
    "\\begin{equation} \\tag{6}\n",
    "    \\implies 0 = c_1 (\\lambda_1 - \\lambda_k) x_1 + c_2 (\\lambda_2 - \\lambda_k x_2) + ... +c_{k-1} (\\lambda_{k-1} - \\lambda_{k}) x_{k-1}\n",
    "\\end{equation}\n",
    "$$\n",
    "\n",
    "Now, since $\\lambda_i\\ne \\lambda_j\\ ,\\forall\\, i\\ne j$ and $x_i \\ne 0$ because $x_i$ are eigenvectors, this implies $c_1 = c_2 = ... = c_{k-1} = 0$\n",
    "\n",
    "Then, using equation (1) we have $x_k = c_1 x_1 + c_2 x_2 + ... + c_{k-1} x_{k-1} = 0$ which is a contradiction to our initial assumption. This implies that $x_k$ cannot be expressed as a linear combination of other eigenvectors in $X$. Finally, this implies that set {$x_1, x_2, ..., x_n$} is linearly independent.\n",
    "\n",
    "Hence proved.\n",
    "\n",
    "\n"
   ]
  },
  {
   "cell_type": "markdown",
   "metadata": {
    "id": "3A_oqICv4tYn"
   },
   "source": [
    "\n",
    "\n",
    "---\n",
    "\n"
   ]
  },
  {
   "cell_type": "markdown",
   "metadata": {
    "id": "nEj1Gbc2JDn8"
   },
   "source": [
    "### **(c)** Write function `power_method(A,x)`, which takes as input matrix $A$ and a vector $\\mathbf{x}$, and uses power method to calculate eigenvalue and eigenvector. Get the largest eigenvalue and eigenvector for matrix \n",
    "$A=\\begin{bmatrix}\n",
    "2 & 1 & 2 \\\\\n",
    "1 & 3 & 2 \\\\\n",
    "2 & 4 & 1 \n",
    "\\end{bmatrix} $ \n",
    "### using above function. Start with intial eigenvector guesses: `[-1, 0.5, 3]` and `[2,-6,0.2]`. For each of the vectors, iterate until convergence. Plot how the eigenvalue changes w.r.t. iterations. Report the number of steps it took to converge, eigenvalue and eigenvector. Match your output with the results generated by the numpy API: `numpy.linalg.eig `\n",
    "### Note that you only need to look at magnitudes of eigenvalues. Use an absolute tolerance of  $10^{-6}$  between eigenvalue output of previous and current iteration as stopping criteria. You may also need to normalize the final eigenvector to match with output of numpy API `numpy.linalg.eig`. (8 points)"
   ]
  },
  {
   "cell_type": "code",
   "execution_count": 7,
   "metadata": {
    "id": "F0Leu81d5eKu"
   },
   "outputs": [
    {
     "name": "stdout",
     "output_type": "stream",
     "text": [
      "Eigenvalue =  6.029112 , Eigenvector =  [0.471857, 0.58897, 0.656099] , Number of iterations =  12\n"
     ]
    },
    {
     "data": {
      "image/png": "[encoded data removed]",
      "text/plain": [
       "<Figure size 432x288 with 1 Axes>"
      ]
     },
     "metadata": {
      "needs_background": "light"
     },
     "output_type": "display_data"
    },
    {
     "name": "stdout",
     "output_type": "stream",
     "text": [
      "Eigenvalue =  6.029112 , Eigenvector =  [-0.471858, -0.58897, -0.656099] , Number of iterations =  12\n"
     ]
    },
    {
     "data": {
      "image/png": "[encoded data removed]",
      "text/plain": [
       "<Figure size 432x288 with 1 Axes>"
      ]
     },
     "metadata": {
      "needs_background": "light"
     },
     "output_type": "display_data"
    },
    {
     "name": "stdout",
     "output_type": "stream",
     "text": [
      "Using np.linalg.eig, we have\n",
      "Eigenvalue =  6.029112 , Eigenvector =  [-0.471858, -0.58897, -0.656099]\n",
      "Hence our values match in both cases\n"
     ]
    }
   ],
   "source": [
    "# !!!! YOUR CODE HERE !!!!\n",
    "\n",
    "# importing libraries\n",
    "import numpy as np\n",
    "import matplotlib.pyplot as plt\n",
    "\n",
    "def power_method(A, x):\n",
    "\n",
    "    absTolerance = 10**(-6)\n",
    "    oldEigenValue = 0\n",
    "    curError = float(\"inf\") # setting initial current error to positive infinity\n",
    "    noOfSteps = 0  # to count number of steps\n",
    "    eigenValueList = []  # to store iterative eigen values\n",
    "\n",
    "    while (curError >= absTolerance):\n",
    "        x = np.dot(A, x)  # matrix multiplication\n",
    "        # newEigenValue = max(abs(x))  # new Eigenvalue\n",
    "        newEigenValue =np.linalg.norm(x)  # new Eigenvalue\n",
    "        x = x/newEigenValue  # normalizing x\n",
    "        curError = abs(newEigenValue - oldEigenValue)  # calculating error\n",
    "        eigenValueList.append(newEigenValue)\n",
    "        oldEigenValue = newEigenValue\n",
    "        noOfSteps += 1\n",
    "\n",
    "    # Normalising eigenvector by the norm\n",
    "    xNorm = np.linalg.norm(x)\n",
    "    x = x/xNorm\n",
    "\n",
    "    # printing eigenvalues and eigenvector after rounding the values to the first 6 decimal places\n",
    "    print(\"Eigenvalue = \", round(newEigenValue, 6), \", Eigenvector = \", [round(num, 6) for num in x],\n",
    "          \", Number of iterations = \", noOfSteps)\n",
    "\n",
    "    # Plotting Eigenvalues vs Number of iterations\n",
    "    plt.title(\"Eigenvalues vs Number of iterations\")\n",
    "    plt.xlabel(\"Number of Iterations\")\n",
    "    plt.ylabel(\"Eigenvalues\")\n",
    "    plt.plot([i+1 for i in range(noOfSteps)], eigenValueList, 'ro')\n",
    "    plt.plot([i+1 for i in range(noOfSteps)], eigenValueList)\n",
    "    plt.xticks([i+1 for i in range(noOfSteps)])\n",
    "    plt.show()\n",
    "\n",
    "\n",
    "A = np.array([[2, 1, 2],\n",
    "             [1, 3, 2],\n",
    "             [2, 4, 1]])\n",
    "\n",
    "x1 = np.array([-1, 0.5, 3])\n",
    "x2 = np.array([2, -6, 0.2])\n",
    "\n",
    "power_method(A, x1)\n",
    "power_method(A, x2)\n",
    "\n",
    "# using np.linalg.eig\n",
    "w, v = np.linalg.eig(A)\n",
    "\n",
    "#Sorting w in decreasing order to get the maximum eigenvalue (at index 0) and corresponding eigenvector \n",
    "w_abs = abs(w)\n",
    "idx = w_abs.argsort()[: : -1]\n",
    "w = w[idx]\n",
    "v = v[:,idx]\n",
    "\n",
    "print(\"Using np.linalg.eig, we have\")\n",
    "print(\"Eigenvalue = \", round(w[0], 6), \", Eigenvector = \", [round(num, 6) for num in v[:, 0]])\n",
    "print(\"Hence our values match in both cases\")\n"
   ]
  },
  {
   "cell_type": "markdown",
   "metadata": {
    "id": "HU0xRjui426w"
   },
   "source": [
    "\n",
    "\n",
    "---\n",
    "\n"
   ]
  },
  {
   "cell_type": "markdown",
   "metadata": {
    "id": "kKI0kyPGJdgh"
   },
   "source": [
    "### **(d)** Write function `inverse_power_method(A,x)`, which takes as input matrix $A$ and a vector $\\mathbf{x}$, and uses inverse power method to calculate the smallest eigenvalue and corresponding eigenvector. Solve for the smallest eigenvalue and corresponding eigenvector for the matrix from (c). Use the same intial eigenvector guesses as (c). Report how many iterations do you need for it to converge to the smallest eigenvalue. Plot the computed/estimated eigenvalue w.r.t iterations (keep in mind to plot $1/\\lambda$ vs. number of iterations). Report the final eigenvalue and eigenvector you get. Match your answer with the results generated by the numpy API `numpy.linalg.eig`.\n",
    "\n",
    "### Note that you only need to look at magnitudes of eigenvalues. Use an absolute tolerance of $10^{-6}$ between eigenvalue output of previous and current iteration as stopping criteria. You may also need to normalize the final eigenvector to match with output of numpy API `numpy.linalg.eig`. (8 points)"
   ]
  },
  {
   "cell_type": "code",
   "execution_count": 8,
   "metadata": {
    "id": "x-fNtCKt-Eli"
   },
   "outputs": [
    {
     "name": "stdout",
     "output_type": "stream",
     "text": [
      "Eigenvalue =  1.336257 , Eigenvector =  [-0.889875, 0.450815, 0.069916] , Number of iterations =  689\n"
     ]
    },
    {
     "data": {
      "image/png": "[encoded data removed]",
      "text/plain": [
       "<Figure size 432x288 with 1 Axes>"
      ]
     },
     "metadata": {
      "needs_background": "light"
     },
     "output_type": "display_data"
    },
    {
     "name": "stdout",
     "output_type": "stream",
     "text": [
      "Eigenvalue =  1.336255 , Eigenvector =  [0.889875, -0.450815, -0.069918] , Number of iterations =  615\n"
     ]
    },
    {
     "data": {
      "image/png": "[encoded data removed]",
      "text/plain": [
       "<Figure size 432x288 with 1 Axes>"
      ]
     },
     "metadata": {
      "needs_background": "light"
     },
     "output_type": "display_data"
    },
    {
     "name": "stdout",
     "output_type": "stream",
     "text": [
      "Using np.linalg.eig, we have\n",
      "Eigenvalue =  1.336256 , Eigenvector =  [-0.889875, 0.450815, 0.069917]\n",
      "Hence our values match in both cases\n"
     ]
    }
   ],
   "source": [
    "# !!!! YOUR CODE HERE !!!!\n",
    "\n",
    "# importing libraries\n",
    "import numpy as np\n",
    "import matplotlib.pyplot as plt\n",
    "\n",
    "def inverse_power_method(A, x):\n",
    "\n",
    "    absTolerance = 10**(-6)\n",
    "    oldEigenValue = 0\n",
    "    curError = float(\"inf\") # setting initial current error to positive infinity\n",
    "    noOfSteps = 0  # to count number of steps\n",
    "    eigenValueList = []  # to store iterative eigen values\n",
    "\n",
    "    while (curError >= absTolerance):\n",
    "      \n",
    "        Q, R = np.linalg.qr(A) # QR decomposition with qr function \n",
    "        y = np.dot(Q.T, x) # Let y=Q'.x using matrix multiplication \n",
    "        x = np.linalg.solve(R, y) # Solve Rx=y \n",
    "        \n",
    "        # newEigenValue = max(abs(x))  # new Eigenvalue\n",
    "        newEigenValue = np.linalg.norm(x)  # new Eigenvalue\n",
    "        x = x/newEigenValue  # normalizing x\n",
    "    \n",
    "        curError = abs(newEigenValue - oldEigenValue)  # calculating error\n",
    "        \n",
    "        eigenValueList.append(1/newEigenValue)\n",
    "        oldEigenValue = newEigenValue\n",
    "        noOfSteps += 1\n",
    "\n",
    "\n",
    "    # Normalising eigenvector by the norm\n",
    "    xNorm = np.linalg.norm(x)\n",
    "    x = x/xNorm\n",
    "    \n",
    "   \n",
    "\n",
    "    # printing eigenvalues and eigenvector after rounding the values to the first 6 decimal places\n",
    "    print(\"Eigenvalue = \", round(1/newEigenValue, 6), \", Eigenvector = \", [round(num, 6) for num in x],\n",
    "          \", Number of iterations = \", noOfSteps)\n",
    "\n",
    "    # Plotting Eigenvalues vs Number of iterations\n",
    "    plt.title(\"Eigenvalues vs Number of iterations\")\n",
    "    plt.xlabel(\"Number of Iterations\")\n",
    "    plt.ylabel(\"Eigenvalues\")\n",
    "    plt.plot([i+1 for i in range(noOfSteps)], eigenValueList, 'ro')\n",
    "    plt.plot([i+1 for i in range(noOfSteps)], eigenValueList)\n",
    "    # plt.xticks([i+1 for i in range(noOfSteps)])\n",
    "    plt.show()\n",
    "\n",
    "\n",
    "A = np.array([[2, 1, 2],\n",
    "             [1, 3, 2],\n",
    "             [2, 4, 1]])\n",
    "\n",
    "x1 = np.array([-1, 0.5, 3])\n",
    "x2 = np.array([2, -6, 0.2])\n",
    "\n",
    "inverse_power_method(A, x1)\n",
    "inverse_power_method(A, x2)\n",
    "\n",
    "# using np.linalg.eig\n",
    "w, v = np.linalg.eig(A)\n",
    "\n",
    "#Sorting w in decreasing order to get the minimum eigenvalue (at index 0) and corresponding eigenvector \n",
    "w_abs = abs(w)\n",
    "idx = w_abs.argsort()  \n",
    "w = w[idx]\n",
    "v = v[:,idx]\n",
    "\n",
    "print(\"Using np.linalg.eig, we have\")\n",
    "print(\"Eigenvalue = \", round(w[0], 6), \", Eigenvector = \", [round(num, 6) for num in v[:, 0]])\n",
    "print(\"Hence our values match in both cases\")\n"
   ]
  },
  {
   "cell_type": "markdown",
   "metadata": {
    "id": "TkATsaLd44Sz"
   },
   "source": [
    "\n",
    "\n",
    "---\n",
    "\n"
   ]
  }
 ],
 "metadata": {
  "colab": {
   "provenance": []
  },
  "kernelspec": {
   "display_name": "Python 3",
   "language": "python",
   "name": "python3"
  },
  "language_info": {
   "codemirror_mode": {
    "name": "ipython",
    "version": 3
   },
   "file_extension": ".py",
   "mimetype": "text/x-python",
   "name": "python",
   "nbconvert_exporter": "python",
   "pygments_lexer": "ipython3",
   "version": "3.8.8"
  },
  "vscode": {
   "interpreter": {
    "hash": "b0d983612b814860d9ab1dbb303f20bfc8fb4fb3419b27046d7bc1d14cf03c9f"
   }
  }
 },
 "nbformat": 4,
 "nbformat_minor": 1
}
