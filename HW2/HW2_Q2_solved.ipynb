{
 "cells": [
  {
   "cell_type": "markdown",
   "metadata": {
    "id": "hjRM13EAuL3g"
   },
   "source": [
    "# HW2 - Q2: MNIST (35 points)\n",
    "\n",
    "**Keywords**: Multiclass Classification, Least Squares Regression, PyTorch\n",
    "\n",
    "**About the dataset**: \\\n",
    "*   The [MNIST](https://en.wikipedia.org/wiki/MNIST_database) database (Modified National Institute of Standards and Technology database) is a large database of handwritten digits that is commonly used for training various image processing systems.\n",
    "*   The MNIST database contains 70,000 labeled images. Each datapoint is a $28\\times 28$ pixels grayscale image.\n",
    "*   However because of compute limitations, we will use a much smaller dataset with size $8\\times 8$ images. These images are loaded from `sklearn.datasets`.\n",
    "\n",
    "**Agenda**:\n",
    "* In this programming challenge, you will be performing multiclass classification on the simplified MNIST dataset.\n",
    "* You will be applying Multiclass Logistic Regression from scratch. You will work with both Mean Square Error (L2) loss and Cross Entropy (CE) loss with gradient descent (GD) as well as stochastic/mini-batch gradient descent (SGD). \n",
    "* You will also see how using PyTorch does much of the heavylifting for modeling and training.\n",
    "* Finally, you will train a 2-hidden-layer Neural Network model on the image dataset.\n",
    "* All the predictions will be evaluated on a test set.\n",
    "\n",
    "**Note:**\n",
    "* Hardware accelaration is not needed but is recommended!\n",
    "* A note on working with GPU:\n",
    "  * Take care that whenever declaring new tensors, set `device=device` in parameters. \n",
    "  * You can also move a declared torch tensor/model to device using `.to(device)`. \n",
    "  * To move a torch model/tensor to cpu, use `.to('cpu')`\n",
    "  * Keep in mind that all the tensors/model involved in a computation have to be on the same device (CPU/GPU).\n",
    "* Run all the cells in order.\n",
    "* **Do not edit** the cells marked with !!DO NOT EDIT!!\n",
    "* Only **add your code** to cells marked with !!!! YOUR CODE HERE !!!!\n",
    "* Do not change variable names, and use the names which are suggested."
   ]
  },
  {
   "cell_type": "markdown",
   "metadata": {
    "id": "ZUJgYttwjmpK"
   },
   "source": [
    "\n",
    "\n",
    "---\n",
    "\n"
   ]
  },
  {
   "cell_type": "code",
   "execution_count": 74,
   "metadata": {
    "colab": {
     "base_uri": "https://localhost:8080/"
    },
    "id": "qNtGmOhl1I_m",
    "outputId": "cd8c1a22-ae01-477a-81a8-8fb4f010f84a"
   },
   "outputs": [
    {
     "name": "stdout",
     "output_type": "stream",
     "text": [
      "Number of images: 1797\n",
      "Number of features per image: 64\n"
     ]
    }
   ],
   "source": [
    "# !!DO NOT EDIT!!\n",
    "# imports\n",
    "import torch\n",
    "import numpy as np\n",
    "import math\n",
    "from tqdm.notebook import tqdm\n",
    "import matplotlib.pyplot as plt\n",
    "from sklearn.datasets import load_digits\n",
    "from sklearn.model_selection import train_test_split\n",
    "from sklearn.metrics import accuracy_score\n",
    "\n",
    "# loading the dataset directly from the scikit-learn library\n",
    "dataset = load_digits()\n",
    "X = dataset.data\n",
    "y = dataset.target\n",
    "print('Number of images:', X.shape[0])\n",
    "print('Number of features per image:', X.shape[1])"
   ]
  },
  {
   "cell_type": "code",
   "execution_count": 75,
   "metadata": {
    "colab": {
     "base_uri": "https://localhost:8080/",
     "height": 395
    },
    "id": "qDy8xSdXyJI3",
    "outputId": "d92a78fb-6869-4760-95a1-c39bbc4afb92"
   },
   "outputs": [
    {
     "data": {
      "image/png": "[encoded data removed]",
      "text/plain": [
       "<Figure size 720x432 with 10 Axes>"
      ]
     },
     "metadata": {},
     "output_type": "display_data"
    }
   ],
   "source": [
    "# !!DO NOT EDIT!!\n",
    "# utility function to plot gallery of images\n",
    "def plot_gallery(images, titles, height, width, n_row=2, n_col=4):\n",
    "    plt.figure(figsize=(2* n_col, 3 * n_row))\n",
    "    plt.subplots_adjust(bottom=0, left=0.01, right=0.99, top=0.90, hspace=0.35)\n",
    "    for i in range(n_row * n_col):\n",
    "        plt.subplot(n_row, n_col, i + 1)\n",
    "        plt.imshow(images[i].reshape((height, width)), cmap=plt.cm.gray)\n",
    "        plt.title(titles[i], size=12)\n",
    "        plt.xticks(())\n",
    "        plt.yticks(())\n",
    "\n",
    "# visualize some of the images of the MNIST dataset\n",
    "plot_gallery(X, y, 8, 8, 2, 5)"
   ]
  },
  {
   "cell_type": "code",
   "execution_count": 76,
   "metadata": {
    "colab": {
     "base_uri": "https://localhost:8080/"
    },
    "id": "lLRlr0wNOKI1",
    "outputId": "ee065c49-bbd3-4fe5-f219-1a90bd48b2db"
   },
   "outputs": [
    {
     "name": "stdout",
     "output_type": "stream",
     "text": [
      "Shape of train dataset: (1437, 64)\n",
      "Shape of evaluation dataset: (360, 64)\n"
     ]
    }
   ],
   "source": [
    "# !!DO NOT EDIT!!\n",
    "# Let us split the dataset into training and test sets in a stratified manner.\n",
    "# Note that we are not creating evaluation datset as we will not be tuning hyper-parameters\n",
    "# The split ratio is 4:1\n",
    "X_train, X_test, y_train, y_test = train_test_split(X, y, test_size=0.2, random_state=42, stratify=y)\n",
    "print('Shape of train dataset:', X_train.shape)\n",
    "print('Shape of evaluation dataset:', X_test.shape)"
   ]
  },
  {
   "cell_type": "code",
   "execution_count": 77,
   "metadata": {
    "id": "T6Jam6RdFeIm"
   },
   "outputs": [],
   "source": [
    "# !!DO NOT EDIT!!\n",
    "# define some constants - useful for later\n",
    "num_classes = len(np.unique(y)) # number of target classes = 10 -- (0,1,2,3,4,5,6,7,8,9)\n",
    "num_features = X.shape[1]       # number of features = 64\n",
    "max_epochs = 100000             # max number of epochs for training\n",
    "lr = 1e-2                       # learning rate\n",
    "tolerance = 1e-6                # tolerance for early stopping during training"
   ]
  },
  {
   "cell_type": "code",
   "execution_count": 78,
   "metadata": {
    "id": "hgMgGeeUUFb-"
   },
   "outputs": [],
   "source": [
    "# !!DO NOT EDIT!!\n",
    "# Hardware Accelaration: to set device if using GPU.\n",
    "# You can change runtime in colab by naviagting to (Runtime->Change runtime type), and selecting GPU in hardware accelarator.\n",
    "# NOTE that you can run this homework without GPU.\n",
    "device = 'cuda' if torch.cuda.is_available() else 'cpu'"
   ]
  },
  {
   "cell_type": "markdown",
   "metadata": {
    "id": "BBvXcyFhmLvU"
   },
   "source": [
    "\n",
    "\n",
    "---\n",
    "\n"
   ]
  },
  {
   "cell_type": "markdown",
   "metadata": {
    "id": "nhpUZN-ES_e0"
   },
   "source": [
    "### **(a)** In this section, we will apply multiclass logistic regression from scratch with one-vs-all strategy using gradient descent (GD) as well as stochastic gradient descent (SGD) with Mean Squared Error (MSE) loss. (8 points)\n",
    "### We will be using a linear model $y^{(i)} = W \\mathbf{x}^{(i)},$ where $ W_{p\\times n}= \\begin{bmatrix}\n",
    "\\leftarrow & \\mathbf{w}_1^\\top & \\rightarrow \\\\\n",
    "\\leftarrow & \\mathbf{w}_2^\\top & \\rightarrow\\\\\n",
    " & \\vdots &  \\\\\n",
    "\\leftarrow & \\mathbf{w}_p^\\top & \\rightarrow \\\\\n",
    "\\end{bmatrix}$, and $p$ is the number of target classes. Also, $\\mathbf{x}^{(i)}\\in \\mathbb{R}^n, y^{(i)}\\in \\mathbb{R}$, and\n",
    "### $X = \\begin{bmatrix}\n",
    "\\uparrow &  \\uparrow & \\dotsm &  \\uparrow\\\\\n",
    "\\mathbf{x}^{(1)} & \\mathbf{x}^{(2)} & \\dotsm & \\mathbf{x}^{(m)} \\\\\n",
    "\\downarrow & \\downarrow  & \\dotsm & \\downarrow  \\\\\n",
    "\\end{bmatrix}, Y = \\begin{bmatrix}\n",
    "y^{(1)}\\\\\n",
    "y^{(2)} \\\\\n",
    "\\vdots \\\\\n",
    "y^{(m)} \\\\\n",
    "\\end{bmatrix}$, where $m$ is the number of datapoints.\n",
    "\n",
    "\n",
    "### **#1.** Follow the steps outlined below:"
   ]
  },
  {
   "cell_type": "code",
   "execution_count": 79,
   "metadata": {
    "id": "cQGB7Y9cUO2V"
   },
   "outputs": [],
   "source": [
    "# 1. Scale the features between 0 and 1 \n",
    "# To scale, you can directly use the MinMaxScaler from sklearn.\n",
    "#######\n",
    "# !!!! YOUR CODE HERE !!!!\n",
    "from sklearn.preprocessing import MinMaxScaler\n",
    "scaler = MinMaxScaler()\n",
    "X_train = scaler.fit_transform(X_train)\n",
    "X_test = scaler.transform(X_test)\n",
    "# output variable names -  X_train, X_test\n",
    "#######"
   ]
  },
  {
   "cell_type": "code",
   "execution_count": 80,
   "metadata": {
    "colab": {
     "base_uri": "https://localhost:8080/"
    },
    "id": "iZRF8HumUlen",
    "outputId": "a3b2ca5f-20ec-4b80-bba9-4b2392125f82"
   },
   "outputs": [
    {
     "name": "stdout",
     "output_type": "stream",
     "text": [
      "Shape of y_train_ohe: (1437, 10)\n",
      "Shape of y_test_ohe: (360, 10)\n"
     ]
    }
   ],
   "source": [
    "# 2. One-Hot encode the target labels\n",
    "# To one-hot encode, you can use the OneHotEncoder from sklearn\n",
    "#######\n",
    "# !!!! YOUR CODE HERE !!!!\n",
    "from sklearn.preprocessing import OneHotEncoder\n",
    "encoder = OneHotEncoder(sparse=False)\n",
    "y_train_reshaped = y_train.reshape(-1, 1)\n",
    "y_test_reshaped = y_test.reshape(-1, 1)\n",
    "\n",
    "y_train_ohe = encoder.fit_transform(y_train_reshaped)\n",
    "y_test_ohe = encoder.transform(y_test_reshaped)\n",
    "\n",
    "# output variable names -  y_train_ohe, y_test_ohe\n",
    "#######\n",
    "print('Shape of y_train_ohe:',y_train_ohe.shape)\n",
    "print('Shape of y_test_ohe:',y_test_ohe.shape)"
   ]
  },
  {
   "cell_type": "markdown",
   "metadata": {
    "id": "lJN3wY7CXe10"
   },
   "source": [
    "**Note:** Here we need to define the model prediction. The input matrix is $X_{n\\times m}$ where $m$ is the number of examples, and $n$ is the number of features. The linear predictions can be given by: $Y = WX + b$ where $W$ is a $p\\times n$ weight matrix and $\\mathbf{b}$ is a $p$ size bias vector. $p$ is the number of target labels."
   ]
  },
  {
   "cell_type": "markdown",
   "metadata": {
    "id": "AztFFkzUuHW1"
   },
   "source": [
    "### **#2.** Define a function `linear_model` that takes as input a weight matrix (`W`), bias vector (`b`), and input data matrix of size $m\\times n$ (`XT`). This function should return the predictions $\\hat{y}$. "
   ]
  },
  {
   "cell_type": "code",
   "execution_count": 81,
   "metadata": {
    "id": "75DOhP-EVsRs"
   },
   "outputs": [],
   "source": [
    "#######\n",
    "# !!!! YOUR CODE HERE !!!!\n",
    "def linear_model(W, b, XT):\n",
    "  W = W.T\n",
    "  y_pred = torch.mm(XT, W) + b\n",
    "  return y_pred\n",
    "\n",
    "#######"
   ]
  },
  {
   "cell_type": "markdown",
   "metadata": {
    "id": "ejbSxyl2du2L"
   },
   "source": [
    "**Note:** The loss function that we would be using is the Mean Square Error (L2) Loss:\\\n",
    "$\\displaystyle MSE = \\frac{1}{m}\\sum_{i=1}^m(\\hat{y}^{(i)}-y^{(i)})^2$, where $m$ is the number of examples, $\\hat{y}^{(i)}$ is the \n",
    "predicted value and $y^{(i)}$ is the ground truth."
   ]
  },
  {
   "cell_type": "markdown",
   "metadata": {
    "id": "8snSDdp4u49o"
   },
   "source": [
    "### **#3.**Define a function `mse_loss` that takes as input prediction (`y_pred`) and actual labels (`y`), and returns the MSE loss."
   ]
  },
  {
   "cell_type": "code",
   "execution_count": 82,
   "metadata": {
    "id": "MGjd_pYPduV0"
   },
   "outputs": [],
   "source": [
    "#######\n",
    "# !!!! YOUR CODE HERE !!!!\n",
    "def mse_loss(y_pred, y):\n",
    "  error = y_pred - y\n",
    "  loss = (error ** 2).mean()\n",
    "  return loss\n",
    "#######"
   ]
  },
  {
   "cell_type": "markdown",
   "metadata": {
    "id": "d27EoDd1vIA7"
   },
   "source": [
    "In the following part, we will do some setup required for training such as initializing weights and biases moving everything to torch tensors.\n",
    "\n",
    "### **#4.** Define a function: `initializeWeightsAndBiases` that returns tuple `(W, b)`, where `W` is a randomly generated torch tensor of size `num_classes x num_features`, and `b` is a randomly generated torch vector of size `num_classes`. For both the tensors, set `requires_grad=True` in parameters."
   ]
  },
  {
   "cell_type": "markdown",
   "metadata": {
    "id": "Rqj4Xy_QwRBs"
   },
   "source": [
    "### **#5.** Additionally, Move all training and testing data to torch tensors with `dtype=float32`. Remember to set `device=device` in parameters."
   ]
  },
  {
   "cell_type": "code",
   "execution_count": 83,
   "metadata": {
    "id": "B8YiUt1ewQYz"
   },
   "outputs": [],
   "source": [
    "#######\n",
    "# !!!! YOUR CODE HERE !!!!\n",
    "def initializeWeightsAndBiases():\n",
    "  W = torch.randn(num_classes, num_features, requires_grad=True, device=device )\n",
    "  b = torch.randn(num_classes, requires_grad=True, device=device)\n",
    "  return W, b\n",
    "\n",
    "X_train_torch = torch.from_numpy(X_train).float().to(device)\n",
    "X_test_torch = torch.from_numpy(X_test).float().to(device)\n",
    "y_train_ohe_torch = torch.from_numpy(y_train_ohe).float().to(device)\n",
    "y_test_ohe_torch = torch.from_numpy(y_test_ohe).float().to(device)\n",
    "\n",
    "# output variable names -  X_train_torch, X_test_torch, y_train_ohe_torch, y_test_ohe_torch\n",
    "#######"
   ]
  },
  {
   "cell_type": "markdown",
   "metadata": {
    "id": "wpiEdcLYg6Vb"
   },
   "source": [
    "### **#6.** In this part we will implement the code for training. Given below is a function: `train_linear_regression_model` that takes as input max number of epochs (`max_epochs`), batch size (`batch_size`), Weights (`W`), Biases (`b`), training data (`X_train, y_train`), learning rate (`lr`), tolerance for stopping (`tolerance`). It return a tuple `(W,b,losses)` where `W,b` are the trained weigths and biases respectively, and `losses` is a list of tuples of loss logged every $100^{th}$  epoch.\n",
    "\n",
    "Complete each of the steps outlines below. You can go through [this](https://towardsdatascience.com/understanding-pytorch-with-an-example-a-step-by-step-tutorial-81fc5f8c4e8e#ea0d) article for reference."
   ]
  },
  {
   "cell_type": "code",
   "execution_count": 84,
   "metadata": {
    "id": "xZrxj7NEJhiw"
   },
   "outputs": [],
   "source": [
    "# Define a function train_linear_regression_model\n",
    "def train_linear_regression_model(max_epochs, batch_size, W, b, X_train, y_train, lr, tolerance):\n",
    "  losses = []\n",
    "  prev_loss = float('inf')\n",
    "  number_of_batches = math.ceil(len(X_train)/batch_size)\n",
    "\n",
    "  for epoch in tqdm(range(max_epochs)):\n",
    "    for i in range(number_of_batches):\n",
    "      X_train_batch = X_train[i*batch_size: (i+1)*batch_size]\n",
    "      y_train_batch = y_train[i*batch_size: (i+1)*batch_size]\n",
    "     \n",
    "      #######\n",
    "      # !!!! YOUR CODE HERE !!!!\n",
    "      # 7. do prediction\n",
    "      y_pred_batch = linear_model(W, b, X_train_batch)\n",
    "\n",
    "      # 8. get the loss\n",
    "      # loss = ______\n",
    "      loss = mse_loss(y_pred_batch, y_train_batch)\n",
    "\n",
    "      # 9. backpropagate loss\n",
    "      loss.backward()\n",
    "\n",
    "      # 10. update the weights and biasees\n",
    "      with torch.no_grad():\n",
    "        W -= lr * W.grad\n",
    "        b -= lr * b.grad\n",
    "      \n",
    "      # 11. set the gradients to \n",
    "      W.grad.zero_()\n",
    "      b.grad.zero_()\n",
    "      \n",
    "      #######\n",
    "\n",
    "    # log loss every 100th epoch and print every 5000th epoch:\n",
    "    if epoch%100==0:\n",
    "      losses.append((epoch, loss.item()))\n",
    "      if epoch%5000==0:\n",
    "        print('Epoch: {}, Loss: {}'.format(epoch, loss.item()))\n",
    "\n",
    "    # break if decrease in loss is less than threshold\n",
    "    if abs(prev_loss-loss)<=tolerance:\n",
    "      break\n",
    "    else:\n",
    "      prev_loss=loss  \n",
    "\n",
    "  # return updated weights, biases, and logged losses\n",
    "  return W, b, losses"
   ]
  },
  {
   "cell_type": "markdown",
   "metadata": {
    "id": "QFJ-tBGgeOdw"
   },
   "source": [
    "### **#7.** Initialize weights and biases using the `initializeWeightsAndBiases` function that you defined earlier, and train your model using function `train_linear_regression_model` defined above. Use full batch (set `batch_size=len(X_train)` for training (Gradient Descent). Also plot the graph of loss vs number of epochs (Recall that values for learning rate (`lr`) and tolerance (`tolerance`) are already defined above)."
   ]
  },
  {
   "cell_type": "code",
   "execution_count": 85,
   "metadata": {
    "colab": {
     "base_uri": "https://localhost:8080/",
     "height": 518,
     "referenced_widgets": [
      "48283d95bcd04e2e8e769722ed72d582",
      "8dee5001c4524dae9a25304299ca1e31",
      "f6e426e77be3457d85dd630ee6d125b5",
      "510d83f4c8bc4e12a0aa95f8313c85d9",
      "ab63877692834578b74f39523dd1c11d",
      "86177bdd34b54f339d762599f4a6ef6d",
      "0dd1bc214083440883126b0d0006ca62",
      "331ee831c65d4d39a889b7c1e291d73d",
      "13c2bbc03e5641eaa8b6ccb6f12a04a8",
      "85e3c898e2174701a8b11b4648810118",
      "0ed7104997e54003bbbca3804dcfb302"
     ]
    },
    "id": "zHfBioX0K294",
    "outputId": "0a83c7b0-4e06-4fa8-8334-7d9805ae1964"
   },
   "outputs": [
    {
     "data": {
      "application/vnd.jupyter.widget-view+json": {
       "model_id": "48283d95bcd04e2e8e769722ed72d582",
       "version_major": 2,
       "version_minor": 0
      },
      "text/plain": [
       "  0%|          | 0/100000 [00:00<?, ?it/s]"
      ]
     },
     "metadata": {},
     "output_type": "display_data"
    },
    {
     "name": "stdout",
     "output_type": "stream",
     "text": [
      "Epoch: 0, Loss: 14.275823593139648\n",
      "Epoch: 5000, Loss: 0.5161155462265015\n",
      "Epoch: 10000, Loss: 0.2853960692882538\n",
      "Epoch: 15000, Loss: 0.19792674481868744\n",
      "Epoch: 20000, Loss: 0.15227651596069336\n",
      "Epoch: 25000, Loss: 0.12424086034297943\n",
      "Epoch: 30000, Loss: 0.1053338423371315\n",
      "Epoch: 35000, Loss: 0.09182585775852203\n",
      "Epoch: 40000, Loss: 0.08179600536823273\n",
      "Epoch: 45000, Loss: 0.07413698732852936\n",
      "Epoch: 50000, Loss: 0.06815899908542633\n"
     ]
    },
    {
     "data": {
      "image/png": "[encoded data removed]",
      "text/plain": [
       "<Figure size 432x288 with 1 Axes>"
      ]
     },
     "metadata": {
      "needs_background": "light"
     },
     "output_type": "display_data"
    }
   ],
   "source": [
    "#######\n",
    "# !!!! YOUR CODE HERE !!!!\n",
    "W, b = initializeWeightsAndBiases()\n",
    "\n",
    "W, b, losses = train_linear_regression_model(max_epochs = 100000, batch_size = len(X_train_torch), W = W, b = b, X_train = X_train_torch,\n",
    "                                             y_train = y_train_ohe_torch, lr = lr, tolerance = tolerance)\n",
    "\n",
    "# Plotting loss vs no of epochs graph\n",
    "epoch_list = []\n",
    "loss_list = []\n",
    "for data in losses:\n",
    "  epoch_list.append(data[0])\n",
    "  loss_list.append(data[1])\n",
    "\n",
    "plt.title(\"Linear Model - Scratch + MSE Loss + Full Batch\")\n",
    "plt.xlabel(\"Number of Epochs\")\n",
    "plt.ylabel(\"Training Loss\")\n",
    "plt.plot(epoch_list, loss_list)\n",
    "plt.show()\n",
    "\n",
    "#######"
   ]
  },
  {
   "cell_type": "code",
   "execution_count": 86,
   "metadata": {
    "colab": {
     "base_uri": "https://localhost:8080/"
    },
    "id": "QIDhQXpTYX9T",
    "outputId": "82cc4792-d9ce-4c37-f305-ce048977c9ed"
   },
   "outputs": [
    {
     "name": "stdout",
     "output_type": "stream",
     "text": [
      "Train accuracy: 0.8469032707028532\n",
      "Test accuracy: 0.8583333333333333\n"
     ]
    }
   ],
   "source": [
    "# !!DO NOT EDIT!!\n",
    "# print accuracies of model\n",
    "predictions_train = linear_model(W,b,X_train_torch).to('cpu')\n",
    "predictions_test = linear_model(W,b,X_test_torch).to('cpu')\n",
    "y_train_pred = torch.argmax(predictions_train, dim=1).numpy()\n",
    "\n",
    "y_test_pred = torch.argmax(predictions_test, dim=1).numpy()\n",
    "print(\"Train accuracy:\",accuracy_score(y_train_pred, np.asarray(y_train, dtype=np.float32)))\n",
    "print(\"Test accuracy:\",accuracy_score(y_test_pred, np.asarray(y_test, dtype=np.float32)))"
   ]
  },
  {
   "cell_type": "markdown",
   "metadata": {
    "id": "RZprgWslioL7"
   },
   "source": [
    "### **#8.** Now, retrain the above model with `batch_size=64` (Stochastic/Mini-batch Gradient Descent) keeping else everything same. Like before, plot the graph between loss and number of epochs."
   ]
  },
  {
   "cell_type": "code",
   "execution_count": 87,
   "metadata": {
    "colab": {
     "base_uri": "https://localhost:8080/",
     "height": 362,
     "referenced_widgets": [
      "c507a3d0370649e2a3357584f8bf37c4",
      "36dc083d20d641c8a129054f3171f724",
      "65eeac386d2d4068babd3198e07949d9",
      "cc3c7690f68b40588c89425be7ab0393",
      "0868dd303fec4bea9ca873fc02e73e66",
      "6b2c4f00dbec41a0ad2d5f753321277f",
      "7040097a67b54bcc85d65b5dbc4b1ea1",
      "4f34fc4cc0884adba86fa935a0ca5c1d",
      "bc0a7abc0b65478babdb5bb5da9a81fd",
      "a1216ddf6d43428a82e8e797eeff0001",
      "ebf6ae03c4694e5785cedf286e6648c6"
     ]
    },
    "id": "5NMg8pDYinSo",
    "outputId": "62b7e883-8ed8-45f1-cd83-ffa840eea560"
   },
   "outputs": [
    {
     "data": {
      "application/vnd.jupyter.widget-view+json": {
       "model_id": "c507a3d0370649e2a3357584f8bf37c4",
       "version_major": 2,
       "version_minor": 0
      },
      "text/plain": [
       "  0%|          | 0/100000 [00:00<?, ?it/s]"
      ]
     },
     "metadata": {},
     "output_type": "display_data"
    },
    {
     "name": "stdout",
     "output_type": "stream",
     "text": [
      "Epoch: 0, Loss: 10.737175941467285\n",
      "Epoch: 5000, Loss: 0.038609910756349564\n"
     ]
    },
    {
     "data": {
      "image/png": "[encoded data removed]",
      "text/plain": [
       "<Figure size 432x288 with 1 Axes>"
      ]
     },
     "metadata": {
      "needs_background": "light"
     },
     "output_type": "display_data"
    }
   ],
   "source": [
    "#######\n",
    "# !!!! YOUR CODE HERE !!!!\n",
    "W, b = initializeWeightsAndBiases()\n",
    "\n",
    "W, b, losses = train_linear_regression_model(max_epochs = 100000, batch_size = 64, W = W, b = b, X_train = X_train_torch,\n",
    "                                             y_train = y_train_ohe_torch, lr = lr, tolerance = tolerance)\n",
    "\n",
    "# Plotting loss vs no of epochs graph\n",
    "epoch_list = []\n",
    "loss_list = []\n",
    "for data in losses:\n",
    "  epoch_list.append(data[0])\n",
    "  loss_list.append(data[1])\n",
    "\n",
    "plt.title(\"Linear Model - Scratch + MSE Loss + Mini Batch\")\n",
    "plt.xlabel(\"Number of Epochs\")\n",
    "plt.ylabel(\"Training Loss\")\n",
    "plt.plot(epoch_list, loss_list)\n",
    "plt.show()\n",
    "\n",
    "#######"
   ]
  },
  {
   "cell_type": "code",
   "execution_count": 88,
   "metadata": {
    "colab": {
     "base_uri": "https://localhost:8080/"
    },
    "id": "y5O3T2zkjy2S",
    "outputId": "f02054fe-e315-4607-fb59-c794aa3d8b9c"
   },
   "outputs": [
    {
     "name": "stdout",
     "output_type": "stream",
     "text": [
      "Train accuracy: 0.9366736256089074\n",
      "Test accuracy: 0.9277777777777778\n"
     ]
    }
   ],
   "source": [
    "# !!DO NOT EDIT!!\n",
    "# print accuracies of model\n",
    "predictions_train = linear_model(W,b,X_train_torch).to('cpu')\n",
    "predictions_test = linear_model(W,b,X_test_torch).to('cpu')\n",
    "y_train_pred = torch.argmax(predictions_train, dim=1).numpy()\n",
    "\n",
    "y_test_pred = torch.argmax(predictions_test, dim=1).numpy()\n",
    "print(\"Train accuracy:\",accuracy_score(y_train_pred, np.asarray(y_train, dtype=np.float32)))\n",
    "print(\"Test accuracy:\",accuracy_score(y_test_pred, np.asarray(y_test, dtype=np.float32)))"
   ]
  },
  {
   "cell_type": "markdown",
   "metadata": {
    "id": "QHPAmI5BmHkv"
   },
   "source": [
    "\n",
    "\n",
    "---\n",
    "\n"
   ]
  },
  {
   "cell_type": "markdown",
   "metadata": {
    "id": "iz8cNUXR5DOu"
   },
   "source": [
    "### **(b)** In the previous question, we defined the model, loss, and even the gradient update step. We also had to manully set the grad to zero. In this question, we will re-implement the linear model and see how we can directly use Pytorch to do all this for us in a few simple steps. (6 points)"
   ]
  },
  {
   "cell_type": "code",
   "execution_count": 89,
   "metadata": {
    "id": "Lwm9t0K0lbvl"
   },
   "outputs": [],
   "source": [
    "# !! DO NOT EDIT !!\n",
    "# common utility function to print accuracies\n",
    "def print_accuracies_torch(model, X_train_torch, X_test_torch, y_train, y_test):\n",
    "  predictions_train = model(X_train_torch).to('cpu')\n",
    "  predictions_test = model(X_test_torch).to('cpu')\n",
    "  y_train_pred = torch.argmax(predictions_train, dim=1).numpy()\n",
    "  y_test_pred = torch.argmax(predictions_test, dim=1).numpy()\n",
    "  print(\"Train accuracy:\",accuracy_score(y_train_pred, np.asarray(y_train, dtype=np.float32)))\n",
    "  print(\"Test accuracy:\",accuracy_score(y_test_pred, np.asarray(y_test, dtype=np.float32)))"
   ]
  },
  {
   "cell_type": "markdown",
   "metadata": {
    "id": "MSjn0TlT0_X5"
   },
   "source": [
    "### **#1.** Define the linear model using PyTorch"
   ]
  },
  {
   "cell_type": "code",
   "execution_count": 90,
   "metadata": {
    "id": "tAVqYskI4ohI"
   },
   "outputs": [],
   "source": [
    "#######\n",
    "# !!!! YOUR CODE HERE !!!!\n",
    "import torch.nn as nn\n",
    "# Define a model class using torch.nn\n",
    "class Linear_Model(torch.nn.Module):\n",
    "  def __init__(self):\n",
    "    super(Linear_Model, self).__init__()\n",
    "    # Initalize various layers of model as instructed below\n",
    "    # 1. initialze one linear layer: num_features -> num_targets\n",
    "    self.linear = nn.Linear(num_features, num_classes)\n",
    "\n",
    "  def forward(self, X):\n",
    "    # 2. define the feedforward algorithm of the model and return the final output\n",
    "    return self.linear(X)\n",
    "\n",
    "#######"
   ]
  },
  {
   "cell_type": "markdown",
   "metadata": {
    "id": "9zyx8lVTFq8q"
   },
   "source": [
    "### **#2.** In this part we will implement a general function for training a PyTorch model. Define a general training function: `train_torch_model` that takes as input an initialized torch model (`model`), batch size (`batch_size`), initialized loss (`criterion`), max number of epochs (`max_epochs`), training data (`X_train, y_train`), learning rate (`lr`), tolerance for stopping (`tolerance`). This function will return a tuple `(model, losses)`, where `model` is the trained model, and `losses` is a list of tuples of loss logged every $100^{th}$ epoch. Complete each of the steps outlines below. You can go through [this](https://towardsdatascience.com/understanding-pytorch-with-an-example-a-step-by-step-tutorial-81fc5f8c4e8e#ea0d) article for reference.  You can also refer Q3-(d) from HW1."
   ]
  },
  {
   "cell_type": "code",
   "execution_count": 91,
   "metadata": {
    "id": "4T04zQPE53rS"
   },
   "outputs": [],
   "source": [
    "# Define a function train_torch_model\n",
    "def train_torch_model(model, batch_size, criterion, max_epochs, X_train, y_train, lr, tolerance):\n",
    "  losses = []\n",
    "  prev_loss = float('inf')\n",
    "  number_of_batches = math.ceil(len(X_train)/batch_size)\n",
    "  \n",
    "  #######\n",
    "  # !!!! YOUR CODE HERE !!!!\n",
    "  # 3. move model to device\n",
    "  model = model.to(device)\n",
    "\n",
    "  # 4. define optimizer (use torch.optim.SGD (Stochastic Gradient Descent)) \n",
    "  # Set learning rate to lr and also set model parameters\n",
    "  optimizer = torch.optim.SGD(model.parameters(), lr = lr) \n",
    "\n",
    "  for epoch in tqdm(range(max_epochs)):\n",
    "    for i in range(number_of_batches):\n",
    "      X_train_batch = X_train[i*batch_size: (i+1)*batch_size]\n",
    "      y_train_batch = y_train[i*batch_size: (i+1)*batch_size]\n",
    "\n",
    "      # 5. reset gradients\n",
    "      optimizer.zero_grad()\n",
    "\n",
    "      # 6. prediction\n",
    "      y_pred_batch = model(X_train_batch)\n",
    "\n",
    "      # 7. calculate loss\n",
    "      loss = criterion(y_pred_batch, y_train_batch)\n",
    "\n",
    "      # 8. backpropagate loss\n",
    "      loss.backward()\n",
    "\n",
    "      # 9. perform a single gradient update step\n",
    "      optimizer.step()\n",
    "\n",
    "  #######\n",
    "\n",
    "    # log loss every 100th epoch and print every 5000th epoch:\n",
    "    if epoch%100==0:\n",
    "      losses.append((epoch, loss.item()))\n",
    "      if epoch%5000==0:\n",
    "        print('Epoch: {}, Loss: {}'.format(epoch, loss.item()))\n",
    "    \n",
    "    # break if decrease in loss is less than threshold\n",
    "    if abs(prev_loss-loss)<=tolerance:\n",
    "      break\n",
    "    else:\n",
    "      prev_loss=loss  \n",
    "\n",
    "  # return updated model and logged losses\n",
    "  return model, losses"
   ]
  },
  {
   "cell_type": "markdown",
   "metadata": {
    "id": "Y7RzDMajj8sc"
   },
   "source": [
    "### **#3.** Initialize your model and loss function. Use `nn.MSELoss`. Use full batch for training (Gradient Descent). Also plot the graph of loss vs number of epochs."
   ]
  },
  {
   "cell_type": "code",
   "execution_count": 92,
   "metadata": {
    "colab": {
     "base_uri": "https://localhost:8080/",
     "height": 362,
     "referenced_widgets": [
      "c2f61469f5f54f5ab151c3a2a7cb207d",
      "1881c07e75d541d5ba70604a835498ae",
      "7214bb43e8fa463ca075c16b39fdf348",
      "cecc0a837e6a4c77861fb207c09bb8f0",
      "3bd3becd7d7f4a9fb00c48eb658332af",
      "1c2dd0e50ab7499a8360f12a9ef1aa40",
      "85fa9b5acc0d44d490f3b925ddd69143",
      "9043f0a1852b48b2b5473c1cc695279f",
      "11ef84a58c064335ac10cebe86007a30",
      "3fc01942ec194e228b6fb6a533a996cf",
      "f8bee263b61a467baf4c796dad5e36ad"
     ]
    },
    "id": "LDm0__pE6edF",
    "outputId": "948be326-15c4-4d95-a2b2-63ac0c907e5c"
   },
   "outputs": [
    {
     "data": {
      "application/vnd.jupyter.widget-view+json": {
       "model_id": "c2f61469f5f54f5ab151c3a2a7cb207d",
       "version_major": 2,
       "version_minor": 0
      },
      "text/plain": [
       "  0%|          | 0/100000 [00:00<?, ?it/s]"
      ]
     },
     "metadata": {},
     "output_type": "display_data"
    },
    {
     "name": "stdout",
     "output_type": "stream",
     "text": [
      "Epoch: 0, Loss: 0.18567894399166107\n",
      "Epoch: 5000, Loss: 0.03936692699790001\n"
     ]
    },
    {
     "data": {
      "image/png": "[encoded data removed]",
      "text/plain": [
       "<Figure size 432x288 with 1 Axes>"
      ]
     },
     "metadata": {
      "needs_background": "light"
     },
     "output_type": "display_data"
    }
   ],
   "source": [
    "#######\n",
    "# !!!! YOUR CODE HERE !!!!\n",
    "model = Linear_Model()\n",
    "criterion = nn.MSELoss()\n",
    "\n",
    "model, losses = train_torch_model(model = model, batch_size = len(X_train_torch), criterion = criterion, max_epochs = 100000,\n",
    "                                  X_train = X_train_torch, y_train = y_train_ohe_torch, lr = lr, tolerance = tolerance)\n",
    "\n",
    "# Plotting loss vs no of epochs graph\n",
    "epoch_list = []\n",
    "loss_list = []\n",
    "for data in losses:\n",
    "  epoch_list.append(data[0])\n",
    "  loss_list.append(data[1])\n",
    "\n",
    "plt.title(\"Linear Model - PyTorch + MSE Loss + Full Batch\")\n",
    "plt.xlabel(\"Number of Epochs\")\n",
    "plt.ylabel(\"Training Loss\")\n",
    "plt.plot(epoch_list, loss_list)\n",
    "plt.show()\n",
    "\n",
    "\n",
    "#######"
   ]
  },
  {
   "cell_type": "code",
   "execution_count": 93,
   "metadata": {
    "colab": {
     "base_uri": "https://localhost:8080/"
    },
    "id": "TIMHwStJ8zzl",
    "outputId": "87efc06e-d70a-4124-f0cc-c81e638fe7c2"
   },
   "outputs": [
    {
     "name": "stdout",
     "output_type": "stream",
     "text": [
      "Train accuracy: 0.9311064718162839\n",
      "Test accuracy: 0.9388888888888889\n"
     ]
    }
   ],
   "source": [
    "# !!DO NOT EDIT!!\n",
    "# print accuracies of model\n",
    "print_accuracies_torch(model, X_train_torch, X_test_torch, y_train, y_test)"
   ]
  },
  {
   "cell_type": "markdown",
   "metadata": {
    "id": "eMXOadCpkufn"
   },
   "source": [
    "### **#4.** Now, retrain the above model with `batch_size=64` (Stochastic/Mini-batch Gradient Descent) keeping else everything same. Like before, plot the graph between loss and number of epochs."
   ]
  },
  {
   "cell_type": "code",
   "execution_count": 94,
   "metadata": {
    "colab": {
     "base_uri": "https://localhost:8080/",
     "height": 344,
     "referenced_widgets": [
      "e30d0864fa884f848a01ac5ad2c41717",
      "5b4409ae2a464615a24f0f9a88734430",
      "3ab619a743c740c2ab7d8eb0aa55f06c",
      "d54f3d307fc644bba059d30a85e656b6",
      "0a3ddfa756874414935bf3bf0a31e5b4",
      "b3127d3925964c54a43d4c789f022974",
      "c8fd19f58a9b419d93f10e8dee2bc1a1",
      "d5bb239d53ed4039b7b598fa27019006",
      "d4a4a38de36c4473b2b8ae5d22edd434",
      "16993ef3b8274f35a25e3c3e49ba1c1a",
      "d20ba89c26314963afab101633bd3f5d"
     ]
    },
    "id": "xsj_apLOkt17",
    "outputId": "9b668629-cd98-4837-c4fc-8933177e833e"
   },
   "outputs": [
    {
     "data": {
      "application/vnd.jupyter.widget-view+json": {
       "model_id": "e30d0864fa884f848a01ac5ad2c41717",
       "version_major": 2,
       "version_minor": 0
      },
      "text/plain": [
       "  0%|          | 0/100000 [00:00<?, ?it/s]"
      ]
     },
     "metadata": {},
     "output_type": "display_data"
    },
    {
     "name": "stdout",
     "output_type": "stream",
     "text": [
      "Epoch: 0, Loss: 0.14009779691696167\n"
     ]
    },
    {
     "data": {
      "image/png": "[encoded data removed]",
      "text/plain": [
       "<Figure size 432x288 with 1 Axes>"
      ]
     },
     "metadata": {
      "needs_background": "light"
     },
     "output_type": "display_data"
    }
   ],
   "source": [
    "#######\n",
    "# !!!! YOUR CODE HERE !!!!\n",
    "model = Linear_Model()\n",
    "criterion = nn.MSELoss()\n",
    "\n",
    "model, losses = train_torch_model(model = model, batch_size = 64, criterion = criterion, max_epochs = 100000,\n",
    "                                  X_train = X_train_torch, y_train = y_train_ohe_torch, lr = lr, tolerance = tolerance)\n",
    "\n",
    "# Plotting loss vs no of epochs graph\n",
    "epoch_list = []\n",
    "loss_list = []\n",
    "for data in losses:\n",
    "  epoch_list.append(data[0])\n",
    "  loss_list.append(data[1])\n",
    "\n",
    "plt.title(\"Linear Model - PyTorch + MSE Loss + Mini Batch\")\n",
    "plt.xlabel(\"Number of Epochs\")\n",
    "plt.ylabel(\"Training Loss\")\n",
    "plt.plot(epoch_list, loss_list)\n",
    "plt.show()\n",
    "\n",
    "#######"
   ]
  },
  {
   "cell_type": "code",
   "execution_count": 95,
   "metadata": {
    "colab": {
     "base_uri": "https://localhost:8080/"
    },
    "id": "cJHvwtH6k0F6",
    "outputId": "1b46a365-808f-4ea7-f0c2-e4a8ea75734b"
   },
   "outputs": [
    {
     "name": "stdout",
     "output_type": "stream",
     "text": [
      "Train accuracy: 0.942936673625609\n",
      "Test accuracy: 0.9472222222222222\n"
     ]
    }
   ],
   "source": [
    "# !!DO NOT EDIT!!\n",
    "# print accuracies of model\n",
    "print_accuracies_torch(model, X_train_torch, X_test_torch, y_train, y_test)"
   ]
  },
  {
   "cell_type": "markdown",
   "metadata": {
    "id": "nYiv8O3emFgn"
   },
   "source": [
    "\n",
    "\n",
    "---\n",
    "\n"
   ]
  },
  {
   "cell_type": "markdown",
   "metadata": {
    "id": "QMXvLv81HPCM"
   },
   "source": [
    "### **(c)** Now, instead of using MSELoss, we will use a much more natural loss function for logistic regression task which is the Cross Entropy Loss. (8 points)\n",
    "**Note:**\n",
    "The [Cross Entropy Loss](https://ebookreading.net/view/book/EB9781789130331_73.html) for multiclass calssification is the mean of the negative log likelihood of the output logits after softmax:\\\n",
    "$L = \\underbrace{\\frac{1}{m} \\sum_{i=1}^m \\underbrace{-y^{(i)} \\underbrace{log \\underbrace{\\frac{e^{\\hat{y}^{(i)}}}{\\sum_{j=1}^p e^{\\hat{y}^{(j)}}}}_{\\text{Softmax}}}_{\\text{LogSoftmax}}}_{\\text{Negative Log Likelihood (NLL)}}}_{\\text{Cross Entropy (CE) Loss }}$,\n",
    "\n",
    "\n",
    "where $y^{(i)}$ is the ground truth, and $\\hat{y}^{(k)}$ (also called as *logits*) represent the outputs of the last linear layer of the model. "
   ]
  },
  {
   "cell_type": "markdown",
   "metadata": {
    "id": "WQw1h-A3lCPp"
   },
   "source": [
    "### **#1.** Instead of `nn.MSELoss`, train the above model with `nn.CrossEntropyLoss`. Use full-batch. Also plot the graph between loss and number of epochs."
   ]
  },
  {
   "cell_type": "code",
   "execution_count": 96,
   "metadata": {
    "colab": {
     "base_uri": "https://localhost:8080/",
     "height": 535,
     "referenced_widgets": [
      "9949456319bd4292ad4ce3192ad4b255",
      "5299f311504e4354abffbc1be130a471",
      "853722c5194a4c5c81668eff730495ab",
      "7a3558706862411ab6b2772e33f37cd0",
      "cde4c617ab6d48a0a36290bdc0fd8786",
      "6de0aaa83c2147faa751168c94eead04",
      "9c41e651dec84c92991b1dd566041122",
      "db4d9b99946546e28dbf939f7668e059",
      "6b92f34a691947d38dcba7f14a76fc91",
      "9bd5537a11ec41d6add9889d06f81fd1",
      "abdd027752f84ff58b9c709ae2ed1f46"
     ]
    },
    "id": "VXmF1XD_9Irh",
    "outputId": "fd09b2fa-ebe5-4813-c067-0cb2553747a9"
   },
   "outputs": [
    {
     "data": {
      "application/vnd.jupyter.widget-view+json": {
       "model_id": "9949456319bd4292ad4ce3192ad4b255",
       "version_major": 2,
       "version_minor": 0
      },
      "text/plain": [
       "  0%|          | 0/100000 [00:00<?, ?it/s]"
      ]
     },
     "metadata": {},
     "output_type": "display_data"
    },
    {
     "name": "stdout",
     "output_type": "stream",
     "text": [
      "Epoch: 0, Loss: 2.329389810562134\n",
      "Epoch: 5000, Loss: 0.4083782136440277\n",
      "Epoch: 10000, Loss: 0.2738310396671295\n",
      "Epoch: 15000, Loss: 0.22050286829471588\n",
      "Epoch: 20000, Loss: 0.1902814507484436\n",
      "Epoch: 25000, Loss: 0.17017532885074615\n",
      "Epoch: 30000, Loss: 0.15550784766674042\n",
      "Epoch: 35000, Loss: 0.1441514790058136\n",
      "Epoch: 40000, Loss: 0.1349867731332779\n",
      "Epoch: 45000, Loss: 0.12736265361309052\n",
      "Epoch: 50000, Loss: 0.120871901512146\n",
      "Epoch: 55000, Loss: 0.11524518579244614\n"
     ]
    },
    {
     "data": {
      "image/png": "[encoded data removed]",
      "text/plain": [
       "<Figure size 432x288 with 1 Axes>"
      ]
     },
     "metadata": {
      "needs_background": "light"
     },
     "output_type": "display_data"
    }
   ],
   "source": [
    "#######\n",
    "# !!!! YOUR CODE HERE !!!!\n",
    "model = Linear_Model()\n",
    "criterion = nn.CrossEntropyLoss()\n",
    "\n",
    "model, losses = train_torch_model(model = model, batch_size = len(X_train_torch), criterion = criterion, max_epochs = 100000,\n",
    "                                  X_train = X_train_torch, y_train = y_train_ohe_torch, lr = lr, tolerance = tolerance)\n",
    "\n",
    "# Plotting loss vs no of epochs graph\n",
    "epoch_list = []\n",
    "loss_list = []\n",
    "for data in losses:\n",
    "  epoch_list.append(data[0])\n",
    "  loss_list.append(data[1])\n",
    "\n",
    "plt.title(\"Linear Model - PyTorch + CE Loss + Full Batch\")\n",
    "plt.xlabel(\"Number of Epochs\")\n",
    "plt.ylabel(\"Training Loss\")\n",
    "plt.plot(epoch_list, loss_list)\n",
    "plt.show()\n",
    "\n",
    "#######"
   ]
  },
  {
   "cell_type": "code",
   "execution_count": 97,
   "metadata": {
    "colab": {
     "base_uri": "https://localhost:8080/"
    },
    "id": "gOvC4HdUINQt",
    "outputId": "1d7a1186-a9cf-42d8-dee0-33a1d1fac9f1"
   },
   "outputs": [
    {
     "name": "stdout",
     "output_type": "stream",
     "text": [
      "Train accuracy: 0.9805149617258176\n",
      "Test accuracy: 0.9666666666666667\n"
     ]
    }
   ],
   "source": [
    "# !!DO NOT EDIT!!\n",
    "# print accuracies of model\n",
    "print_accuracies_torch(model, X_train_torch, X_test_torch, y_train, y_test)"
   ]
  },
  {
   "cell_type": "markdown",
   "metadata": {
    "id": "KGQ_G6tHl8XP"
   },
   "source": [
    "### **#2.** Perform the same task above with `batch_size=64`. Also plot the graph of loss vs epochs."
   ]
  },
  {
   "cell_type": "code",
   "execution_count": 98,
   "metadata": {
    "colab": {
     "base_uri": "https://localhost:8080/",
     "height": 414,
     "referenced_widgets": [
      "bd749fdc04544b5ab4efa17c6b13b958",
      "8ae04f05314043e6b06bb4f8b507b4e4",
      "9fc8d09e7b414f82b4f9ea19ea3c4553",
      "3e2402a9ef234e7dafb4e3fee6ea713d",
      "7c8ad8d452a3401aa9c44e377d032140",
      "c57e0f948d40404eb3c8b3c2c96e94e6",
      "327e479e03c34310b6af1a1b23e879f4",
      "d695c63dadb14f589feb238c2bbc0f92",
      "f749eb7599a3498c85c9d6c2bac21786",
      "a3737b3cf3bf4633bf2631d95d4220ff",
      "96f8e4d055b84bb5b6e5309cd64029ee"
     ]
    },
    "id": "6fNrbHH6IOiz",
    "outputId": "6eff745c-81ca-48e1-aa3c-f227616bd8e5"
   },
   "outputs": [
    {
     "data": {
      "application/vnd.jupyter.widget-view+json": {
       "model_id": "bd749fdc04544b5ab4efa17c6b13b958",
       "version_major": 2,
       "version_minor": 0
      },
      "text/plain": [
       "  0%|          | 0/100000 [00:00<?, ?it/s]"
      ]
     },
     "metadata": {},
     "output_type": "display_data"
    },
    {
     "name": "stdout",
     "output_type": "stream",
     "text": [
      "Epoch: 0, Loss: 2.3292059898376465\n",
      "Epoch: 5000, Loss: 0.08683190494775772\n",
      "Epoch: 10000, Loss: 0.06100000813603401\n",
      "Epoch: 15000, Loss: 0.04834204539656639\n",
      "Epoch: 20000, Loss: 0.04052439332008362\n"
     ]
    },
    {
     "data": {
      "image/png": "[encoded data removed]",
      "text/plain": [
       "<Figure size 432x288 with 1 Axes>"
      ]
     },
     "metadata": {
      "needs_background": "light"
     },
     "output_type": "display_data"
    }
   ],
   "source": [
    "#######\n",
    "# !!!! YOUR CODE HERE !!!!\n",
    "model = Linear_Model()\n",
    "criterion = nn.CrossEntropyLoss()\n",
    "\n",
    "model, losses = train_torch_model(model = model, batch_size = 64, criterion = criterion, max_epochs = 100000,\n",
    "                                  X_train = X_train_torch, y_train = y_train_ohe_torch, lr = lr, tolerance = tolerance)\n",
    "\n",
    "# Plotting loss vs no of epochs graph\n",
    "epoch_list = []\n",
    "loss_list = []\n",
    "for data in losses:\n",
    "  epoch_list.append(data[0])\n",
    "  loss_list.append(data[1])\n",
    "\n",
    "plt.title(\"Linear Model - PyTorch + CE Loss + Mini Batch\")\n",
    "plt.xlabel(\"Number of Epochs\")\n",
    "plt.ylabel(\"Training Loss\")\n",
    "plt.plot(epoch_list, loss_list)\n",
    "plt.show()\n",
    "#######"
   ]
  },
  {
   "cell_type": "code",
   "execution_count": 99,
   "metadata": {
    "colab": {
     "base_uri": "https://localhost:8080/"
    },
    "id": "0o04L-LNmCkp",
    "outputId": "d1a88758-0e87-4da7-e17e-1b4c0a65df19"
   },
   "outputs": [
    {
     "name": "stdout",
     "output_type": "stream",
     "text": [
      "Train accuracy: 0.9979123173277662\n",
      "Test accuracy: 0.9694444444444444\n"
     ]
    }
   ],
   "source": [
    "# !!DO NOT EDIT!!\n",
    "# print accuracies of model\n",
    "print_accuracies_torch(model, X_train_torch, X_test_torch, y_train, y_test)"
   ]
  },
  {
   "cell_type": "markdown",
   "metadata": {
    "id": "2HgoKWSV73xk"
   },
   "source": [
    "\n",
    "\n",
    "---\n",
    "\n"
   ]
  },
  {
   "cell_type": "markdown",
   "metadata": {
    "id": "flKPhgoccRcL"
   },
   "source": [
    "### **(d)** Now, we will train a neural network in pytorch with two hidden layers of sizes 32 and 16 neurons. We will use non-linear ReLU activations thus effectively making this a non-linear model. We will use this neural network model for multi-class classification with Cross Entropy Loss. (8 points)\n",
    "\n",
    "**Note:** The neural network model output can be represented mathematically as below:\\\n",
    "$\\hat{y}^{(i)}_{10\\times1} = W^{(3)}_{10\\times 16}\\sigma(W^{(2)}_{16\\times 32}\\sigma(W^{(1)}_{32\\times 64}\\mathbf{x}^{(i)}_{64\\times1}+\\mathbf{b}^{(1)}_{32\\times1})+\\mathbf{b}^{(2)}_{16\\times1})+\\mathbf{b}^{(3)}_{10\\times1}$, \\\n",
    "where $\\sigma$ represents ReLU activation, $W^{(i)}$ is the weight of the $i^{th}$ linear layer, and $\\mathbf{b}^{(i)}$ is the layer's bias. We use the subscript to denote the dimension for clarity. "
   ]
  },
  {
   "cell_type": "markdown",
   "metadata": {
    "id": "qXYnz6-eI8MG"
   },
   "source": [
    "### **#1.** Define the 2-hidden layer neural network model below."
   ]
  },
  {
   "cell_type": "code",
   "execution_count": 100,
   "metadata": {
    "id": "d3PSTz2jcQ0j"
   },
   "outputs": [],
   "source": [
    "#######\n",
    "# !!!! YOUR CODE HERE !!!!\n",
    "# Define a neural network model class using torch.nn\n",
    "class NN_Model(torch.nn.Module):\n",
    "  def __init__(self):\n",
    "    super(NN_Model, self).__init__()\n",
    "    # Initalize various layers of model as instructed below\n",
    "    # 1. initialize three linear layers: num_features -> 32, 32 -> 16, 16 -> num_targets\n",
    "    self.linear1 = nn.Linear(num_features, 32)\n",
    "    self.linear2 = nn.Linear(32, 16)\n",
    "    self.linear3 = nn.Linear(16, num_classes)\n",
    "\n",
    "    # 2. initialize RELU\n",
    "    self.relu = nn.ReLU()    \n",
    "\n",
    "  def forward(self, X):\n",
    "    # 3. define the feedforward algorithm of the model and return the final output\n",
    "    # Apply non-linear ReLU activation between subsequent layers\n",
    "    activation1 = self.relu(self.linear1(X))\n",
    "    activation2 = self.relu(self.linear2(activation1))\n",
    "    output = self.linear3(activation2)\n",
    "    return output\n",
    "\n",
    "#######  "
   ]
  },
  {
   "cell_type": "markdown",
   "metadata": {
    "id": "mERRi4Eamze0"
   },
   "source": [
    "### **#2.** Train the newly defined Neural Network two hidden layer model with Cross Entropy Loss. Use full-batch and plot the graph of loss vs number of epochs. Note that you can re-use the training function `train_torch_model` (from part (b))."
   ]
  },
  {
   "cell_type": "code",
   "execution_count": 101,
   "metadata": {
    "colab": {
     "base_uri": "https://localhost:8080/",
     "height": 431,
     "referenced_widgets": [
      "931fb575c66d47a5814418c820329192",
      "36a975eb83dc48f6bdd6405d7f49f104",
      "b27f7c52ebe54ea3a5d19079143472b9",
      "fe69a03fb2394da5aa2d8036b9c6334e",
      "a7e5662b0b5a44a1bed5e5f9df8c992d",
      "68cbf8cb61ea4fb58ca459a6f8825bda",
      "3d3f90f87c0f439e8363488b1323bb50",
      "136c3bc56cb24417ab2588b9c92fd416",
      "a179e3d26f4b442db3ae4a1e02d8f63d",
      "ec82d342907e4b0c8be089365d1bf92a",
      "2728acde0daa4acca548ebf71319f0d2"
     ]
    },
    "id": "pliWaICdmzEB",
    "outputId": "9dab2088-0b5a-4e3f-915e-add171134f66"
   },
   "outputs": [
    {
     "data": {
      "application/vnd.jupyter.widget-view+json": {
       "model_id": "931fb575c66d47a5814418c820329192",
       "version_major": 2,
       "version_minor": 0
      },
      "text/plain": [
       "  0%|          | 0/100000 [00:00<?, ?it/s]"
      ]
     },
     "metadata": {},
     "output_type": "display_data"
    },
    {
     "name": "stdout",
     "output_type": "stream",
     "text": [
      "Epoch: 0, Loss: 2.3094677925109863\n",
      "Epoch: 5000, Loss: 0.1817384660243988\n",
      "Epoch: 10000, Loss: 0.0782303586602211\n",
      "Epoch: 15000, Loss: 0.04346810281276703\n",
      "Epoch: 20000, Loss: 0.027297910302877426\n",
      "Epoch: 25000, Loss: 0.018533818423748016\n"
     ]
    },
    {
     "data": {
      "image/png": "[encoded data removed]",
      "text/plain": [
       "<Figure size 432x288 with 1 Axes>"
      ]
     },
     "metadata": {
      "needs_background": "light"
     },
     "output_type": "display_data"
    }
   ],
   "source": [
    "#######\n",
    "# !!!! YOUR CODE HERE !!!!\n",
    "model = NN_Model()\n",
    "criterion = nn.CrossEntropyLoss()\n",
    "\n",
    "model, losses = train_torch_model(model = model, batch_size = len(X_train_torch), criterion = criterion, max_epochs = 100000,\n",
    "                                  X_train = X_train_torch, y_train = y_train_ohe_torch, lr = lr, tolerance = tolerance)\n",
    "\n",
    "# Plotting loss vs no of epochs graph\n",
    "epoch_list = []\n",
    "loss_list = []\n",
    "for data in losses:\n",
    "  epoch_list.append(data[0])\n",
    "  loss_list.append(data[1])\n",
    "\n",
    "plt.title(\"NN Model - PyTorch + CE Loss + Full Batch\")\n",
    "plt.xlabel(\"Number of Epochs\")\n",
    "plt.ylabel(\"Training Loss\")\n",
    "plt.plot(epoch_list, loss_list)\n",
    "plt.show()\n",
    "#######"
   ]
  },
  {
   "cell_type": "code",
   "execution_count": 102,
   "metadata": {
    "colab": {
     "base_uri": "https://localhost:8080/"
    },
    "id": "EoRJpn8QnZrX",
    "outputId": "cd9798d7-4116-4126-f807-d79835b7058b"
   },
   "outputs": [
    {
     "name": "stdout",
     "output_type": "stream",
     "text": [
      "Train accuracy: 0.9993041057759221\n",
      "Test accuracy: 0.9611111111111111\n"
     ]
    }
   ],
   "source": [
    "# !!DO NOT EDIT!!\n",
    "# print accuracies of model\n",
    "print_accuracies_torch(model, X_train_torch, X_test_torch, y_train, y_test)"
   ]
  },
  {
   "cell_type": "markdown",
   "metadata": {
    "id": "TP-JX4IznLQL"
   },
   "source": [
    "### **#3.** Re-train the above model with `batch_size=64`. Also plot the graph of loss vs epochs."
   ]
  },
  {
   "cell_type": "code",
   "execution_count": 103,
   "metadata": {
    "colab": {
     "base_uri": "https://localhost:8080/",
     "height": 344,
     "referenced_widgets": [
      "bce6f392778d4a32a816aa37b716d0ef",
      "5a4d22e5e4114418bdfabd3e7d4f4099",
      "0017562f6baf40c2939503672a56f364",
      "ae7bc86d6c254c658e699b14515c0a2e",
      "d8dadc67de424ea59c3f01b7998c1cb4",
      "5660e50e5fbe41e8919f63ad201c30ed",
      "1ed378a39621470aa1752096d1238976",
      "d297f07a34714acab54308b2282f4672",
      "9d150793a5954025b95ec03606871455",
      "fd496631018941809c1f52883a379153",
      "776bdce92602462ea2cc27a73dfc2f1c"
     ]
    },
    "id": "Sx8e5dvJnK1n",
    "outputId": "c552fdba-8964-4076-c188-2d8e43e6b805"
   },
   "outputs": [
    {
     "data": {
      "application/vnd.jupyter.widget-view+json": {
       "model_id": "bce6f392778d4a32a816aa37b716d0ef",
       "version_major": 2,
       "version_minor": 0
      },
      "text/plain": [
       "  0%|          | 0/100000 [00:00<?, ?it/s]"
      ]
     },
     "metadata": {},
     "output_type": "display_data"
    },
    {
     "name": "stdout",
     "output_type": "stream",
     "text": [
      "Epoch: 0, Loss: 2.259671688079834\n"
     ]
    },
    {
     "data": {
      "image/png": "[encoded data removed]",
      "text/plain": [
       "<Figure size 432x288 with 1 Axes>"
      ]
     },
     "metadata": {
      "needs_background": "light"
     },
     "output_type": "display_data"
    }
   ],
   "source": [
    "#######\n",
    "# !!!! YOUR CODE HERE !!!!\n",
    "model = NN_Model()\n",
    "criterion = nn.CrossEntropyLoss()\n",
    "\n",
    "model, losses = train_torch_model(model = model, batch_size = 64, criterion = criterion, max_epochs = 100000,\n",
    "                                  X_train = X_train_torch, y_train = y_train_ohe_torch, lr = lr, tolerance = tolerance)\n",
    "\n",
    "# Plotting loss vs no of epochs graph\n",
    "epoch_list = []\n",
    "loss_list = []\n",
    "for data in losses:\n",
    "  epoch_list.append(data[0])\n",
    "  loss_list.append(data[1])\n",
    "\n",
    "plt.title(\"NN Model - PyTorch + CE Loss + Mini Batch\")\n",
    "plt.xlabel(\"Number of Epochs\")\n",
    "plt.ylabel(\"Training Loss\")\n",
    "plt.plot(epoch_list, loss_list)\n",
    "plt.show()\n",
    "\n",
    "#######"
   ]
  },
  {
   "cell_type": "code",
   "execution_count": 104,
   "metadata": {
    "colab": {
     "base_uri": "https://localhost:8080/"
    },
    "id": "mr7M3xyknaLp",
    "outputId": "a32df0eb-36d6-44a7-8410-74cee2fe0c8f"
   },
   "outputs": [
    {
     "name": "stdout",
     "output_type": "stream",
     "text": [
      "Train accuracy: 0.9958246346555324\n",
      "Test accuracy: 0.9638888888888889\n"
     ]
    }
   ],
   "source": [
    "# !!DO NOT EDIT!!\n",
    "# print accuracies of model\n",
    "print_accuracies_torch(model, X_train_torch, X_test_torch, y_train, y_test)"
   ]
  },
  {
   "cell_type": "markdown",
   "metadata": {
    "id": "szUeNm2kotqY"
   },
   "source": [
    "\n",
    "\n",
    "---\n",
    "\n"
   ]
  },
  {
   "cell_type": "markdown",
   "metadata": {
    "id": "RJ1HXvh_ovQ_"
   },
   "source": [
    "### **(e)**  In the above few problems, you performed several experiments with different batch size and loss functions. Write down an analysis of your observations from the results. (5 points)\n",
    "Some points that you could cover are:\n",
    "* Effect of using full vs. batch gradient descent.\n",
    "* Effect of different loss strategy on performance.\n",
    "* Effect of using linear vs. non-linear models.\n",
    "* Training time per epoch in different cases.\n",
    "\n",
    "Also, plot a line graph of accuracy vs. model for both train and test sets. Recall that you trained the following models in this question:\n",
    "\n",
    "1.   Linear Model - Scratch + MSE Loss + Full Batch \n",
    "2.   Linear Model - Scratch + MSE Loss + Mini Batch \n",
    "3.   Linear Model - PyTorch + MSE Loss + Full Batch \n",
    "4.   Linear Model - PyTorch + MSE Loss + Mini Batch \n",
    "5.   Linear Model - PyTorch + CE Loss + Full Batch \n",
    "6.   Linear Model - PyTorch + CE Loss + Mini Batch \n",
    "7.   NN Model - PyTorch + CE Loss + Full Batch \n",
    "8.   NN Model - PyTorch + CE Loss + Mini Batch \n"
   ]
  },
  {
   "cell_type": "markdown",
   "metadata": {
    "id": "k6e4sulhvLp5"
   },
   "source": [
    "#### <font color=\"red\">Your answer here:</font>\n",
    "**Analysis of models:**\n",
    "\n",
    "Note - Accuracies are not included in this table because they have been plotted in the graphs below.\n",
    "\n",
    "|Model|Gradient Descent Type|Training Runtime|Iterations per sec| Epochs for Convergence|Time per epoch (ms)|\n",
    "|------------------------------------|----------|---|-------|------|-----|\n",
    "|1. Linear Model - Scratch + MSE Loss|Full Batch|33 |1507.65|51,147|0.66 |\n",
    "|2. Linear Model - Scratch + MSE Loss|Mini Batch|95 |80.16  |7,598 |12.50|\n",
    "|3. Linear Model - PyTorch + MSE Loss|Full Batch|4  |1474.63|5,966 |0.68 | \n",
    "|4. Linear Model - PyTorch + MSE Loss|Mini Batch|22 |76.27  |1,692 |13.11|\n",
    "|5. Linear Model - PyTorch + CE Loss |Full Batch|43 |1302.27|56,197|0.77 |\n",
    "|6. Linear Model - PyTorch + CE Loss |Mini Batch|345|66.19  |23,067|15.11| \n",
    "|7. NN Model - PyTorch + CE Loss     |Full Batch|42 |700.95 |27,549|1.42 | \n",
    "|8. NN Model - PyTorch + CE Loss     |Mini Batch|20 |40.07  |817   |24.96| \n",
    "\n",
    "**1. Effect of using full vs. batch gradient descent:** \n",
    "Using mini batch gardient descent improves the testing accuracy in all cases over full batch gradient descent. It also improved the training accuracy in all cases, except in NN model-PyTorch + CE Loss, in which the training accuracy was already extremely high (99.93%). Hence, we can conclude that mini batch gradient descent is definitely better than full batch gradient descent for achieving a more accurate model.\n",
    "\n",
    "Mini batch gradient descent also significantly reduced the number of epochs needed for convergence as compared to full batch. However, it takes significantly more time to train in all cases too, except in NN model-PyTorch + CE Loss. The number of iterations per second are also way lesser in mini batch. \n",
    "\n",
    "\n",
    "\n",
    "**2. Effect of different loss strategy on performance:**\n",
    "For Linear Model - PyTorch, we use both CE and MSE Loss. Using CE loss not only significantly increases training and testing accuracies, but increases number of epochs needed for convergence, increases training runtime and decreases number of iterations per second. In some linear models, MSE loss leads to slight overfitting in which the test error is slightly greater than the training error.\n",
    "\n",
    "**3.Effect of using linear vs. non-linear models:**\n",
    "Non-linear models have higher testing and training accuracies than all linear models except Linear - PyTorch + CE Loss + Mini Batch. The non-linear models have lesser iterations per second than the linear models and higher time per epoch. The Mini batch non-linear model takes the fewest number of epochs to converge. In general the non-linear models are more accurate, but slower to train.\n",
    "\n",
    "**4. Training time per epoch in different cases:**\n",
    "Training timer per epoch is lower in full batch, MSE loss and linear models as compared to mini batch, CE loss and non-linear models. Linear Model - Scratch + MSE + Full Batch has the minimum training time per epoch (0.66ms) where as NN Model - PyTorch + CSE + Mini Batch has the maximum training time per epoch (24.96ms). As the model gets more complex, training time per epoch increases."
   ]
  },
  {
   "cell_type": "code",
   "execution_count": 142,
   "metadata": {
    "colab": {
     "base_uri": "https://localhost:8080/",
     "height": 599
    },
    "id": "lUr4ctgmpW46",
    "outputId": "3d67d592-5e3d-4655-b25a-7d856cbf4633"
   },
   "outputs": [
    {
     "data": {
      "image/png": "[encoded data removed]",
      "text/plain": [
       "<Figure size 648x648 with 2 Axes>"
      ]
     },
     "metadata": {
      "needs_background": "light"
     },
     "output_type": "display_data"
    }
   ],
   "source": [
    "# plotting graph of accuracy vs. model for both train and test sets for all 8 models\n",
    "%matplotlib inline\n",
    "modelList = ['Linear Model - Scratch + MSE Loss + Full Batch',\n",
    "             'Linear Model - Scratch + MSE Loss + Mini Batch',\n",
    "             'Linear Model - PyTorch + MSE Loss + Full Batch',\n",
    "             'Linear Model - PyTorch + MSE Loss + Mini Batch',\n",
    "             'Linear Model - PyTorch + CE Loss + Full Batch',\n",
    "             'Linear Model - PyTorch + CE Loss + Mini Batch',\n",
    "             'NN Model - PyTorch + CE Loss + Full Batch',\n",
    "             'NN Model - PyTorch + CE Loss + Mini Batch']\n",
    "\n",
    "trainAccuracyList = [84.69, 93.66, 93.11, 94.29, 98.05, 99.79, 99.93, 99.58]\n",
    "testAccuracyList = [85.83, 92.77, 93.88, 94.72, 96.66, 96.94, 96.11, 96.38]\n",
    "\n",
    "f = plt.figure(figsize=(9,9))\n",
    "plt.subplot(1, 2, 1) \n",
    "plt.title(\"Training Accuracies of different models\")\n",
    "plt.xlabel(\"Model Name\")\n",
    "plt.ylabel(\"Training Accuracy\")\n",
    "plt.plot(modelList, trainAccuracyList, marker = 'o',\n",
    "         markerfacecolor = 'red')\n",
    "plt.xticks(rotation = 90)\n",
    "\n",
    "plt.subplot(1, 2, 2) \n",
    "plt.title(\"Testing Accuracies of different models\")\n",
    "plt.xlabel(\"Model Name\")\n",
    "plt.ylabel(\"Testing Accuracy\")\n",
    "plt.plot(modelList, testAccuracyList, color = 'green', marker = 'o',\n",
    "         markerfacecolor = 'red')\n",
    "plt.xticks(rotation = 90)\n",
    "plt.tight_layout(4)\n",
    "\n",
    "plt.show()\n"
   ]
  },
  {
   "cell_type": "markdown",
   "metadata": {
    "id": "obE47rGOvMo-"
   },
   "source": [
    "\n",
    "\n",
    "---\n",
    "\n",
    "\n",
    "\n",
    "---\n",
    "\n"
   ]
  }
 ],
 "metadata": {
  "accelerator": "GPU",
  "colab": {
   "collapsed_sections": [
    "d27EoDd1vIA7",
    "QMXvLv81HPCM",
    "flKPhgoccRcL"
   ],
   "provenance": []
  },
  "gpuClass": "standard",
  "kernelspec": {
   "display_name": "Python 3",
   "language": "python",
   "name": "python3"
  },
  "language_info": {
   "codemirror_mode": {
    "name": "ipython",
    "version": 3
   },
   "file_extension": ".py",
   "mimetype": "text/x-python",
   "name": "python",
   "nbconvert_exporter": "python",
   "pygments_lexer": "ipython3",
   "version": "3.8.8"
  },
  "vscode": {
   "interpreter": {
    "hash": "b0d983612b814860d9ab1dbb303f20bfc8fb4fb3419b27046d7bc1d14cf03c9f"
   }
  },
  "widgets": {
   "application/vnd.jupyter.widget-state+json": {
    "0017562f6baf40c2939503672a56f364": {
     "model_module": "@jupyter-widgets/controls",
     "model_module_version": "1.5.0",
     "model_name": "FloatProgressModel",
     "state": {
      "_dom_classes": [],
      "_model_module": "@jupyter-widgets/controls",
      "_model_module_version": "1.5.0",
      "_model_name": "FloatProgressModel",
      "_view_count": null,
      "_view_module": "@jupyter-widgets/controls",
      "_view_module_version": "1.5.0",
      "_view_name": "ProgressView",
      "bar_style": "danger",
      "description": "",
      "description_tooltip": null,
      "layout": "IPY_MODEL_d297f07a34714acab54308b2282f4672",
      "max": 100000,
      "min": 0,
      "orientation": "horizontal",
      "style": "IPY_MODEL_9d150793a5954025b95ec03606871455",
      "value": 817
     }
    },
    "0868dd303fec4bea9ca873fc02e73e66": {
     "model_module": "@jupyter-widgets/base",
     "model_module_version": "1.2.0",
     "model_name": "LayoutModel",
     "state": {
      "_model_module": "@jupyter-widgets/base",
      "_model_module_version": "1.2.0",
      "_model_name": "LayoutModel",
      "_view_count": null,
      "_view_module": "@jupyter-widgets/base",
      "_view_module_version": "1.2.0",
      "_view_name": "LayoutView",
      "align_content": null,
      "align_items": null,
      "align_self": null,
      "border": null,
      "bottom": null,
      "display": null,
      "flex": null,
      "flex_flow": null,
      "grid_area": null,
      "grid_auto_columns": null,
      "grid_auto_flow": null,
      "grid_auto_rows": null,
      "grid_column": null,
      "grid_gap": null,
      "grid_row": null,
      "grid_template_areas": null,
      "grid_template_columns": null,
      "grid_template_rows": null,
      "height": null,
      "justify_content": null,
      "justify_items": null,
      "left": null,
      "margin": null,
      "max_height": null,
      "max_width": null,
      "min_height": null,
      "min_width": null,
      "object_fit": null,
      "object_position": null,
      "order": null,
      "overflow": null,
      "overflow_x": null,
      "overflow_y": null,
      "padding": null,
      "right": null,
      "top": null,
      "visibility": null,
      "width": null
     }
    },
    "0a3ddfa756874414935bf3bf0a31e5b4": {
     "model_module": "@jupyter-widgets/base",
     "model_module_version": "1.2.0",
     "model_name": "LayoutModel",
     "state": {
      "_model_module": "@jupyter-widgets/base",
      "_model_module_version": "1.2.0",
      "_model_name": "LayoutModel",
      "_view_count": null,
      "_view_module": "@jupyter-widgets/base",
      "_view_module_version": "1.2.0",
      "_view_name": "LayoutView",
      "align_content": null,
      "align_items": null,
      "align_self": null,
      "border": null,
      "bottom": null,
      "display": null,
      "flex": null,
      "flex_flow": null,
      "grid_area": null,
      "grid_auto_columns": null,
      "grid_auto_flow": null,
      "grid_auto_rows": null,
      "grid_column": null,
      "grid_gap": null,
      "grid_row": null,
      "grid_template_areas": null,
      "grid_template_columns": null,
      "grid_template_rows": null,
      "height": null,
      "justify_content": null,
      "justify_items": null,
      "left": null,
      "margin": null,
      "max_height": null,
      "max_width": null,
      "min_height": null,
      "min_width": null,
      "object_fit": null,
      "object_position": null,
      "order": null,
      "overflow": null,
      "overflow_x": null,
      "overflow_y": null,
      "padding": null,
      "right": null,
      "top": null,
      "visibility": null,
      "width": null
     }
    },
    "0dd1bc214083440883126b0d0006ca62": {
     "model_module": "@jupyter-widgets/controls",
     "model_module_version": "1.5.0",
     "model_name": "DescriptionStyleModel",
     "state": {
      "_model_module": "@jupyter-widgets/controls",
      "_model_module_version": "1.5.0",
      "_model_name": "DescriptionStyleModel",
      "_view_count": null,
      "_view_module": "@jupyter-widgets/base",
      "_view_module_version": "1.2.0",
      "_view_name": "StyleView",
      "description_width": ""
     }
    },
    "0ed7104997e54003bbbca3804dcfb302": {
     "model_module": "@jupyter-widgets/controls",
     "model_module_version": "1.5.0",
     "model_name": "DescriptionStyleModel",
     "state": {
      "_model_module": "@jupyter-widgets/controls",
      "_model_module_version": "1.5.0",
      "_model_name": "DescriptionStyleModel",
      "_view_count": null,
      "_view_module": "@jupyter-widgets/base",
      "_view_module_version": "1.2.0",
      "_view_name": "StyleView",
      "description_width": ""
     }
    },
    "11ef84a58c064335ac10cebe86007a30": {
     "model_module": "@jupyter-widgets/controls",
     "model_module_version": "1.5.0",
     "model_name": "ProgressStyleModel",
     "state": {
      "_model_module": "@jupyter-widgets/controls",
      "_model_module_version": "1.5.0",
      "_model_name": "ProgressStyleModel",
      "_view_count": null,
      "_view_module": "@jupyter-widgets/base",
      "_view_module_version": "1.2.0",
      "_view_name": "StyleView",
      "bar_color": null,
      "description_width": ""
     }
    },
    "136c3bc56cb24417ab2588b9c92fd416": {
     "model_module": "@jupyter-widgets/base",
     "model_module_version": "1.2.0",
     "model_name": "LayoutModel",
     "state": {
      "_model_module": "@jupyter-widgets/base",
      "_model_module_version": "1.2.0",
      "_model_name": "LayoutModel",
      "_view_count": null,
      "_view_module": "@jupyter-widgets/base",
      "_view_module_version": "1.2.0",
      "_view_name": "LayoutView",
      "align_content": null,
      "align_items": null,
      "align_self": null,
      "border": null,
      "bottom": null,
      "display": null,
      "flex": null,
      "flex_flow": null,
      "grid_area": null,
      "grid_auto_columns": null,
      "grid_auto_flow": null,
      "grid_auto_rows": null,
      "grid_column": null,
      "grid_gap": null,
      "grid_row": null,
      "grid_template_areas": null,
      "grid_template_columns": null,
      "grid_template_rows": null,
      "height": null,
      "justify_content": null,
      "justify_items": null,
      "left": null,
      "margin": null,
      "max_height": null,
      "max_width": null,
      "min_height": null,
      "min_width": null,
      "object_fit": null,
      "object_position": null,
      "order": null,
      "overflow": null,
      "overflow_x": null,
      "overflow_y": null,
      "padding": null,
      "right": null,
      "top": null,
      "visibility": null,
      "width": null
     }
    },
    "13c2bbc03e5641eaa8b6ccb6f12a04a8": {
     "model_module": "@jupyter-widgets/controls",
     "model_module_version": "1.5.0",
     "model_name": "ProgressStyleModel",
     "state": {
      "_model_module": "@jupyter-widgets/controls",
      "_model_module_version": "1.5.0",
      "_model_name": "ProgressStyleModel",
      "_view_count": null,
      "_view_module": "@jupyter-widgets/base",
      "_view_module_version": "1.2.0",
      "_view_name": "StyleView",
      "bar_color": null,
      "description_width": ""
     }
    },
    "16993ef3b8274f35a25e3c3e49ba1c1a": {
     "model_module": "@jupyter-widgets/base",
     "model_module_version": "1.2.0",
     "model_name": "LayoutModel",
     "state": {
      "_model_module": "@jupyter-widgets/base",
      "_model_module_version": "1.2.0",
      "_model_name": "LayoutModel",
      "_view_count": null,
      "_view_module": "@jupyter-widgets/base",
      "_view_module_version": "1.2.0",
      "_view_name": "LayoutView",
      "align_content": null,
      "align_items": null,
      "align_self": null,
      "border": null,
      "bottom": null,
      "display": null,
      "flex": null,
      "flex_flow": null,
      "grid_area": null,
      "grid_auto_columns": null,
      "grid_auto_flow": null,
      "grid_auto_rows": null,
      "grid_column": null,
      "grid_gap": null,
      "grid_row": null,
      "grid_template_areas": null,
      "grid_template_columns": null,
      "grid_template_rows": null,
      "height": null,
      "justify_content": null,
      "justify_items": null,
      "left": null,
      "margin": null,
      "max_height": null,
      "max_width": null,
      "min_height": null,
      "min_width": null,
      "object_fit": null,
      "object_position": null,
      "order": null,
      "overflow": null,
      "overflow_x": null,
      "overflow_y": null,
      "padding": null,
      "right": null,
      "top": null,
      "visibility": null,
      "width": null
     }
    },
    "1881c07e75d541d5ba70604a835498ae": {
     "model_module": "@jupyter-widgets/controls",
     "model_module_version": "1.5.0",
     "model_name": "HTMLModel",
     "state": {
      "_dom_classes": [],
      "_model_module": "@jupyter-widgets/controls",
      "_model_module_version": "1.5.0",
      "_model_name": "HTMLModel",
      "_view_count": null,
      "_view_module": "@jupyter-widgets/controls",
      "_view_module_version": "1.5.0",
      "_view_name": "HTMLView",
      "description": "",
      "description_tooltip": null,
      "layout": "IPY_MODEL_1c2dd0e50ab7499a8360f12a9ef1aa40",
      "placeholder": "​",
      "style": "IPY_MODEL_85fa9b5acc0d44d490f3b925ddd69143",
      "value": "  6%"
     }
    },
    "1c2dd0e50ab7499a8360f12a9ef1aa40": {
     "model_module": "@jupyter-widgets/base",
     "model_module_version": "1.2.0",
     "model_name": "LayoutModel",
     "state": {
      "_model_module": "@jupyter-widgets/base",
      "_model_module_version": "1.2.0",
      "_model_name": "LayoutModel",
      "_view_count": null,
      "_view_module": "@jupyter-widgets/base",
      "_view_module_version": "1.2.0",
      "_view_name": "LayoutView",
      "align_content": null,
      "align_items": null,
      "align_self": null,
      "border": null,
      "bottom": null,
      "display": null,
      "flex": null,
      "flex_flow": null,
      "grid_area": null,
      "grid_auto_columns": null,
      "grid_auto_flow": null,
      "grid_auto_rows": null,
      "grid_column": null,
      "grid_gap": null,
      "grid_row": null,
      "grid_template_areas": null,
      "grid_template_columns": null,
      "grid_template_rows": null,
      "height": null,
      "justify_content": null,
      "justify_items": null,
      "left": null,
      "margin": null,
      "max_height": null,
      "max_width": null,
      "min_height": null,
      "min_width": null,
      "object_fit": null,
      "object_position": null,
      "order": null,
      "overflow": null,
      "overflow_x": null,
      "overflow_y": null,
      "padding": null,
      "right": null,
      "top": null,
      "visibility": null,
      "width": null
     }
    },
    "1ed378a39621470aa1752096d1238976": {
     "model_module": "@jupyter-widgets/controls",
     "model_module_version": "1.5.0",
     "model_name": "DescriptionStyleModel",
     "state": {
      "_model_module": "@jupyter-widgets/controls",
      "_model_module_version": "1.5.0",
      "_model_name": "DescriptionStyleModel",
      "_view_count": null,
      "_view_module": "@jupyter-widgets/base",
      "_view_module_version": "1.2.0",
      "_view_name": "StyleView",
      "description_width": ""
     }
    },
    "2728acde0daa4acca548ebf71319f0d2": {
     "model_module": "@jupyter-widgets/controls",
     "model_module_version": "1.5.0",
     "model_name": "DescriptionStyleModel",
     "state": {
      "_model_module": "@jupyter-widgets/controls",
      "_model_module_version": "1.5.0",
      "_model_name": "DescriptionStyleModel",
      "_view_count": null,
      "_view_module": "@jupyter-widgets/base",
      "_view_module_version": "1.2.0",
      "_view_name": "StyleView",
      "description_width": ""
     }
    },
    "327e479e03c34310b6af1a1b23e879f4": {
     "model_module": "@jupyter-widgets/controls",
     "model_module_version": "1.5.0",
     "model_name": "DescriptionStyleModel",
     "state": {
      "_model_module": "@jupyter-widgets/controls",
      "_model_module_version": "1.5.0",
      "_model_name": "DescriptionStyleModel",
      "_view_count": null,
      "_view_module": "@jupyter-widgets/base",
      "_view_module_version": "1.2.0",
      "_view_name": "StyleView",
      "description_width": ""
     }
    },
    "331ee831c65d4d39a889b7c1e291d73d": {
     "model_module": "@jupyter-widgets/base",
     "model_module_version": "1.2.0",
     "model_name": "LayoutModel",
     "state": {
      "_model_module": "@jupyter-widgets/base",
      "_model_module_version": "1.2.0",
      "_model_name": "LayoutModel",
      "_view_count": null,
      "_view_module": "@jupyter-widgets/base",
      "_view_module_version": "1.2.0",
      "_view_name": "LayoutView",
      "align_content": null,
      "align_items": null,
      "align_self": null,
      "border": null,
      "bottom": null,
      "display": null,
      "flex": null,
      "flex_flow": null,
      "grid_area": null,
      "grid_auto_columns": null,
      "grid_auto_flow": null,
      "grid_auto_rows": null,
      "grid_column": null,
      "grid_gap": null,
      "grid_row": null,
      "grid_template_areas": null,
      "grid_template_columns": null,
      "grid_template_rows": null,
      "height": null,
      "justify_content": null,
      "justify_items": null,
      "left": null,
      "margin": null,
      "max_height": null,
      "max_width": null,
      "min_height": null,
      "min_width": null,
      "object_fit": null,
      "object_position": null,
      "order": null,
      "overflow": null,
      "overflow_x": null,
      "overflow_y": null,
      "padding": null,
      "right": null,
      "top": null,
      "visibility": null,
      "width": null
     }
    },
    "36a975eb83dc48f6bdd6405d7f49f104": {
     "model_module": "@jupyter-widgets/controls",
     "model_module_version": "1.5.0",
     "model_name": "HTMLModel",
     "state": {
      "_dom_classes": [],
      "_model_module": "@jupyter-widgets/controls",
      "_model_module_version": "1.5.0",
      "_model_name": "HTMLModel",
      "_view_count": null,
      "_view_module": "@jupyter-widgets/controls",
      "_view_module_version": "1.5.0",
      "_view_name": "HTMLView",
      "description": "",
      "description_tooltip": null,
      "layout": "IPY_MODEL_68cbf8cb61ea4fb58ca459a6f8825bda",
      "placeholder": "​",
      "style": "IPY_MODEL_3d3f90f87c0f439e8363488b1323bb50",
      "value": " 28%"
     }
    },
    "36dc083d20d641c8a129054f3171f724": {
     "model_module": "@jupyter-widgets/controls",
     "model_module_version": "1.5.0",
     "model_name": "HTMLModel",
     "state": {
      "_dom_classes": [],
      "_model_module": "@jupyter-widgets/controls",
      "_model_module_version": "1.5.0",
      "_model_name": "HTMLModel",
      "_view_count": null,
      "_view_module": "@jupyter-widgets/controls",
      "_view_module_version": "1.5.0",
      "_view_name": "HTMLView",
      "description": "",
      "description_tooltip": null,
      "layout": "IPY_MODEL_6b2c4f00dbec41a0ad2d5f753321277f",
      "placeholder": "​",
      "style": "IPY_MODEL_7040097a67b54bcc85d65b5dbc4b1ea1",
      "value": "  8%"
     }
    },
    "3ab619a743c740c2ab7d8eb0aa55f06c": {
     "model_module": "@jupyter-widgets/controls",
     "model_module_version": "1.5.0",
     "model_name": "FloatProgressModel",
     "state": {
      "_dom_classes": [],
      "_model_module": "@jupyter-widgets/controls",
      "_model_module_version": "1.5.0",
      "_model_name": "FloatProgressModel",
      "_view_count": null,
      "_view_module": "@jupyter-widgets/controls",
      "_view_module_version": "1.5.0",
      "_view_name": "ProgressView",
      "bar_style": "danger",
      "description": "",
      "description_tooltip": null,
      "layout": "IPY_MODEL_d5bb239d53ed4039b7b598fa27019006",
      "max": 100000,
      "min": 0,
      "orientation": "horizontal",
      "style": "IPY_MODEL_d4a4a38de36c4473b2b8ae5d22edd434",
      "value": 1692
     }
    },
    "3bd3becd7d7f4a9fb00c48eb658332af": {
     "model_module": "@jupyter-widgets/base",
     "model_module_version": "1.2.0",
     "model_name": "LayoutModel",
     "state": {
      "_model_module": "@jupyter-widgets/base",
      "_model_module_version": "1.2.0",
      "_model_name": "LayoutModel",
      "_view_count": null,
      "_view_module": "@jupyter-widgets/base",
      "_view_module_version": "1.2.0",
      "_view_name": "LayoutView",
      "align_content": null,
      "align_items": null,
      "align_self": null,
      "border": null,
      "bottom": null,
      "display": null,
      "flex": null,
      "flex_flow": null,
      "grid_area": null,
      "grid_auto_columns": null,
      "grid_auto_flow": null,
      "grid_auto_rows": null,
      "grid_column": null,
      "grid_gap": null,
      "grid_row": null,
      "grid_template_areas": null,
      "grid_template_columns": null,
      "grid_template_rows": null,
      "height": null,
      "justify_content": null,
      "justify_items": null,
      "left": null,
      "margin": null,
      "max_height": null,
      "max_width": null,
      "min_height": null,
      "min_width": null,
      "object_fit": null,
      "object_position": null,
      "order": null,
      "overflow": null,
      "overflow_x": null,
      "overflow_y": null,
      "padding": null,
      "right": null,
      "top": null,
      "visibility": null,
      "width": null
     }
    },
    "3d3f90f87c0f439e8363488b1323bb50": {
     "model_module": "@jupyter-widgets/controls",
     "model_module_version": "1.5.0",
     "model_name": "DescriptionStyleModel",
     "state": {
      "_model_module": "@jupyter-widgets/controls",
      "_model_module_version": "1.5.0",
      "_model_name": "DescriptionStyleModel",
      "_view_count": null,
      "_view_module": "@jupyter-widgets/base",
      "_view_module_version": "1.2.0",
      "_view_name": "StyleView",
      "description_width": ""
     }
    },
    "3e2402a9ef234e7dafb4e3fee6ea713d": {
     "model_module": "@jupyter-widgets/controls",
     "model_module_version": "1.5.0",
     "model_name": "HTMLModel",
     "state": {
      "_dom_classes": [],
      "_model_module": "@jupyter-widgets/controls",
      "_model_module_version": "1.5.0",
      "_model_name": "HTMLModel",
      "_view_count": null,
      "_view_module": "@jupyter-widgets/controls",
      "_view_module_version": "1.5.0",
      "_view_name": "HTMLView",
      "description": "",
      "description_tooltip": null,
      "layout": "IPY_MODEL_a3737b3cf3bf4633bf2631d95d4220ff",
      "placeholder": "​",
      "style": "IPY_MODEL_96f8e4d055b84bb5b6e5309cd64029ee",
      "value": " 23067/100000 [05:45&lt;19:22, 66.19it/s]"
     }
    },
    "3fc01942ec194e228b6fb6a533a996cf": {
     "model_module": "@jupyter-widgets/base",
     "model_module_version": "1.2.0",
     "model_name": "LayoutModel",
     "state": {
      "_model_module": "@jupyter-widgets/base",
      "_model_module_version": "1.2.0",
      "_model_name": "LayoutModel",
      "_view_count": null,
      "_view_module": "@jupyter-widgets/base",
      "_view_module_version": "1.2.0",
      "_view_name": "LayoutView",
      "align_content": null,
      "align_items": null,
      "align_self": null,
      "border": null,
      "bottom": null,
      "display": null,
      "flex": null,
      "flex_flow": null,
      "grid_area": null,
      "grid_auto_columns": null,
      "grid_auto_flow": null,
      "grid_auto_rows": null,
      "grid_column": null,
      "grid_gap": null,
      "grid_row": null,
      "grid_template_areas": null,
      "grid_template_columns": null,
      "grid_template_rows": null,
      "height": null,
      "justify_content": null,
      "justify_items": null,
      "left": null,
      "margin": null,
      "max_height": null,
      "max_width": null,
      "min_height": null,
      "min_width": null,
      "object_fit": null,
      "object_position": null,
      "order": null,
      "overflow": null,
      "overflow_x": null,
      "overflow_y": null,
      "padding": null,
      "right": null,
      "top": null,
      "visibility": null,
      "width": null
     }
    },
    "48283d95bcd04e2e8e769722ed72d582": {
     "model_module": "@jupyter-widgets/controls",
     "model_module_version": "1.5.0",
     "model_name": "HBoxModel",
     "state": {
      "_dom_classes": [],
      "_model_module": "@jupyter-widgets/controls",
      "_model_module_version": "1.5.0",
      "_model_name": "HBoxModel",
      "_view_count": null,
      "_view_module": "@jupyter-widgets/controls",
      "_view_module_version": "1.5.0",
      "_view_name": "HBoxView",
      "box_style": "",
      "children": [
       "IPY_MODEL_8dee5001c4524dae9a25304299ca1e31",
       "IPY_MODEL_f6e426e77be3457d85dd630ee6d125b5",
       "IPY_MODEL_510d83f4c8bc4e12a0aa95f8313c85d9"
      ],
      "layout": "IPY_MODEL_ab63877692834578b74f39523dd1c11d"
     }
    },
    "4f34fc4cc0884adba86fa935a0ca5c1d": {
     "model_module": "@jupyter-widgets/base",
     "model_module_version": "1.2.0",
     "model_name": "LayoutModel",
     "state": {
      "_model_module": "@jupyter-widgets/base",
      "_model_module_version": "1.2.0",
      "_model_name": "LayoutModel",
      "_view_count": null,
      "_view_module": "@jupyter-widgets/base",
      "_view_module_version": "1.2.0",
      "_view_name": "LayoutView",
      "align_content": null,
      "align_items": null,
      "align_self": null,
      "border": null,
      "bottom": null,
      "display": null,
      "flex": null,
      "flex_flow": null,
      "grid_area": null,
      "grid_auto_columns": null,
      "grid_auto_flow": null,
      "grid_auto_rows": null,
      "grid_column": null,
      "grid_gap": null,
      "grid_row": null,
      "grid_template_areas": null,
      "grid_template_columns": null,
      "grid_template_rows": null,
      "height": null,
      "justify_content": null,
      "justify_items": null,
      "left": null,
      "margin": null,
      "max_height": null,
      "max_width": null,
      "min_height": null,
      "min_width": null,
      "object_fit": null,
      "object_position": null,
      "order": null,
      "overflow": null,
      "overflow_x": null,
      "overflow_y": null,
      "padding": null,
      "right": null,
      "top": null,
      "visibility": null,
      "width": null
     }
    },
    "510d83f4c8bc4e12a0aa95f8313c85d9": {
     "model_module": "@jupyter-widgets/controls",
     "model_module_version": "1.5.0",
     "model_name": "HTMLModel",
     "state": {
      "_dom_classes": [],
      "_model_module": "@jupyter-widgets/controls",
      "_model_module_version": "1.5.0",
      "_model_name": "HTMLModel",
      "_view_count": null,
      "_view_module": "@jupyter-widgets/controls",
      "_view_module_version": "1.5.0",
      "_view_name": "HTMLView",
      "description": "",
      "description_tooltip": null,
      "layout": "IPY_MODEL_85e3c898e2174701a8b11b4648810118",
      "placeholder": "​",
      "style": "IPY_MODEL_0ed7104997e54003bbbca3804dcfb302",
      "value": " 51147/100000 [00:33&lt;00:32, 1507.65it/s]"
     }
    },
    "5299f311504e4354abffbc1be130a471": {
     "model_module": "@jupyter-widgets/controls",
     "model_module_version": "1.5.0",
     "model_name": "HTMLModel",
     "state": {
      "_dom_classes": [],
      "_model_module": "@jupyter-widgets/controls",
      "_model_module_version": "1.5.0",
      "_model_name": "HTMLModel",
      "_view_count": null,
      "_view_module": "@jupyter-widgets/controls",
      "_view_module_version": "1.5.0",
      "_view_name": "HTMLView",
      "description": "",
      "description_tooltip": null,
      "layout": "IPY_MODEL_6de0aaa83c2147faa751168c94eead04",
      "placeholder": "​",
      "style": "IPY_MODEL_9c41e651dec84c92991b1dd566041122",
      "value": " 56%"
     }
    },
    "5660e50e5fbe41e8919f63ad201c30ed": {
     "model_module": "@jupyter-widgets/base",
     "model_module_version": "1.2.0",
     "model_name": "LayoutModel",
     "state": {
      "_model_module": "@jupyter-widgets/base",
      "_model_module_version": "1.2.0",
      "_model_name": "LayoutModel",
      "_view_count": null,
      "_view_module": "@jupyter-widgets/base",
      "_view_module_version": "1.2.0",
      "_view_name": "LayoutView",
      "align_content": null,
      "align_items": null,
      "align_self": null,
      "border": null,
      "bottom": null,
      "display": null,
      "flex": null,
      "flex_flow": null,
      "grid_area": null,
      "grid_auto_columns": null,
      "grid_auto_flow": null,
      "grid_auto_rows": null,
      "grid_column": null,
      "grid_gap": null,
      "grid_row": null,
      "grid_template_areas": null,
      "grid_template_columns": null,
      "grid_template_rows": null,
      "height": null,
      "justify_content": null,
      "justify_items": null,
      "left": null,
      "margin": null,
      "max_height": null,
      "max_width": null,
      "min_height": null,
      "min_width": null,
      "object_fit": null,
      "object_position": null,
      "order": null,
      "overflow": null,
      "overflow_x": null,
      "overflow_y": null,
      "padding": null,
      "right": null,
      "top": null,
      "visibility": null,
      "width": null
     }
    },
    "5a4d22e5e4114418bdfabd3e7d4f4099": {
     "model_module": "@jupyter-widgets/controls",
     "model_module_version": "1.5.0",
     "model_name": "HTMLModel",
     "state": {
      "_dom_classes": [],
      "_model_module": "@jupyter-widgets/controls",
      "_model_module_version": "1.5.0",
      "_model_name": "HTMLModel",
      "_view_count": null,
      "_view_module": "@jupyter-widgets/controls",
      "_view_module_version": "1.5.0",
      "_view_name": "HTMLView",
      "description": "",
      "description_tooltip": null,
      "layout": "IPY_MODEL_5660e50e5fbe41e8919f63ad201c30ed",
      "placeholder": "​",
      "style": "IPY_MODEL_1ed378a39621470aa1752096d1238976",
      "value": "  1%"
     }
    },
    "5b4409ae2a464615a24f0f9a88734430": {
     "model_module": "@jupyter-widgets/controls",
     "model_module_version": "1.5.0",
     "model_name": "HTMLModel",
     "state": {
      "_dom_classes": [],
      "_model_module": "@jupyter-widgets/controls",
      "_model_module_version": "1.5.0",
      "_model_name": "HTMLModel",
      "_view_count": null,
      "_view_module": "@jupyter-widgets/controls",
      "_view_module_version": "1.5.0",
      "_view_name": "HTMLView",
      "description": "",
      "description_tooltip": null,
      "layout": "IPY_MODEL_b3127d3925964c54a43d4c789f022974",
      "placeholder": "​",
      "style": "IPY_MODEL_c8fd19f58a9b419d93f10e8dee2bc1a1",
      "value": "  2%"
     }
    },
    "65eeac386d2d4068babd3198e07949d9": {
     "model_module": "@jupyter-widgets/controls",
     "model_module_version": "1.5.0",
     "model_name": "FloatProgressModel",
     "state": {
      "_dom_classes": [],
      "_model_module": "@jupyter-widgets/controls",
      "_model_module_version": "1.5.0",
      "_model_name": "FloatProgressModel",
      "_view_count": null,
      "_view_module": "@jupyter-widgets/controls",
      "_view_module_version": "1.5.0",
      "_view_name": "ProgressView",
      "bar_style": "danger",
      "description": "",
      "description_tooltip": null,
      "layout": "IPY_MODEL_4f34fc4cc0884adba86fa935a0ca5c1d",
      "max": 100000,
      "min": 0,
      "orientation": "horizontal",
      "style": "IPY_MODEL_bc0a7abc0b65478babdb5bb5da9a81fd",
      "value": 7598
     }
    },
    "68cbf8cb61ea4fb58ca459a6f8825bda": {
     "model_module": "@jupyter-widgets/base",
     "model_module_version": "1.2.0",
     "model_name": "LayoutModel",
     "state": {
      "_model_module": "@jupyter-widgets/base",
      "_model_module_version": "1.2.0",
      "_model_name": "LayoutModel",
      "_view_count": null,
      "_view_module": "@jupyter-widgets/base",
      "_view_module_version": "1.2.0",
      "_view_name": "LayoutView",
      "align_content": null,
      "align_items": null,
      "align_self": null,
      "border": null,
      "bottom": null,
      "display": null,
      "flex": null,
      "flex_flow": null,
      "grid_area": null,
      "grid_auto_columns": null,
      "grid_auto_flow": null,
      "grid_auto_rows": null,
      "grid_column": null,
      "grid_gap": null,
      "grid_row": null,
      "grid_template_areas": null,
      "grid_template_columns": null,
      "grid_template_rows": null,
      "height": null,
      "justify_content": null,
      "justify_items": null,
      "left": null,
      "margin": null,
      "max_height": null,
      "max_width": null,
      "min_height": null,
      "min_width": null,
      "object_fit": null,
      "object_position": null,
      "order": null,
      "overflow": null,
      "overflow_x": null,
      "overflow_y": null,
      "padding": null,
      "right": null,
      "top": null,
      "visibility": null,
      "width": null
     }
    },
    "6b2c4f00dbec41a0ad2d5f753321277f": {
     "model_module": "@jupyter-widgets/base",
     "model_module_version": "1.2.0",
     "model_name": "LayoutModel",
     "state": {
      "_model_module": "@jupyter-widgets/base",
      "_model_module_version": "1.2.0",
      "_model_name": "LayoutModel",
      "_view_count": null,
      "_view_module": "@jupyter-widgets/base",
      "_view_module_version": "1.2.0",
      "_view_name": "LayoutView",
      "align_content": null,
      "align_items": null,
      "align_self": null,
      "border": null,
      "bottom": null,
      "display": null,
      "flex": null,
      "flex_flow": null,
      "grid_area": null,
      "grid_auto_columns": null,
      "grid_auto_flow": null,
      "grid_auto_rows": null,
      "grid_column": null,
      "grid_gap": null,
      "grid_row": null,
      "grid_template_areas": null,
      "grid_template_columns": null,
      "grid_template_rows": null,
      "height": null,
      "justify_content": null,
      "justify_items": null,
      "left": null,
      "margin": null,
      "max_height": null,
      "max_width": null,
      "min_height": null,
      "min_width": null,
      "object_fit": null,
      "object_position": null,
      "order": null,
      "overflow": null,
      "overflow_x": null,
      "overflow_y": null,
      "padding": null,
      "right": null,
      "top": null,
      "visibility": null,
      "width": null
     }
    },
    "6b92f34a691947d38dcba7f14a76fc91": {
     "model_module": "@jupyter-widgets/controls",
     "model_module_version": "1.5.0",
     "model_name": "ProgressStyleModel",
     "state": {
      "_model_module": "@jupyter-widgets/controls",
      "_model_module_version": "1.5.0",
      "_model_name": "ProgressStyleModel",
      "_view_count": null,
      "_view_module": "@jupyter-widgets/base",
      "_view_module_version": "1.2.0",
      "_view_name": "StyleView",
      "bar_color": null,
      "description_width": ""
     }
    },
    "6de0aaa83c2147faa751168c94eead04": {
     "model_module": "@jupyter-widgets/base",
     "model_module_version": "1.2.0",
     "model_name": "LayoutModel",
     "state": {
      "_model_module": "@jupyter-widgets/base",
      "_model_module_version": "1.2.0",
      "_model_name": "LayoutModel",
      "_view_count": null,
      "_view_module": "@jupyter-widgets/base",
      "_view_module_version": "1.2.0",
      "_view_name": "LayoutView",
      "align_content": null,
      "align_items": null,
      "align_self": null,
      "border": null,
      "bottom": null,
      "display": null,
      "flex": null,
      "flex_flow": null,
      "grid_area": null,
      "grid_auto_columns": null,
      "grid_auto_flow": null,
      "grid_auto_rows": null,
      "grid_column": null,
      "grid_gap": null,
      "grid_row": null,
      "grid_template_areas": null,
      "grid_template_columns": null,
      "grid_template_rows": null,
      "height": null,
      "justify_content": null,
      "justify_items": null,
      "left": null,
      "margin": null,
      "max_height": null,
      "max_width": null,
      "min_height": null,
      "min_width": null,
      "object_fit": null,
      "object_position": null,
      "order": null,
      "overflow": null,
      "overflow_x": null,
      "overflow_y": null,
      "padding": null,
      "right": null,
      "top": null,
      "visibility": null,
      "width": null
     }
    },
    "7040097a67b54bcc85d65b5dbc4b1ea1": {
     "model_module": "@jupyter-widgets/controls",
     "model_module_version": "1.5.0",
     "model_name": "DescriptionStyleModel",
     "state": {
      "_model_module": "@jupyter-widgets/controls",
      "_model_module_version": "1.5.0",
      "_model_name": "DescriptionStyleModel",
      "_view_count": null,
      "_view_module": "@jupyter-widgets/base",
      "_view_module_version": "1.2.0",
      "_view_name": "StyleView",
      "description_width": ""
     }
    },
    "7214bb43e8fa463ca075c16b39fdf348": {
     "model_module": "@jupyter-widgets/controls",
     "model_module_version": "1.5.0",
     "model_name": "FloatProgressModel",
     "state": {
      "_dom_classes": [],
      "_model_module": "@jupyter-widgets/controls",
      "_model_module_version": "1.5.0",
      "_model_name": "FloatProgressModel",
      "_view_count": null,
      "_view_module": "@jupyter-widgets/controls",
      "_view_module_version": "1.5.0",
      "_view_name": "ProgressView",
      "bar_style": "danger",
      "description": "",
      "description_tooltip": null,
      "layout": "IPY_MODEL_9043f0a1852b48b2b5473c1cc695279f",
      "max": 100000,
      "min": 0,
      "orientation": "horizontal",
      "style": "IPY_MODEL_11ef84a58c064335ac10cebe86007a30",
      "value": 5966
     }
    },
    "776bdce92602462ea2cc27a73dfc2f1c": {
     "model_module": "@jupyter-widgets/controls",
     "model_module_version": "1.5.0",
     "model_name": "DescriptionStyleModel",
     "state": {
      "_model_module": "@jupyter-widgets/controls",
      "_model_module_version": "1.5.0",
      "_model_name": "DescriptionStyleModel",
      "_view_count": null,
      "_view_module": "@jupyter-widgets/base",
      "_view_module_version": "1.2.0",
      "_view_name": "StyleView",
      "description_width": ""
     }
    },
    "7a3558706862411ab6b2772e33f37cd0": {
     "model_module": "@jupyter-widgets/controls",
     "model_module_version": "1.5.0",
     "model_name": "HTMLModel",
     "state": {
      "_dom_classes": [],
      "_model_module": "@jupyter-widgets/controls",
      "_model_module_version": "1.5.0",
      "_model_name": "HTMLModel",
      "_view_count": null,
      "_view_module": "@jupyter-widgets/controls",
      "_view_module_version": "1.5.0",
      "_view_name": "HTMLView",
      "description": "",
      "description_tooltip": null,
      "layout": "IPY_MODEL_9bd5537a11ec41d6add9889d06f81fd1",
      "placeholder": "​",
      "style": "IPY_MODEL_abdd027752f84ff58b9c709ae2ed1f46",
      "value": " 56197/100000 [00:43&lt;00:33, 1302.27it/s]"
     }
    },
    "7c8ad8d452a3401aa9c44e377d032140": {
     "model_module": "@jupyter-widgets/base",
     "model_module_version": "1.2.0",
     "model_name": "LayoutModel",
     "state": {
      "_model_module": "@jupyter-widgets/base",
      "_model_module_version": "1.2.0",
      "_model_name": "LayoutModel",
      "_view_count": null,
      "_view_module": "@jupyter-widgets/base",
      "_view_module_version": "1.2.0",
      "_view_name": "LayoutView",
      "align_content": null,
      "align_items": null,
      "align_self": null,
      "border": null,
      "bottom": null,
      "display": null,
      "flex": null,
      "flex_flow": null,
      "grid_area": null,
      "grid_auto_columns": null,
      "grid_auto_flow": null,
      "grid_auto_rows": null,
      "grid_column": null,
      "grid_gap": null,
      "grid_row": null,
      "grid_template_areas": null,
      "grid_template_columns": null,
      "grid_template_rows": null,
      "height": null,
      "justify_content": null,
      "justify_items": null,
      "left": null,
      "margin": null,
      "max_height": null,
      "max_width": null,
      "min_height": null,
      "min_width": null,
      "object_fit": null,
      "object_position": null,
      "order": null,
      "overflow": null,
      "overflow_x": null,
      "overflow_y": null,
      "padding": null,
      "right": null,
      "top": null,
      "visibility": null,
      "width": null
     }
    },
    "853722c5194a4c5c81668eff730495ab": {
     "model_module": "@jupyter-widgets/controls",
     "model_module_version": "1.5.0",
     "model_name": "FloatProgressModel",
     "state": {
      "_dom_classes": [],
      "_model_module": "@jupyter-widgets/controls",
      "_model_module_version": "1.5.0",
      "_model_name": "FloatProgressModel",
      "_view_count": null,
      "_view_module": "@jupyter-widgets/controls",
      "_view_module_version": "1.5.0",
      "_view_name": "ProgressView",
      "bar_style": "danger",
      "description": "",
      "description_tooltip": null,
      "layout": "IPY_MODEL_db4d9b99946546e28dbf939f7668e059",
      "max": 100000,
      "min": 0,
      "orientation": "horizontal",
      "style": "IPY_MODEL_6b92f34a691947d38dcba7f14a76fc91",
      "value": 56197
     }
    },
    "85e3c898e2174701a8b11b4648810118": {
     "model_module": "@jupyter-widgets/base",
     "model_module_version": "1.2.0",
     "model_name": "LayoutModel",
     "state": {
      "_model_module": "@jupyter-widgets/base",
      "_model_module_version": "1.2.0",
      "_model_name": "LayoutModel",
      "_view_count": null,
      "_view_module": "@jupyter-widgets/base",
      "_view_module_version": "1.2.0",
      "_view_name": "LayoutView",
      "align_content": null,
      "align_items": null,
      "align_self": null,
      "border": null,
      "bottom": null,
      "display": null,
      "flex": null,
      "flex_flow": null,
      "grid_area": null,
      "grid_auto_columns": null,
      "grid_auto_flow": null,
      "grid_auto_rows": null,
      "grid_column": null,
      "grid_gap": null,
      "grid_row": null,
      "grid_template_areas": null,
      "grid_template_columns": null,
      "grid_template_rows": null,
      "height": null,
      "justify_content": null,
      "justify_items": null,
      "left": null,
      "margin": null,
      "max_height": null,
      "max_width": null,
      "min_height": null,
      "min_width": null,
      "object_fit": null,
      "object_position": null,
      "order": null,
      "overflow": null,
      "overflow_x": null,
      "overflow_y": null,
      "padding": null,
      "right": null,
      "top": null,
      "visibility": null,
      "width": null
     }
    },
    "85fa9b5acc0d44d490f3b925ddd69143": {
     "model_module": "@jupyter-widgets/controls",
     "model_module_version": "1.5.0",
     "model_name": "DescriptionStyleModel",
     "state": {
      "_model_module": "@jupyter-widgets/controls",
      "_model_module_version": "1.5.0",
      "_model_name": "DescriptionStyleModel",
      "_view_count": null,
      "_view_module": "@jupyter-widgets/base",
      "_view_module_version": "1.2.0",
      "_view_name": "StyleView",
      "description_width": ""
     }
    },
    "86177bdd34b54f339d762599f4a6ef6d": {
     "model_module": "@jupyter-widgets/base",
     "model_module_version": "1.2.0",
     "model_name": "LayoutModel",
     "state": {
      "_model_module": "@jupyter-widgets/base",
      "_model_module_version": "1.2.0",
      "_model_name": "LayoutModel",
      "_view_count": null,
      "_view_module": "@jupyter-widgets/base",
      "_view_module_version": "1.2.0",
      "_view_name": "LayoutView",
      "align_content": null,
      "align_items": null,
      "align_self": null,
      "border": null,
      "bottom": null,
      "display": null,
      "flex": null,
      "flex_flow": null,
      "grid_area": null,
      "grid_auto_columns": null,
      "grid_auto_flow": null,
      "grid_auto_rows": null,
      "grid_column": null,
      "grid_gap": null,
      "grid_row": null,
      "grid_template_areas": null,
      "grid_template_columns": null,
      "grid_template_rows": null,
      "height": null,
      "justify_content": null,
      "justify_items": null,
      "left": null,
      "margin": null,
      "max_height": null,
      "max_width": null,
      "min_height": null,
      "min_width": null,
      "object_fit": null,
      "object_position": null,
      "order": null,
      "overflow": null,
      "overflow_x": null,
      "overflow_y": null,
      "padding": null,
      "right": null,
      "top": null,
      "visibility": null,
      "width": null
     }
    },
    "8ae04f05314043e6b06bb4f8b507b4e4": {
     "model_module": "@jupyter-widgets/controls",
     "model_module_version": "1.5.0",
     "model_name": "HTMLModel",
     "state": {
      "_dom_classes": [],
      "_model_module": "@jupyter-widgets/controls",
      "_model_module_version": "1.5.0",
      "_model_name": "HTMLModel",
      "_view_count": null,
      "_view_module": "@jupyter-widgets/controls",
      "_view_module_version": "1.5.0",
      "_view_name": "HTMLView",
      "description": "",
      "description_tooltip": null,
      "layout": "IPY_MODEL_c57e0f948d40404eb3c8b3c2c96e94e6",
      "placeholder": "​",
      "style": "IPY_MODEL_327e479e03c34310b6af1a1b23e879f4",
      "value": " 23%"
     }
    },
    "8dee5001c4524dae9a25304299ca1e31": {
     "model_module": "@jupyter-widgets/controls",
     "model_module_version": "1.5.0",
     "model_name": "HTMLModel",
     "state": {
      "_dom_classes": [],
      "_model_module": "@jupyter-widgets/controls",
      "_model_module_version": "1.5.0",
      "_model_name": "HTMLModel",
      "_view_count": null,
      "_view_module": "@jupyter-widgets/controls",
      "_view_module_version": "1.5.0",
      "_view_name": "HTMLView",
      "description": "",
      "description_tooltip": null,
      "layout": "IPY_MODEL_86177bdd34b54f339d762599f4a6ef6d",
      "placeholder": "​",
      "style": "IPY_MODEL_0dd1bc214083440883126b0d0006ca62",
      "value": " 51%"
     }
    },
    "9043f0a1852b48b2b5473c1cc695279f": {
     "model_module": "@jupyter-widgets/base",
     "model_module_version": "1.2.0",
     "model_name": "LayoutModel",
     "state": {
      "_model_module": "@jupyter-widgets/base",
      "_model_module_version": "1.2.0",
      "_model_name": "LayoutModel",
      "_view_count": null,
      "_view_module": "@jupyter-widgets/base",
      "_view_module_version": "1.2.0",
      "_view_name": "LayoutView",
      "align_content": null,
      "align_items": null,
      "align_self": null,
      "border": null,
      "bottom": null,
      "display": null,
      "flex": null,
      "flex_flow": null,
      "grid_area": null,
      "grid_auto_columns": null,
      "grid_auto_flow": null,
      "grid_auto_rows": null,
      "grid_column": null,
      "grid_gap": null,
      "grid_row": null,
      "grid_template_areas": null,
      "grid_template_columns": null,
      "grid_template_rows": null,
      "height": null,
      "justify_content": null,
      "justify_items": null,
      "left": null,
      "margin": null,
      "max_height": null,
      "max_width": null,
      "min_height": null,
      "min_width": null,
      "object_fit": null,
      "object_position": null,
      "order": null,
      "overflow": null,
      "overflow_x": null,
      "overflow_y": null,
      "padding": null,
      "right": null,
      "top": null,
      "visibility": null,
      "width": null
     }
    },
    "931fb575c66d47a5814418c820329192": {
     "model_module": "@jupyter-widgets/controls",
     "model_module_version": "1.5.0",
     "model_name": "HBoxModel",
     "state": {
      "_dom_classes": [],
      "_model_module": "@jupyter-widgets/controls",
      "_model_module_version": "1.5.0",
      "_model_name": "HBoxModel",
      "_view_count": null,
      "_view_module": "@jupyter-widgets/controls",
      "_view_module_version": "1.5.0",
      "_view_name": "HBoxView",
      "box_style": "",
      "children": [
       "IPY_MODEL_36a975eb83dc48f6bdd6405d7f49f104",
       "IPY_MODEL_b27f7c52ebe54ea3a5d19079143472b9",
       "IPY_MODEL_fe69a03fb2394da5aa2d8036b9c6334e"
      ],
      "layout": "IPY_MODEL_a7e5662b0b5a44a1bed5e5f9df8c992d"
     }
    },
    "96f8e4d055b84bb5b6e5309cd64029ee": {
     "model_module": "@jupyter-widgets/controls",
     "model_module_version": "1.5.0",
     "model_name": "DescriptionStyleModel",
     "state": {
      "_model_module": "@jupyter-widgets/controls",
      "_model_module_version": "1.5.0",
      "_model_name": "DescriptionStyleModel",
      "_view_count": null,
      "_view_module": "@jupyter-widgets/base",
      "_view_module_version": "1.2.0",
      "_view_name": "StyleView",
      "description_width": ""
     }
    },
    "9949456319bd4292ad4ce3192ad4b255": {
     "model_module": "@jupyter-widgets/controls",
     "model_module_version": "1.5.0",
     "model_name": "HBoxModel",
     "state": {
      "_dom_classes": [],
      "_model_module": "@jupyter-widgets/controls",
      "_model_module_version": "1.5.0",
      "_model_name": "HBoxModel",
      "_view_count": null,
      "_view_module": "@jupyter-widgets/controls",
      "_view_module_version": "1.5.0",
      "_view_name": "HBoxView",
      "box_style": "",
      "children": [
       "IPY_MODEL_5299f311504e4354abffbc1be130a471",
       "IPY_MODEL_853722c5194a4c5c81668eff730495ab",
       "IPY_MODEL_7a3558706862411ab6b2772e33f37cd0"
      ],
      "layout": "IPY_MODEL_cde4c617ab6d48a0a36290bdc0fd8786"
     }
    },
    "9bd5537a11ec41d6add9889d06f81fd1": {
     "model_module": "@jupyter-widgets/base",
     "model_module_version": "1.2.0",
     "model_name": "LayoutModel",
     "state": {
      "_model_module": "@jupyter-widgets/base",
      "_model_module_version": "1.2.0",
      "_model_name": "LayoutModel",
      "_view_count": null,
      "_view_module": "@jupyter-widgets/base",
      "_view_module_version": "1.2.0",
      "_view_name": "LayoutView",
      "align_content": null,
      "align_items": null,
      "align_self": null,
      "border": null,
      "bottom": null,
      "display": null,
      "flex": null,
      "flex_flow": null,
      "grid_area": null,
      "grid_auto_columns": null,
      "grid_auto_flow": null,
      "grid_auto_rows": null,
      "grid_column": null,
      "grid_gap": null,
      "grid_row": null,
      "grid_template_areas": null,
      "grid_template_columns": null,
      "grid_template_rows": null,
      "height": null,
      "justify_content": null,
      "justify_items": null,
      "left": null,
      "margin": null,
      "max_height": null,
      "max_width": null,
      "min_height": null,
      "min_width": null,
      "object_fit": null,
      "object_position": null,
      "order": null,
      "overflow": null,
      "overflow_x": null,
      "overflow_y": null,
      "padding": null,
      "right": null,
      "top": null,
      "visibility": null,
      "width": null
     }
    },
    "9c41e651dec84c92991b1dd566041122": {
     "model_module": "@jupyter-widgets/controls",
     "model_module_version": "1.5.0",
     "model_name": "DescriptionStyleModel",
     "state": {
      "_model_module": "@jupyter-widgets/controls",
      "_model_module_version": "1.5.0",
      "_model_name": "DescriptionStyleModel",
      "_view_count": null,
      "_view_module": "@jupyter-widgets/base",
      "_view_module_version": "1.2.0",
      "_view_name": "StyleView",
      "description_width": ""
     }
    },
    "9d150793a5954025b95ec03606871455": {
     "model_module": "@jupyter-widgets/controls",
     "model_module_version": "1.5.0",
     "model_name": "ProgressStyleModel",
     "state": {
      "_model_module": "@jupyter-widgets/controls",
      "_model_module_version": "1.5.0",
      "_model_name": "ProgressStyleModel",
      "_view_count": null,
      "_view_module": "@jupyter-widgets/base",
      "_view_module_version": "1.2.0",
      "_view_name": "StyleView",
      "bar_color": null,
      "description_width": ""
     }
    },
    "9fc8d09e7b414f82b4f9ea19ea3c4553": {
     "model_module": "@jupyter-widgets/controls",
     "model_module_version": "1.5.0",
     "model_name": "FloatProgressModel",
     "state": {
      "_dom_classes": [],
      "_model_module": "@jupyter-widgets/controls",
      "_model_module_version": "1.5.0",
      "_model_name": "FloatProgressModel",
      "_view_count": null,
      "_view_module": "@jupyter-widgets/controls",
      "_view_module_version": "1.5.0",
      "_view_name": "ProgressView",
      "bar_style": "danger",
      "description": "",
      "description_tooltip": null,
      "layout": "IPY_MODEL_d695c63dadb14f589feb238c2bbc0f92",
      "max": 100000,
      "min": 0,
      "orientation": "horizontal",
      "style": "IPY_MODEL_f749eb7599a3498c85c9d6c2bac21786",
      "value": 23067
     }
    },
    "a1216ddf6d43428a82e8e797eeff0001": {
     "model_module": "@jupyter-widgets/base",
     "model_module_version": "1.2.0",
     "model_name": "LayoutModel",
     "state": {
      "_model_module": "@jupyter-widgets/base",
      "_model_module_version": "1.2.0",
      "_model_name": "LayoutModel",
      "_view_count": null,
      "_view_module": "@jupyter-widgets/base",
      "_view_module_version": "1.2.0",
      "_view_name": "LayoutView",
      "align_content": null,
      "align_items": null,
      "align_self": null,
      "border": null,
      "bottom": null,
      "display": null,
      "flex": null,
      "flex_flow": null,
      "grid_area": null,
      "grid_auto_columns": null,
      "grid_auto_flow": null,
      "grid_auto_rows": null,
      "grid_column": null,
      "grid_gap": null,
      "grid_row": null,
      "grid_template_areas": null,
      "grid_template_columns": null,
      "grid_template_rows": null,
      "height": null,
      "justify_content": null,
      "justify_items": null,
      "left": null,
      "margin": null,
      "max_height": null,
      "max_width": null,
      "min_height": null,
      "min_width": null,
      "object_fit": null,
      "object_position": null,
      "order": null,
      "overflow": null,
      "overflow_x": null,
      "overflow_y": null,
      "padding": null,
      "right": null,
      "top": null,
      "visibility": null,
      "width": null
     }
    },
    "a179e3d26f4b442db3ae4a1e02d8f63d": {
     "model_module": "@jupyter-widgets/controls",
     "model_module_version": "1.5.0",
     "model_name": "ProgressStyleModel",
     "state": {
      "_model_module": "@jupyter-widgets/controls",
      "_model_module_version": "1.5.0",
      "_model_name": "ProgressStyleModel",
      "_view_count": null,
      "_view_module": "@jupyter-widgets/base",
      "_view_module_version": "1.2.0",
      "_view_name": "StyleView",
      "bar_color": null,
      "description_width": ""
     }
    },
    "a3737b3cf3bf4633bf2631d95d4220ff": {
     "model_module": "@jupyter-widgets/base",
     "model_module_version": "1.2.0",
     "model_name": "LayoutModel",
     "state": {
      "_model_module": "@jupyter-widgets/base",
      "_model_module_version": "1.2.0",
      "_model_name": "LayoutModel",
      "_view_count": null,
      "_view_module": "@jupyter-widgets/base",
      "_view_module_version": "1.2.0",
      "_view_name": "LayoutView",
      "align_content": null,
      "align_items": null,
      "align_self": null,
      "border": null,
      "bottom": null,
      "display": null,
      "flex": null,
      "flex_flow": null,
      "grid_area": null,
      "grid_auto_columns": null,
      "grid_auto_flow": null,
      "grid_auto_rows": null,
      "grid_column": null,
      "grid_gap": null,
      "grid_row": null,
      "grid_template_areas": null,
      "grid_template_columns": null,
      "grid_template_rows": null,
      "height": null,
      "justify_content": null,
      "justify_items": null,
      "left": null,
      "margin": null,
      "max_height": null,
      "max_width": null,
      "min_height": null,
      "min_width": null,
      "object_fit": null,
      "object_position": null,
      "order": null,
      "overflow": null,
      "overflow_x": null,
      "overflow_y": null,
      "padding": null,
      "right": null,
      "top": null,
      "visibility": null,
      "width": null
     }
    },
    "a7e5662b0b5a44a1bed5e5f9df8c992d": {
     "model_module": "@jupyter-widgets/base",
     "model_module_version": "1.2.0",
     "model_name": "LayoutModel",
     "state": {
      "_model_module": "@jupyter-widgets/base",
      "_model_module_version": "1.2.0",
      "_model_name": "LayoutModel",
      "_view_count": null,
      "_view_module": "@jupyter-widgets/base",
      "_view_module_version": "1.2.0",
      "_view_name": "LayoutView",
      "align_content": null,
      "align_items": null,
      "align_self": null,
      "border": null,
      "bottom": null,
      "display": null,
      "flex": null,
      "flex_flow": null,
      "grid_area": null,
      "grid_auto_columns": null,
      "grid_auto_flow": null,
      "grid_auto_rows": null,
      "grid_column": null,
      "grid_gap": null,
      "grid_row": null,
      "grid_template_areas": null,
      "grid_template_columns": null,
      "grid_template_rows": null,
      "height": null,
      "justify_content": null,
      "justify_items": null,
      "left": null,
      "margin": null,
      "max_height": null,
      "max_width": null,
      "min_height": null,
      "min_width": null,
      "object_fit": null,
      "object_position": null,
      "order": null,
      "overflow": null,
      "overflow_x": null,
      "overflow_y": null,
      "padding": null,
      "right": null,
      "top": null,
      "visibility": null,
      "width": null
     }
    },
    "ab63877692834578b74f39523dd1c11d": {
     "model_module": "@jupyter-widgets/base",
     "model_module_version": "1.2.0",
     "model_name": "LayoutModel",
     "state": {
      "_model_module": "@jupyter-widgets/base",
      "_model_module_version": "1.2.0",
      "_model_name": "LayoutModel",
      "_view_count": null,
      "_view_module": "@jupyter-widgets/base",
      "_view_module_version": "1.2.0",
      "_view_name": "LayoutView",
      "align_content": null,
      "align_items": null,
      "align_self": null,
      "border": null,
      "bottom": null,
      "display": null,
      "flex": null,
      "flex_flow": null,
      "grid_area": null,
      "grid_auto_columns": null,
      "grid_auto_flow": null,
      "grid_auto_rows": null,
      "grid_column": null,
      "grid_gap": null,
      "grid_row": null,
      "grid_template_areas": null,
      "grid_template_columns": null,
      "grid_template_rows": null,
      "height": null,
      "justify_content": null,
      "justify_items": null,
      "left": null,
      "margin": null,
      "max_height": null,
      "max_width": null,
      "min_height": null,
      "min_width": null,
      "object_fit": null,
      "object_position": null,
      "order": null,
      "overflow": null,
      "overflow_x": null,
      "overflow_y": null,
      "padding": null,
      "right": null,
      "top": null,
      "visibility": null,
      "width": null
     }
    },
    "abdd027752f84ff58b9c709ae2ed1f46": {
     "model_module": "@jupyter-widgets/controls",
     "model_module_version": "1.5.0",
     "model_name": "DescriptionStyleModel",
     "state": {
      "_model_module": "@jupyter-widgets/controls",
      "_model_module_version": "1.5.0",
      "_model_name": "DescriptionStyleModel",
      "_view_count": null,
      "_view_module": "@jupyter-widgets/base",
      "_view_module_version": "1.2.0",
      "_view_name": "StyleView",
      "description_width": ""
     }
    },
    "ae7bc86d6c254c658e699b14515c0a2e": {
     "model_module": "@jupyter-widgets/controls",
     "model_module_version": "1.5.0",
     "model_name": "HTMLModel",
     "state": {
      "_dom_classes": [],
      "_model_module": "@jupyter-widgets/controls",
      "_model_module_version": "1.5.0",
      "_model_name": "HTMLModel",
      "_view_count": null,
      "_view_module": "@jupyter-widgets/controls",
      "_view_module_version": "1.5.0",
      "_view_name": "HTMLView",
      "description": "",
      "description_tooltip": null,
      "layout": "IPY_MODEL_fd496631018941809c1f52883a379153",
      "placeholder": "​",
      "style": "IPY_MODEL_776bdce92602462ea2cc27a73dfc2f1c",
      "value": " 817/100000 [00:20&lt;41:15, 40.07it/s]"
     }
    },
    "b27f7c52ebe54ea3a5d19079143472b9": {
     "model_module": "@jupyter-widgets/controls",
     "model_module_version": "1.5.0",
     "model_name": "FloatProgressModel",
     "state": {
      "_dom_classes": [],
      "_model_module": "@jupyter-widgets/controls",
      "_model_module_version": "1.5.0",
      "_model_name": "FloatProgressModel",
      "_view_count": null,
      "_view_module": "@jupyter-widgets/controls",
      "_view_module_version": "1.5.0",
      "_view_name": "ProgressView",
      "bar_style": "danger",
      "description": "",
      "description_tooltip": null,
      "layout": "IPY_MODEL_136c3bc56cb24417ab2588b9c92fd416",
      "max": 100000,
      "min": 0,
      "orientation": "horizontal",
      "style": "IPY_MODEL_a179e3d26f4b442db3ae4a1e02d8f63d",
      "value": 27549
     }
    },
    "b3127d3925964c54a43d4c789f022974": {
     "model_module": "@jupyter-widgets/base",
     "model_module_version": "1.2.0",
     "model_name": "LayoutModel",
     "state": {
      "_model_module": "@jupyter-widgets/base",
      "_model_module_version": "1.2.0",
      "_model_name": "LayoutModel",
      "_view_count": null,
      "_view_module": "@jupyter-widgets/base",
      "_view_module_version": "1.2.0",
      "_view_name": "LayoutView",
      "align_content": null,
      "align_items": null,
      "align_self": null,
      "border": null,
      "bottom": null,
      "display": null,
      "flex": null,
      "flex_flow": null,
      "grid_area": null,
      "grid_auto_columns": null,
      "grid_auto_flow": null,
      "grid_auto_rows": null,
      "grid_column": null,
      "grid_gap": null,
      "grid_row": null,
      "grid_template_areas": null,
      "grid_template_columns": null,
      "grid_template_rows": null,
      "height": null,
      "justify_content": null,
      "justify_items": null,
      "left": null,
      "margin": null,
      "max_height": null,
      "max_width": null,
      "min_height": null,
      "min_width": null,
      "object_fit": null,
      "object_position": null,
      "order": null,
      "overflow": null,
      "overflow_x": null,
      "overflow_y": null,
      "padding": null,
      "right": null,
      "top": null,
      "visibility": null,
      "width": null
     }
    },
    "bc0a7abc0b65478babdb5bb5da9a81fd": {
     "model_module": "@jupyter-widgets/controls",
     "model_module_version": "1.5.0",
     "model_name": "ProgressStyleModel",
     "state": {
      "_model_module": "@jupyter-widgets/controls",
      "_model_module_version": "1.5.0",
      "_model_name": "ProgressStyleModel",
      "_view_count": null,
      "_view_module": "@jupyter-widgets/base",
      "_view_module_version": "1.2.0",
      "_view_name": "StyleView",
      "bar_color": null,
      "description_width": ""
     }
    },
    "bce6f392778d4a32a816aa37b716d0ef": {
     "model_module": "@jupyter-widgets/controls",
     "model_module_version": "1.5.0",
     "model_name": "HBoxModel",
     "state": {
      "_dom_classes": [],
      "_model_module": "@jupyter-widgets/controls",
      "_model_module_version": "1.5.0",
      "_model_name": "HBoxModel",
      "_view_count": null,
      "_view_module": "@jupyter-widgets/controls",
      "_view_module_version": "1.5.0",
      "_view_name": "HBoxView",
      "box_style": "",
      "children": [
       "IPY_MODEL_5a4d22e5e4114418bdfabd3e7d4f4099",
       "IPY_MODEL_0017562f6baf40c2939503672a56f364",
       "IPY_MODEL_ae7bc86d6c254c658e699b14515c0a2e"
      ],
      "layout": "IPY_MODEL_d8dadc67de424ea59c3f01b7998c1cb4"
     }
    },
    "bd749fdc04544b5ab4efa17c6b13b958": {
     "model_module": "@jupyter-widgets/controls",
     "model_module_version": "1.5.0",
     "model_name": "HBoxModel",
     "state": {
      "_dom_classes": [],
      "_model_module": "@jupyter-widgets/controls",
      "_model_module_version": "1.5.0",
      "_model_name": "HBoxModel",
      "_view_count": null,
      "_view_module": "@jupyter-widgets/controls",
      "_view_module_version": "1.5.0",
      "_view_name": "HBoxView",
      "box_style": "",
      "children": [
       "IPY_MODEL_8ae04f05314043e6b06bb4f8b507b4e4",
       "IPY_MODEL_9fc8d09e7b414f82b4f9ea19ea3c4553",
       "IPY_MODEL_3e2402a9ef234e7dafb4e3fee6ea713d"
      ],
      "layout": "IPY_MODEL_7c8ad8d452a3401aa9c44e377d032140"
     }
    },
    "c2f61469f5f54f5ab151c3a2a7cb207d": {
     "model_module": "@jupyter-widgets/controls",
     "model_module_version": "1.5.0",
     "model_name": "HBoxModel",
     "state": {
      "_dom_classes": [],
      "_model_module": "@jupyter-widgets/controls",
      "_model_module_version": "1.5.0",
      "_model_name": "HBoxModel",
      "_view_count": null,
      "_view_module": "@jupyter-widgets/controls",
      "_view_module_version": "1.5.0",
      "_view_name": "HBoxView",
      "box_style": "",
      "children": [
       "IPY_MODEL_1881c07e75d541d5ba70604a835498ae",
       "IPY_MODEL_7214bb43e8fa463ca075c16b39fdf348",
       "IPY_MODEL_cecc0a837e6a4c77861fb207c09bb8f0"
      ],
      "layout": "IPY_MODEL_3bd3becd7d7f4a9fb00c48eb658332af"
     }
    },
    "c507a3d0370649e2a3357584f8bf37c4": {
     "model_module": "@jupyter-widgets/controls",
     "model_module_version": "1.5.0",
     "model_name": "HBoxModel",
     "state": {
      "_dom_classes": [],
      "_model_module": "@jupyter-widgets/controls",
      "_model_module_version": "1.5.0",
      "_model_name": "HBoxModel",
      "_view_count": null,
      "_view_module": "@jupyter-widgets/controls",
      "_view_module_version": "1.5.0",
      "_view_name": "HBoxView",
      "box_style": "",
      "children": [
       "IPY_MODEL_36dc083d20d641c8a129054f3171f724",
       "IPY_MODEL_65eeac386d2d4068babd3198e07949d9",
       "IPY_MODEL_cc3c7690f68b40588c89425be7ab0393"
      ],
      "layout": "IPY_MODEL_0868dd303fec4bea9ca873fc02e73e66"
     }
    },
    "c57e0f948d40404eb3c8b3c2c96e94e6": {
     "model_module": "@jupyter-widgets/base",
     "model_module_version": "1.2.0",
     "model_name": "LayoutModel",
     "state": {
      "_model_module": "@jupyter-widgets/base",
      "_model_module_version": "1.2.0",
      "_model_name": "LayoutModel",
      "_view_count": null,
      "_view_module": "@jupyter-widgets/base",
      "_view_module_version": "1.2.0",
      "_view_name": "LayoutView",
      "align_content": null,
      "align_items": null,
      "align_self": null,
      "border": null,
      "bottom": null,
      "display": null,
      "flex": null,
      "flex_flow": null,
      "grid_area": null,
      "grid_auto_columns": null,
      "grid_auto_flow": null,
      "grid_auto_rows": null,
      "grid_column": null,
      "grid_gap": null,
      "grid_row": null,
      "grid_template_areas": null,
      "grid_template_columns": null,
      "grid_template_rows": null,
      "height": null,
      "justify_content": null,
      "justify_items": null,
      "left": null,
      "margin": null,
      "max_height": null,
      "max_width": null,
      "min_height": null,
      "min_width": null,
      "object_fit": null,
      "object_position": null,
      "order": null,
      "overflow": null,
      "overflow_x": null,
      "overflow_y": null,
      "padding": null,
      "right": null,
      "top": null,
      "visibility": null,
      "width": null
     }
    },
    "c8fd19f58a9b419d93f10e8dee2bc1a1": {
     "model_module": "@jupyter-widgets/controls",
     "model_module_version": "1.5.0",
     "model_name": "DescriptionStyleModel",
     "state": {
      "_model_module": "@jupyter-widgets/controls",
      "_model_module_version": "1.5.0",
      "_model_name": "DescriptionStyleModel",
      "_view_count": null,
      "_view_module": "@jupyter-widgets/base",
      "_view_module_version": "1.2.0",
      "_view_name": "StyleView",
      "description_width": ""
     }
    },
    "cc3c7690f68b40588c89425be7ab0393": {
     "model_module": "@jupyter-widgets/controls",
     "model_module_version": "1.5.0",
     "model_name": "HTMLModel",
     "state": {
      "_dom_classes": [],
      "_model_module": "@jupyter-widgets/controls",
      "_model_module_version": "1.5.0",
      "_model_name": "HTMLModel",
      "_view_count": null,
      "_view_module": "@jupyter-widgets/controls",
      "_view_module_version": "1.5.0",
      "_view_name": "HTMLView",
      "description": "",
      "description_tooltip": null,
      "layout": "IPY_MODEL_a1216ddf6d43428a82e8e797eeff0001",
      "placeholder": "​",
      "style": "IPY_MODEL_ebf6ae03c4694e5785cedf286e6648c6",
      "value": " 7598/100000 [01:35&lt;19:12, 80.16it/s]"
     }
    },
    "cde4c617ab6d48a0a36290bdc0fd8786": {
     "model_module": "@jupyter-widgets/base",
     "model_module_version": "1.2.0",
     "model_name": "LayoutModel",
     "state": {
      "_model_module": "@jupyter-widgets/base",
      "_model_module_version": "1.2.0",
      "_model_name": "LayoutModel",
      "_view_count": null,
      "_view_module": "@jupyter-widgets/base",
      "_view_module_version": "1.2.0",
      "_view_name": "LayoutView",
      "align_content": null,
      "align_items": null,
      "align_self": null,
      "border": null,
      "bottom": null,
      "display": null,
      "flex": null,
      "flex_flow": null,
      "grid_area": null,
      "grid_auto_columns": null,
      "grid_auto_flow": null,
      "grid_auto_rows": null,
      "grid_column": null,
      "grid_gap": null,
      "grid_row": null,
      "grid_template_areas": null,
      "grid_template_columns": null,
      "grid_template_rows": null,
      "height": null,
      "justify_content": null,
      "justify_items": null,
      "left": null,
      "margin": null,
      "max_height": null,
      "max_width": null,
      "min_height": null,
      "min_width": null,
      "object_fit": null,
      "object_position": null,
      "order": null,
      "overflow": null,
      "overflow_x": null,
      "overflow_y": null,
      "padding": null,
      "right": null,
      "top": null,
      "visibility": null,
      "width": null
     }
    },
    "cecc0a837e6a4c77861fb207c09bb8f0": {
     "model_module": "@jupyter-widgets/controls",
     "model_module_version": "1.5.0",
     "model_name": "HTMLModel",
     "state": {
      "_dom_classes": [],
      "_model_module": "@jupyter-widgets/controls",
      "_model_module_version": "1.5.0",
      "_model_name": "HTMLModel",
      "_view_count": null,
      "_view_module": "@jupyter-widgets/controls",
      "_view_module_version": "1.5.0",
      "_view_name": "HTMLView",
      "description": "",
      "description_tooltip": null,
      "layout": "IPY_MODEL_3fc01942ec194e228b6fb6a533a996cf",
      "placeholder": "​",
      "style": "IPY_MODEL_f8bee263b61a467baf4c796dad5e36ad",
      "value": " 5966/100000 [00:04&lt;01:03, 1474.63it/s]"
     }
    },
    "d20ba89c26314963afab101633bd3f5d": {
     "model_module": "@jupyter-widgets/controls",
     "model_module_version": "1.5.0",
     "model_name": "DescriptionStyleModel",
     "state": {
      "_model_module": "@jupyter-widgets/controls",
      "_model_module_version": "1.5.0",
      "_model_name": "DescriptionStyleModel",
      "_view_count": null,
      "_view_module": "@jupyter-widgets/base",
      "_view_module_version": "1.2.0",
      "_view_name": "StyleView",
      "description_width": ""
     }
    },
    "d297f07a34714acab54308b2282f4672": {
     "model_module": "@jupyter-widgets/base",
     "model_module_version": "1.2.0",
     "model_name": "LayoutModel",
     "state": {
      "_model_module": "@jupyter-widgets/base",
      "_model_module_version": "1.2.0",
      "_model_name": "LayoutModel",
      "_view_count": null,
      "_view_module": "@jupyter-widgets/base",
      "_view_module_version": "1.2.0",
      "_view_name": "LayoutView",
      "align_content": null,
      "align_items": null,
      "align_self": null,
      "border": null,
      "bottom": null,
      "display": null,
      "flex": null,
      "flex_flow": null,
      "grid_area": null,
      "grid_auto_columns": null,
      "grid_auto_flow": null,
      "grid_auto_rows": null,
      "grid_column": null,
      "grid_gap": null,
      "grid_row": null,
      "grid_template_areas": null,
      "grid_template_columns": null,
      "grid_template_rows": null,
      "height": null,
      "justify_content": null,
      "justify_items": null,
      "left": null,
      "margin": null,
      "max_height": null,
      "max_width": null,
      "min_height": null,
      "min_width": null,
      "object_fit": null,
      "object_position": null,
      "order": null,
      "overflow": null,
      "overflow_x": null,
      "overflow_y": null,
      "padding": null,
      "right": null,
      "top": null,
      "visibility": null,
      "width": null
     }
    },
    "d4a4a38de36c4473b2b8ae5d22edd434": {
     "model_module": "@jupyter-widgets/controls",
     "model_module_version": "1.5.0",
     "model_name": "ProgressStyleModel",
     "state": {
      "_model_module": "@jupyter-widgets/controls",
      "_model_module_version": "1.5.0",
      "_model_name": "ProgressStyleModel",
      "_view_count": null,
      "_view_module": "@jupyter-widgets/base",
      "_view_module_version": "1.2.0",
      "_view_name": "StyleView",
      "bar_color": null,
      "description_width": ""
     }
    },
    "d54f3d307fc644bba059d30a85e656b6": {
     "model_module": "@jupyter-widgets/controls",
     "model_module_version": "1.5.0",
     "model_name": "HTMLModel",
     "state": {
      "_dom_classes": [],
      "_model_module": "@jupyter-widgets/controls",
      "_model_module_version": "1.5.0",
      "_model_name": "HTMLModel",
      "_view_count": null,
      "_view_module": "@jupyter-widgets/controls",
      "_view_module_version": "1.5.0",
      "_view_name": "HTMLView",
      "description": "",
      "description_tooltip": null,
      "layout": "IPY_MODEL_16993ef3b8274f35a25e3c3e49ba1c1a",
      "placeholder": "​",
      "style": "IPY_MODEL_d20ba89c26314963afab101633bd3f5d",
      "value": " 1692/100000 [00:22&lt;21:29, 76.27it/s]"
     }
    },
    "d5bb239d53ed4039b7b598fa27019006": {
     "model_module": "@jupyter-widgets/base",
     "model_module_version": "1.2.0",
     "model_name": "LayoutModel",
     "state": {
      "_model_module": "@jupyter-widgets/base",
      "_model_module_version": "1.2.0",
      "_model_name": "LayoutModel",
      "_view_count": null,
      "_view_module": "@jupyter-widgets/base",
      "_view_module_version": "1.2.0",
      "_view_name": "LayoutView",
      "align_content": null,
      "align_items": null,
      "align_self": null,
      "border": null,
      "bottom": null,
      "display": null,
      "flex": null,
      "flex_flow": null,
      "grid_area": null,
      "grid_auto_columns": null,
      "grid_auto_flow": null,
      "grid_auto_rows": null,
      "grid_column": null,
      "grid_gap": null,
      "grid_row": null,
      "grid_template_areas": null,
      "grid_template_columns": null,
      "grid_template_rows": null,
      "height": null,
      "justify_content": null,
      "justify_items": null,
      "left": null,
      "margin": null,
      "max_height": null,
      "max_width": null,
      "min_height": null,
      "min_width": null,
      "object_fit": null,
      "object_position": null,
      "order": null,
      "overflow": null,
      "overflow_x": null,
      "overflow_y": null,
      "padding": null,
      "right": null,
      "top": null,
      "visibility": null,
      "width": null
     }
    },
    "d695c63dadb14f589feb238c2bbc0f92": {
     "model_module": "@jupyter-widgets/base",
     "model_module_version": "1.2.0",
     "model_name": "LayoutModel",
     "state": {
      "_model_module": "@jupyter-widgets/base",
      "_model_module_version": "1.2.0",
      "_model_name": "LayoutModel",
      "_view_count": null,
      "_view_module": "@jupyter-widgets/base",
      "_view_module_version": "1.2.0",
      "_view_name": "LayoutView",
      "align_content": null,
      "align_items": null,
      "align_self": null,
      "border": null,
      "bottom": null,
      "display": null,
      "flex": null,
      "flex_flow": null,
      "grid_area": null,
      "grid_auto_columns": null,
      "grid_auto_flow": null,
      "grid_auto_rows": null,
      "grid_column": null,
      "grid_gap": null,
      "grid_row": null,
      "grid_template_areas": null,
      "grid_template_columns": null,
      "grid_template_rows": null,
      "height": null,
      "justify_content": null,
      "justify_items": null,
      "left": null,
      "margin": null,
      "max_height": null,
      "max_width": null,
      "min_height": null,
      "min_width": null,
      "object_fit": null,
      "object_position": null,
      "order": null,
      "overflow": null,
      "overflow_x": null,
      "overflow_y": null,
      "padding": null,
      "right": null,
      "top": null,
      "visibility": null,
      "width": null
     }
    },
    "d8dadc67de424ea59c3f01b7998c1cb4": {
     "model_module": "@jupyter-widgets/base",
     "model_module_version": "1.2.0",
     "model_name": "LayoutModel",
     "state": {
      "_model_module": "@jupyter-widgets/base",
      "_model_module_version": "1.2.0",
      "_model_name": "LayoutModel",
      "_view_count": null,
      "_view_module": "@jupyter-widgets/base",
      "_view_module_version": "1.2.0",
      "_view_name": "LayoutView",
      "align_content": null,
      "align_items": null,
      "align_self": null,
      "border": null,
      "bottom": null,
      "display": null,
      "flex": null,
      "flex_flow": null,
      "grid_area": null,
      "grid_auto_columns": null,
      "grid_auto_flow": null,
      "grid_auto_rows": null,
      "grid_column": null,
      "grid_gap": null,
      "grid_row": null,
      "grid_template_areas": null,
      "grid_template_columns": null,
      "grid_template_rows": null,
      "height": null,
      "justify_content": null,
      "justify_items": null,
      "left": null,
      "margin": null,
      "max_height": null,
      "max_width": null,
      "min_height": null,
      "min_width": null,
      "object_fit": null,
      "object_position": null,
      "order": null,
      "overflow": null,
      "overflow_x": null,
      "overflow_y": null,
      "padding": null,
      "right": null,
      "top": null,
      "visibility": null,
      "width": null
     }
    },
    "db4d9b99946546e28dbf939f7668e059": {
     "model_module": "@jupyter-widgets/base",
     "model_module_version": "1.2.0",
     "model_name": "LayoutModel",
     "state": {
      "_model_module": "@jupyter-widgets/base",
      "_model_module_version": "1.2.0",
      "_model_name": "LayoutModel",
      "_view_count": null,
      "_view_module": "@jupyter-widgets/base",
      "_view_module_version": "1.2.0",
      "_view_name": "LayoutView",
      "align_content": null,
      "align_items": null,
      "align_self": null,
      "border": null,
      "bottom": null,
      "display": null,
      "flex": null,
      "flex_flow": null,
      "grid_area": null,
      "grid_auto_columns": null,
      "grid_auto_flow": null,
      "grid_auto_rows": null,
      "grid_column": null,
      "grid_gap": null,
      "grid_row": null,
      "grid_template_areas": null,
      "grid_template_columns": null,
      "grid_template_rows": null,
      "height": null,
      "justify_content": null,
      "justify_items": null,
      "left": null,
      "margin": null,
      "max_height": null,
      "max_width": null,
      "min_height": null,
      "min_width": null,
      "object_fit": null,
      "object_position": null,
      "order": null,
      "overflow": null,
      "overflow_x": null,
      "overflow_y": null,
      "padding": null,
      "right": null,
      "top": null,
      "visibility": null,
      "width": null
     }
    },
    "e30d0864fa884f848a01ac5ad2c41717": {
     "model_module": "@jupyter-widgets/controls",
     "model_module_version": "1.5.0",
     "model_name": "HBoxModel",
     "state": {
      "_dom_classes": [],
      "_model_module": "@jupyter-widgets/controls",
      "_model_module_version": "1.5.0",
      "_model_name": "HBoxModel",
      "_view_count": null,
      "_view_module": "@jupyter-widgets/controls",
      "_view_module_version": "1.5.0",
      "_view_name": "HBoxView",
      "box_style": "",
      "children": [
       "IPY_MODEL_5b4409ae2a464615a24f0f9a88734430",
       "IPY_MODEL_3ab619a743c740c2ab7d8eb0aa55f06c",
       "IPY_MODEL_d54f3d307fc644bba059d30a85e656b6"
      ],
      "layout": "IPY_MODEL_0a3ddfa756874414935bf3bf0a31e5b4"
     }
    },
    "ebf6ae03c4694e5785cedf286e6648c6": {
     "model_module": "@jupyter-widgets/controls",
     "model_module_version": "1.5.0",
     "model_name": "DescriptionStyleModel",
     "state": {
      "_model_module": "@jupyter-widgets/controls",
      "_model_module_version": "1.5.0",
      "_model_name": "DescriptionStyleModel",
      "_view_count": null,
      "_view_module": "@jupyter-widgets/base",
      "_view_module_version": "1.2.0",
      "_view_name": "StyleView",
      "description_width": ""
     }
    },
    "ec82d342907e4b0c8be089365d1bf92a": {
     "model_module": "@jupyter-widgets/base",
     "model_module_version": "1.2.0",
     "model_name": "LayoutModel",
     "state": {
      "_model_module": "@jupyter-widgets/base",
      "_model_module_version": "1.2.0",
      "_model_name": "LayoutModel",
      "_view_count": null,
      "_view_module": "@jupyter-widgets/base",
      "_view_module_version": "1.2.0",
      "_view_name": "LayoutView",
      "align_content": null,
      "align_items": null,
      "align_self": null,
      "border": null,
      "bottom": null,
      "display": null,
      "flex": null,
      "flex_flow": null,
      "grid_area": null,
      "grid_auto_columns": null,
      "grid_auto_flow": null,
      "grid_auto_rows": null,
      "grid_column": null,
      "grid_gap": null,
      "grid_row": null,
      "grid_template_areas": null,
      "grid_template_columns": null,
      "grid_template_rows": null,
      "height": null,
      "justify_content": null,
      "justify_items": null,
      "left": null,
      "margin": null,
      "max_height": null,
      "max_width": null,
      "min_height": null,
      "min_width": null,
      "object_fit": null,
      "object_position": null,
      "order": null,
      "overflow": null,
      "overflow_x": null,
      "overflow_y": null,
      "padding": null,
      "right": null,
      "top": null,
      "visibility": null,
      "width": null
     }
    },
    "f6e426e77be3457d85dd630ee6d125b5": {
     "model_module": "@jupyter-widgets/controls",
     "model_module_version": "1.5.0",
     "model_name": "FloatProgressModel",
     "state": {
      "_dom_classes": [],
      "_model_module": "@jupyter-widgets/controls",
      "_model_module_version": "1.5.0",
      "_model_name": "FloatProgressModel",
      "_view_count": null,
      "_view_module": "@jupyter-widgets/controls",
      "_view_module_version": "1.5.0",
      "_view_name": "ProgressView",
      "bar_style": "danger",
      "description": "",
      "description_tooltip": null,
      "layout": "IPY_MODEL_331ee831c65d4d39a889b7c1e291d73d",
      "max": 100000,
      "min": 0,
      "orientation": "horizontal",
      "style": "IPY_MODEL_13c2bbc03e5641eaa8b6ccb6f12a04a8",
      "value": 51147
     }
    },
    "f749eb7599a3498c85c9d6c2bac21786": {
     "model_module": "@jupyter-widgets/controls",
     "model_module_version": "1.5.0",
     "model_name": "ProgressStyleModel",
     "state": {
      "_model_module": "@jupyter-widgets/controls",
      "_model_module_version": "1.5.0",
      "_model_name": "ProgressStyleModel",
      "_view_count": null,
      "_view_module": "@jupyter-widgets/base",
      "_view_module_version": "1.2.0",
      "_view_name": "StyleView",
      "bar_color": null,
      "description_width": ""
     }
    },
    "f8bee263b61a467baf4c796dad5e36ad": {
     "model_module": "@jupyter-widgets/controls",
     "model_module_version": "1.5.0",
     "model_name": "DescriptionStyleModel",
     "state": {
      "_model_module": "@jupyter-widgets/controls",
      "_model_module_version": "1.5.0",
      "_model_name": "DescriptionStyleModel",
      "_view_count": null,
      "_view_module": "@jupyter-widgets/base",
      "_view_module_version": "1.2.0",
      "_view_name": "StyleView",
      "description_width": ""
     }
    },
    "fd496631018941809c1f52883a379153": {
     "model_module": "@jupyter-widgets/base",
     "model_module_version": "1.2.0",
     "model_name": "LayoutModel",
     "state": {
      "_model_module": "@jupyter-widgets/base",
      "_model_module_version": "1.2.0",
      "_model_name": "LayoutModel",
      "_view_count": null,
      "_view_module": "@jupyter-widgets/base",
      "_view_module_version": "1.2.0",
      "_view_name": "LayoutView",
      "align_content": null,
      "align_items": null,
      "align_self": null,
      "border": null,
      "bottom": null,
      "display": null,
      "flex": null,
      "flex_flow": null,
      "grid_area": null,
      "grid_auto_columns": null,
      "grid_auto_flow": null,
      "grid_auto_rows": null,
      "grid_column": null,
      "grid_gap": null,
      "grid_row": null,
      "grid_template_areas": null,
      "grid_template_columns": null,
      "grid_template_rows": null,
      "height": null,
      "justify_content": null,
      "justify_items": null,
      "left": null,
      "margin": null,
      "max_height": null,
      "max_width": null,
      "min_height": null,
      "min_width": null,
      "object_fit": null,
      "object_position": null,
      "order": null,
      "overflow": null,
      "overflow_x": null,
      "overflow_y": null,
      "padding": null,
      "right": null,
      "top": null,
      "visibility": null,
      "width": null
     }
    },
    "fe69a03fb2394da5aa2d8036b9c6334e": {
     "model_module": "@jupyter-widgets/controls",
     "model_module_version": "1.5.0",
     "model_name": "HTMLModel",
     "state": {
      "_dom_classes": [],
      "_model_module": "@jupyter-widgets/controls",
      "_model_module_version": "1.5.0",
      "_model_name": "HTMLModel",
      "_view_count": null,
      "_view_module": "@jupyter-widgets/controls",
      "_view_module_version": "1.5.0",
      "_view_name": "HTMLView",
      "description": "",
      "description_tooltip": null,
      "layout": "IPY_MODEL_ec82d342907e4b0c8be089365d1bf92a",
      "placeholder": "​",
      "style": "IPY_MODEL_2728acde0daa4acca548ebf71319f0d2",
      "value": " 27549/100000 [00:42&lt;01:43, 700.95it/s]"
     }
    }
   }
  }
 },
 "nbformat": 4,
 "nbformat_minor": 1
}
