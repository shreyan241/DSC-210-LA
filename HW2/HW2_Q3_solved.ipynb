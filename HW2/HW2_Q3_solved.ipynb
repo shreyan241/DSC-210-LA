{
 "cells": [
  {
   "cell_type": "markdown",
   "metadata": {
    "id": "hjRM13EAuL3g"
   },
   "source": [
    "# HW2 - Q3: Evaluating Robustness of Neural Networks (35 points)\n",
    "\n",
    "**Keywords**: Adversarial Robustness, FGSM/PGD Attack, Certification\n",
    "\n",
    "**About the dataset**: \\\n",
    "The [MNIST](https://en.wikipedia.org/wiki/MNIST_database) database (Modified National Institute of Standards and Technology database) is a large database of handwritten digits that is commonly used for training various image processing systems.\\\n",
    "The MNIST database contains 70,000 labeled images. Each datapoint is a $28\\times 28$ pixels grayscale image.\\\n",
    "Here we will be starting off with a pre-trained 2-hidden-layer model on the full MNIST dataset.\n",
    "\n",
    "**Agenda**:\n",
    "* In this programming challenge, you will implement adversarial attack on an MNIST neural network model as well as visualize those attacks. \n",
    "* You will do this by solving the inner maximization problem using FGSM (Fast Gradient Sign Method) and PGD (Projected Gradient Descent).\n",
    "* You will then perform verification of the model using Interval-Bound -Propagation (IBP).\n",
    "\n",
    "\n",
    "**Note:**\n",
    "* It is important that you use **GPU accelaration** for this Question.\n",
    "* A note on working with GPU:\n",
    "  * Take care that whenever declaring new tensors, set `device=device` in parameters. \n",
    "  * You can also move a declared torch tensor/model to device using `.to(device)`. \n",
    "  * To move a torch model/tensor to cpu, use `.to('cpu')`\n",
    "  * Keep in mind that all the tensors/model involved in a computation have to be on the same device (CPU/GPU).\n",
    "* Run all the cells in order.\n",
    "* **Do not edit** the cells marked with !!DO NOT EDIT!!\n",
    "* Only **add your code** to cells marked with !!!! YOUR CODE HERE !!!!\n",
    "* Do not change variable names, and use the names which are suggested."
   ]
  },
  {
   "cell_type": "markdown",
   "metadata": {
    "id": "ZUJgYttwjmpK"
   },
   "source": [
    "\n",
    "\n",
    "---\n",
    "\n"
   ]
  },
  {
   "cell_type": "markdown",
   "metadata": {
    "id": "mXVzZFpxD8u-"
   },
   "source": [
    "### Preprocessing"
   ]
  },
  {
   "cell_type": "code",
   "execution_count": 1,
   "metadata": {
    "colab": {
     "base_uri": "https://localhost:8080/"
    },
    "id": "p8yCdUrCD8u-",
    "outputId": "77eac4a3-0298-4d50-8831-2c20db17a2bb"
   },
   "outputs": [
    {
     "name": "stdout",
     "output_type": "stream",
     "text": [
      "Requirement already satisfied: gdown in c:\\users\\shrey\\anaconda3\\lib\\site-packages (4.5.4)\n",
      "Requirement already satisfied: six in c:\\users\\shrey\\anaconda3\\lib\\site-packages (from gdown) (1.15.0)\n",
      "Requirement already satisfied: beautifulsoup4 in c:\\users\\shrey\\anaconda3\\lib\\site-packages (from gdown) (4.9.3)\n",
      "Requirement already satisfied: tqdm in c:\\users\\shrey\\anaconda3\\lib\\site-packages (from gdown) (4.59.0)\n",
      "Requirement already satisfied: requests[socks] in c:\\users\\shrey\\anaconda3\\lib\\site-packages (from gdown) (2.25.1)\n",
      "Requirement already satisfied: filelock in c:\\users\\shrey\\anaconda3\\lib\\site-packages (from gdown) (3.0.12)\n",
      "Requirement already satisfied: soupsieve>1.2 in c:\\users\\shrey\\anaconda3\\lib\\site-packages (from beautifulsoup4->gdown) (2.2.1)\n",
      "Requirement already satisfied: urllib3<1.27,>=1.21.1 in c:\\users\\shrey\\anaconda3\\lib\\site-packages (from requests[socks]->gdown) (1.26.8)\n",
      "Requirement already satisfied: chardet<5,>=3.0.2 in c:\\users\\shrey\\anaconda3\\lib\\site-packages (from requests[socks]->gdown) (4.0.0)\n",
      "Requirement already satisfied: certifi>=2017.4.17 in c:\\users\\shrey\\anaconda3\\lib\\site-packages (from requests[socks]->gdown) (2020.12.5)\n",
      "Requirement already satisfied: idna<3,>=2.5 in c:\\users\\shrey\\anaconda3\\lib\\site-packages (from requests[socks]->gdown) (2.10)\n",
      "Requirement already satisfied: PySocks!=1.5.7,>=1.5.6 in c:\\users\\shrey\\anaconda3\\lib\\site-packages (from requests[socks]->gdown) (1.7.1)\n"
     ]
    },
    {
     "name": "stderr",
     "output_type": "stream",
     "text": [
      "WARNING: You are using pip version 22.0.4; however, version 22.3.1 is available.\n",
      "You should consider upgrading via the 'c:\\users\\shrey\\anaconda3\\python.exe -m pip install --upgrade pip' command.\n"
     ]
    }
   ],
   "source": [
    "# install this library\n",
    "!pip install gdown"
   ]
  },
  {
   "cell_type": "markdown",
   "metadata": {
    "id": "wGrcOvZu16yi"
   },
   "source": [
    "* We will be using a pre-trained 2-hidden layer neural network model (`nn_model`) that takes as input features vectors of size 784, and ouputs logits vector of size 10. Each of the two hidden layers are of size 1024.\n",
    "\n",
    "* This is a highly accurate model with train accuracy of approx 99.88% and test accuracy of approx 98.14%.\n",
    "\n",
    "* We will also be loading and initializing a dummy model (`test_model`) for unit testing code implementation."
   ]
  },
  {
   "cell_type": "code",
   "execution_count": 2,
   "metadata": {
    "colab": {
     "base_uri": "https://localhost:8080/",
     "height": 735,
     "referenced_widgets": [
      "9d002478d7604f2884599725b1e2fd8f",
      "12f65853184c41a49abcbd10b73b9464",
      "8b615967e7424c09867f1bc7714ba32d",
      "dfc4cfaca78149e5ab8aa2a513f765ab",
      "2f2e5e9a7d7a4bf499b6f4979ccabff2",
      "7567031015bd43fe9073516ac437be3e",
      "70477b9116964539afdba73443e85abf",
      "76d0ffb3beb747b18dea632af08cf21c",
      "ce706e65e1684ad4a5deab74aa5342af",
      "fb35fe49e86a45719f77ece903d33bd1",
      "35e463d3a17040608eff1d78112ec966",
      "f41a0bf6a9d7493aa2322116b8e11a1c",
      "f5cad15d3ba440b195ab6c89d5b00256",
      "7e507d7eae45402f95bb7704ab3c0ea5",
      "4b54b18e8c124451bd3c6b0460cdb0de",
      "21a3e15ceeb343bb97e1ac760289ee3f",
      "3dc25854772c4066a9c4c72ba2bb1def",
      "10b12039006d4fffbd36a919a9ffea28",
      "d6a049899a344f24b0bdf8db79e835ef",
      "4aa8a4e9f1b5415fb91c3c08dab420cd",
      "2bacb321a1884d4883011e55e312a5fa",
      "7f07a5cc76474e879f4dab5842efa13f",
      "7b0cfb03d8294b748679f5ddd60742f6",
      "2c2a3c254c924659afbfee2ce91d13ed",
      "9844d7b1c5fc411f880e174642793608",
      "ef0648ac2be3414c864628a4081cb426",
      "7125e1ae4ff24bcb9d1316867a61501a",
      "764168c8f97e44c18a59bd891d767738",
      "c433d6a9fa484cddbcf2743a95eb4674",
      "3f70dc80458f415989a794c1749f1d3b",
      "f31399b233dc4a7bad405faf2bdbfd80",
      "90283ba446794a50b46d0fc2f27b0de6",
      "53b7572c0da04c73949bb4058b6cfd07",
      "5b7b740c6b3d439b9a52f3b6b0c0e4ce",
      "c93c22acb27b4e149395b27963bc5236",
      "af3b54cf232d408ebf6911592de7e08e",
      "390364e38e324ec793f264c1db82b983",
      "59a5293df76c40d28a9fd825d2706987",
      "fe21918a8db34fab823cfd2b9f737abc",
      "7e70a39973134afb847d15fb4730e4cd",
      "9437bf4fb19b4ff1af0fedfeeaeee9ab",
      "68a04224b49948748419cbab67cbc154",
      "342a216246194d89b3260f1cac4b6809",
      "e1ce8064f0884228a642fb167ab14061"
     ]
    },
    "id": "qNtGmOhl1I_m",
    "outputId": "f52fa4af-2187-4560-a612-508fa8c07e91"
   },
   "outputs": [
    {
     "name": "stderr",
     "output_type": "stream",
     "text": [
      "Downloading...\n",
      "From: https://bit.ly/3sKvyOs\n",
      "To: c:\\Users\\shrey\\Desktop\\Linear Algebra\\HW 2\\nn_model.pt\n",
      "100%|██████████| 7.46M/7.46M [00:00<00:00, 19.8MB/s]\n",
      "Downloading...\n",
      "From: https://bit.ly/3lsVcDn\n",
      "To: c:\\Users\\shrey\\Desktop\\Linear Algebra\\HW 2\\models.zip\n",
      "100%|██████████| 1.55k/1.55k [00:00<?, ?B/s]"
     ]
    },
    {
     "name": "stdout",
     "output_type": "stream",
     "text": [
      "Pretrained model (nn_model): NN_Model(\n",
      "  (l1): Linear(in_features=784, out_features=1024, bias=True)\n",
      "  (l2): Linear(in_features=1024, out_features=1024, bias=True)\n",
      "  (l3): Linear(in_features=1024, out_features=10, bias=True)\n",
      ")\n",
      "Dummy model (test_model): Test_Model(\n",
      "  (l1): Linear(in_features=2, out_features=3, bias=True)\n",
      "  (l2): Linear(in_features=3, out_features=3, bias=True)\n",
      "  (l3): Linear(in_features=3, out_features=2, bias=True)\n",
      ")\n"
     ]
    },
    {
     "name": "stderr",
     "output_type": "stream",
     "text": [
      "\n"
     ]
    }
   ],
   "source": [
    "# !!DO NOT EDIT!!\n",
    "# imports \n",
    "import torch\n",
    "import torch.nn as nn\n",
    "import numpy as np\n",
    "import requests\n",
    "from torchvision import datasets, transforms\n",
    "from torch.utils.data import DataLoader\n",
    "import matplotlib.pyplot as plt\n",
    "from tqdm.notebook import tqdm\n",
    "import gdown\n",
    "from zipfile import ZipFile\n",
    "\n",
    "# set hardware device\n",
    "device = torch.device(\"cuda:0\" if torch.cuda.is_available() else \"cpu\")\n",
    "\n",
    "# loading the dataset full MNIST dataset\n",
    "mnist_train = datasets.MNIST(\"./data\", train=True, download=True, transform=transforms.ToTensor())\n",
    "mnist_test = datasets.MNIST(\"./data\", train=False, download=True, transform=transforms.ToTensor())\n",
    "\n",
    "mnist_train.data = mnist_train.data.to(device)\n",
    "mnist_test.data = mnist_test.data.to(device)\n",
    "\n",
    "mnist_train.targets = mnist_train.targets.to(device)\n",
    "mnist_test.targets = mnist_test.targets.to(device)\n",
    "\n",
    "# number of target classes\n",
    "num_classes = 10\n",
    "num_classes_test = 2 \n",
    "\n",
    "# reshape and min-max scale\n",
    "X_train =  (mnist_train.data.reshape((mnist_train.data.shape[0], -1))/255).to(device)\n",
    "y_train = mnist_train.targets\n",
    "X_test = (mnist_test.data.reshape((mnist_test.data.shape[0], -1))/255).to(device)\n",
    "y_test = mnist_test.targets\n",
    "\n",
    "\n",
    "# load pretrained and dummy model\n",
    "url_nn_model = 'https://bit.ly/3sKvyOs'\n",
    "url_models   = 'https://bit.ly/3lsVcDn'\n",
    "gdown.download(url_nn_model, 'nn_model.pt')\n",
    "gdown.download(url_models, 'models.zip')\n",
    "ZipFile(\"models.zip\").extractall(\"./\")\n",
    "\n",
    "from model import NN_Model\n",
    "from test_model import Test_Model\n",
    "nn_model = torch.load(\"./nn_model.pt\").to(device)\n",
    "print('Pretrained model (nn_model):', nn_model)\n",
    "\n",
    "test_model = Test_Model().to(device)\n",
    "print('Dummy model (test_model):', test_model)"
   ]
  },
  {
   "cell_type": "markdown",
   "metadata": {
    "id": "rTj0ezmbD8u_"
   },
   "source": [
    "In this problem set you need to access the individual layers of the neural network. The below piece of code creates a list of ordered layers for each of the neural network models for easy access."
   ]
  },
  {
   "cell_type": "code",
   "execution_count": 3,
   "metadata": {
    "id": "xNsFA3dfD8vA"
   },
   "outputs": [],
   "source": [
    "# This will save the linear layers of the neural network model in a ordered list\n",
    "# Eg:\n",
    "# to access weight of first layer: model_layers[0].weight\n",
    "# to access bias of first layer: model_layers[0].bias\n",
    "model_layers = [layer for layer in nn_model.children()] # for nn_model\n",
    "test_model_layers = [layer for layer in test_model.children()] # for dummy model"
   ]
  },
  {
   "cell_type": "code",
   "execution_count": 4,
   "metadata": {
    "id": "VdoXqlWbBw0C"
   },
   "outputs": [],
   "source": [
    "# !!DO NOT EDIT!!\n",
    "# utility function to plot the images\n",
    "def plot_images(X,y,yp,M,N):\n",
    "  f,ax = plt.subplots(M,N, sharex=True, sharey=True, figsize=(N,M*1.3))\n",
    "  for i in range(M):\n",
    "    for j in range(N):\n",
    "      ax[i][j].imshow(1-X[i*N+j].cpu().numpy(), cmap=\"gray\")\n",
    "      title = ax[i][j].set_title(\"Pred: {}\".format(yp[i*N+j].max(dim=0)[1]))\n",
    "      plt.setp(title, color=('g' if yp[i*N+j].max(dim=0)[1] == y[i*N+j] else 'r'))\n",
    "      ax[i][j].set_axis_off()\n",
    "    plt.tight_layout()"
   ]
  },
  {
   "cell_type": "code",
   "execution_count": 5,
   "metadata": {
    "colab": {
     "base_uri": "https://localhost:8080/",
     "height": 280
    },
    "id": "ulN34Vw2CAMl",
    "outputId": "502a0efb-b196-4b93-aa4d-ae632d372f37"
   },
   "outputs": [
    {
     "data": {
      "image/png": "[encoded data removed]",
      "text/plain": [
       "<Figure size 432x280.8 with 18 Axes>"
      ]
     },
     "metadata": {
      "needs_background": "light"
     },
     "output_type": "display_data"
    }
   ],
   "source": [
    "# !!DO NOT EDIT!!\n",
    "# let us visualize a few test examples\n",
    "example_data = mnist_test.data[:18]/255\n",
    "example_data_flattened  = example_data.view((example_data.shape[0], -1)).to(device) # needed for training\n",
    "example_labels = mnist_test.targets[:18].to(device)\n",
    "plot_images(example_data, example_labels, nn_model(example_data_flattened), 3, 6)"
   ]
  },
  {
   "cell_type": "markdown",
   "metadata": {
    "id": "qBFXtet3mnXM"
   },
   "source": [
    "\n",
    "\n",
    "---\n",
    "\n",
    "\n",
    "\n",
    "---\n",
    "\n",
    "\n"
   ]
  },
  {
   "cell_type": "markdown",
   "metadata": {
    "id": "-FQ9dkXWA_Pu"
   },
   "source": [
    "### **(a) FGSM attack:**  In this part you will create a few adversarial examples using FGSM attack. Use an attack budget $\\epsilon=0.05$.  (5 points)\n",
    "In the Fast Gradient Sign Method (FGSM), the perturbation $\\delta$ on an input example (e.g. input image) $X$ is given by $\\epsilon\\cdot sign(g)$, where $g$ is the gradient of the loss function $g:=∇_\\delta \\ell(h_θ (x+δ),y)$, and $ℓ$ is the loss function, more precisely `nn.CrossEntropyLoss`. In the first timestep, this value of $\\delta$ is $0$.\n",
    "\n",
    "### **#1.** Define a function `fgsm` which takes as input the neural network model (`model`), test examples (`X`), target labels (`y`), and the attack budget (`epsilon`). Return the value of the perturbation ($\\delta$) after one gradient descent step."
   ]
  },
  {
   "cell_type": "code",
   "execution_count": 6,
   "metadata": {
    "id": "T6BP3I3J1Xog"
   },
   "outputs": [],
   "source": [
    "#######\n",
    "# !!! YOUR CODE HERE !!!\n",
    "import torch.nn as nn\n",
    "def fgsm(model, X, y, epsilon = 0.05):\n",
    "    # Setting tensor parameters\n",
    "    X = X.to(device)\n",
    "    y = y.to(device)\n",
    "    X.requires_grad = True\n",
    "\n",
    "    # setting initial perturbation tensor\n",
    "    perturbation = torch.zeros_like(X, requires_grad=True)\n",
    "\n",
    "    # reset gradients\n",
    "    model.zero_grad()\n",
    "\n",
    "    # getting predictions\n",
    "    y_pred = model(X + perturbation)\n",
    "\n",
    "    # calculate loss\n",
    "    criterion = nn.CrossEntropyLoss()\n",
    "    loss = criterion(y_pred, y).to(device)\n",
    "\n",
    "    # backpropagate loss\n",
    "    loss.backward()\n",
    "\n",
    "    # calculate perturbation\n",
    "    perturbation = epsilon * (perturbation.grad.sign())\n",
    "    \n",
    "    return perturbation.detach()\n",
    "\n",
    "#######"
   ]
  },
  {
   "cell_type": "markdown",
   "metadata": {
    "id": "6MhfVmBES_KZ"
   },
   "source": [
    "### **#2.** Now, consider the first few examples from the training dataset which are already defined above as `example_data_flattened` and `example_labels`. Using the function `fgsm`, get the value of `delta` for these examples. Perform prediction on the modified dataset (`example_data_flattened + delta`), and construct a similar plot of images as above. You may reuse the `plot_images` function. Is the attack successful?"
   ]
  },
  {
   "cell_type": "code",
   "execution_count": 10,
   "metadata": {
    "colab": {
     "base_uri": "https://localhost:8080/",
     "height": 280
    },
    "id": "unyGm4aDS-qn",
    "outputId": "26fcea9e-581c-40ee-a8db-587ac242aaf5"
   },
   "outputs": [
    {
     "data": {
      "image/png": "[encoded data removed]",
      "text/plain": [
       "<Figure size 432x280.8 with 18 Axes>"
      ]
     },
     "metadata": {
      "needs_background": "light"
     },
     "output_type": "display_data"
    }
   ],
   "source": [
    "#######\n",
    "# !!! YOUR CODE HERE !!!\n",
    "# getting the perturbations\n",
    "delta = fgsm(model = nn_model, X = example_data_flattened, y = example_labels, epsilon = 0.05) \n",
    "\n",
    "# applying the perturbations to the dataset\n",
    "modified_example_data = example_data_flattened + delta\n",
    "modified_example_data_flattened  = modified_example_data.view((modified_example_data.shape[0], -1)).to(device)\n",
    "\n",
    "# plotting the new results\n",
    "plot_images(example_data, example_labels, nn_model(modified_example_data_flattened), 3, 6)\n",
    "\n",
    "#######"
   ]
  },
  {
   "cell_type": "markdown",
   "metadata": {
    "id": "bhkUgx1TBdCp"
   },
   "source": [
    "**Yes, the FGSM attack is successful!**"
   ]
  },
  {
   "cell_type": "markdown",
   "metadata": {
    "id": "n2DpSB3_-1xB"
   },
   "source": [
    "\n",
    "\n",
    "---\n",
    "\n"
   ]
  },
  {
   "cell_type": "markdown",
   "metadata": {
    "id": "8mSRPCJsWCmQ"
   },
   "source": [
    "### **(b) PGD attack:**  In this part you will create a few adversarial examples using PGD attack. Use an attack budget $\\epsilon=0.05$.  (10 points)\n",
    "\n",
    "**Note:** For the Projected Gradient Descent (PGD) attack, you create an adversarial example by iteratively performing gradient descent with a fixed step size $\\alpha$. The update rule is: $δ:=P(δ+α∇_δ ℓ(h_θ(x+δ),y))$, where $δ$ is the perturbation, $θ$ are the frozen DNN parameters, $x$ and $y$ is the training example and its ground truth label respectively, $h_θ$ is the hypothesis function, $ℓ$ denotes the loss function, and $P$ denotes the projection onto a norm ball ($l_\\infty, l_1, l_2$, etc.) of interest. For $l_\\infty$ ball, this just means clamping the value of $\\delta$ between $-\\epsilon$ and $\\epsilon$.\n",
    "\n",
    "### **#1.** Instead of using FGSM, now use Projected Gradient Descent (PGD) with projection on $l_\\infty$ ball for the attack. Define a function `pgd` that takes as input the neural network model (`model`), training examples (`X`), target labels (`y`), step size (`alpha`), attack budget (`epsilon`), and number of iterations (`num_iter`). Return the perturbation ($\\delta$) after `num_iter` gradient descent steps. "
   ]
  },
  {
   "cell_type": "code",
   "execution_count": 8,
   "metadata": {
    "id": "TqSbm39KQ7nv"
   },
   "outputs": [],
   "source": [
    "#######\n",
    "# !!! YOUR CODE HERE !!!\n",
    "def pgd(model, X, y, alpha = 1000, epsilon = 0.05, num_iter = 1000):\n",
    "    \n",
    "    # Setting tensor parameters\n",
    "    X = X.to(device)\n",
    "    y = y.to(device)\n",
    "\n",
    "    # setting criterion for loss function\n",
    "    criterion = nn.CrossEntropyLoss()\n",
    "\n",
    "    # Setting initial perturbation tensor\n",
    "    perturbation = torch.zeros_like(X, requires_grad=True)\n",
    "\n",
    "    for i in range(num_iter):\n",
    "        X.requires_grad = True\n",
    "\n",
    "        # prediction \n",
    "        y_pred = model(X + perturbation)\n",
    "\n",
    "        # calculate loss\n",
    "        loss = criterion(y_pred, y).to(device)\n",
    "\n",
    "        # backpropagate loss\n",
    "        loss.backward()\n",
    "\n",
    "        # calculate perturbation\n",
    "        perturbation.data = torch.clamp((perturbation + X.shape[0]*alpha*perturbation.grad.data), min = -epsilon, max = epsilon)\n",
    "\n",
    "        # reset gradient\n",
    "        perturbation.grad.zero_()\n",
    "\n",
    "    return perturbation.detach()\n",
    "\n",
    "#######"
   ]
  },
  {
   "cell_type": "markdown",
   "metadata": {
    "id": "mAO05kUnYLUF"
   },
   "source": [
    "### **#2.** Now use the PGD attack for the examples from `example_data_flattened`. Use `alpha=1000`, `num_iter=1000`, and create a similar plot as before. Is the attack successful?\n",
    "\n",
    "### The value of `alpha` is large because the neural network model is pretrained and is therefore at the local minima. The value of gradients here is extremely small, and we therefore need a huge value of step size to have any hope of moving out of the local minima."
   ]
  },
  {
   "cell_type": "code",
   "execution_count": 9,
   "metadata": {
    "colab": {
     "base_uri": "https://localhost:8080/",
     "height": 280
    },
    "id": "IVapJ4aaYJvW",
    "outputId": "c8267c64-ac9d-4abd-cf7d-834f021169b0"
   },
   "outputs": [
    {
     "data": {
      "image/png": "[encoded data removed]",
      "text/plain": [
       "<Figure size 432x280.8 with 18 Axes>"
      ]
     },
     "metadata": {
      "needs_background": "light"
     },
     "output_type": "display_data"
    }
   ],
   "source": [
    "#######\n",
    "# !!! YOUR CODE HERE !!!\n",
    "\n",
    "# getting the perturbations\n",
    "delta2 = pgd(model = nn_model, X = example_data_flattened, y = example_labels, \n",
    "            alpha = 1000, epsilon = 0.05, num_iter = 1000) \n",
    "\n",
    "# applying the perturbations to the dataset\n",
    "modified_example_data2 = example_data_flattened + delta2\n",
    "modified_example_data_flattened2  = modified_example_data2.view((modified_example_data2.shape[0], -1)).to(device)\n",
    "\n",
    "# plotting the new results\n",
    "plot_images(example_data, example_labels, nn_model(modified_example_data_flattened2), 3, 6)\n",
    "\n",
    "#######"
   ]
  },
  {
   "cell_type": "markdown",
   "metadata": {
    "id": "AknAsVfsBdCr"
   },
   "source": [
    "**Yes, the PGD attack is successful!**"
   ]
  },
  {
   "cell_type": "markdown",
   "metadata": {
    "id": "PjC-rDNEaCqC"
   },
   "source": [
    "### **(c)**  Use FGSM and PGD to create adversarial examples using the complete test dataset. Create the datasets with different values of `epsilon: [0, 0.02, 0.04, 0.06, 0.08, 0.1, 0.12, 0.14, 0.16, 0.18, 0.2]`. For each of the dataset created with different `epsilon` values and attack type, get the model accuracies. Plot a (single) graph of accuracy vs. epsilon for both attack types. Note that `epsilon=0` means no attack, so you can just get accuracy on the original dataset. (10 points)\n",
    "\n",
    "#### <font color=\"red\">It is important that you use **GPU accelaration** for this part.</font>\n"
   ]
  },
  {
   "cell_type": "markdown",
   "metadata": {
    "id": "VLPLU5JbAs6G"
   },
   "source": [
    "\n",
    "\n",
    "---\n",
    "\n"
   ]
  },
  {
   "cell_type": "code",
   "execution_count": 10,
   "metadata": {
    "colab": {
     "base_uri": "https://localhost:8080/"
    },
    "id": "kWAQPWwAaCQA",
    "outputId": "d0f44ea8-5ed6-4929-c0d6-9f6c9ce20aa6"
   },
   "outputs": [
    {
     "name": "stdout",
     "output_type": "stream",
     "text": [
      "FGSM Attack\n",
      "For epsilon = 0 , FGSM attacked model test accuracy = 0.9822\n",
      "For epsilon = 0.02 , FGSM attacked model test accuracy = 0.9047\n",
      "For epsilon = 0.04 , FGSM attacked model test accuracy = 0.6221\n",
      "For epsilon = 0.06 , FGSM attacked model test accuracy = 0.2797\n",
      "For epsilon = 0.08 , FGSM attacked model test accuracy = 0.1484\n",
      "For epsilon = 0.1 , FGSM attacked model test accuracy = 0.1025\n",
      "For epsilon = 0.12 , FGSM attacked model test accuracy = 0.069\n",
      "For epsilon = 0.14 , FGSM attacked model test accuracy = 0.0487\n",
      "For epsilon = 0.16 , FGSM attacked model test accuracy = 0.034\n",
      "For epsilon = 0.18 , FGSM attacked model test accuracy = 0.024\n",
      "For epsilon = 0.2 , FGSM attacked model test accuracy = 0.0177\n",
      "----------------------------------------------------------------------------\n",
      "PGD Attack\n",
      "For epsilon = 0 , PGD attacked model test accuracy = 0.9822\n",
      "For epsilon = 0.02 , PGD attacked model test accuracy = 0.8998\n",
      "For epsilon = 0.04 , PGD attacked model test accuracy = 0.5695\n",
      "For epsilon = 0.06 , PGD attacked model test accuracy = 0.2077\n",
      "For epsilon = 0.08 , PGD attacked model test accuracy = 0.098\n",
      "For epsilon = 0.1 , PGD attacked model test accuracy = 0.0794\n",
      "For epsilon = 0.12 , PGD attacked model test accuracy = 0.079\n",
      "For epsilon = 0.14 , PGD attacked model test accuracy = 0.079\n",
      "For epsilon = 0.16 , PGD attacked model test accuracy = 0.079\n",
      "For epsilon = 0.18 , PGD attacked model test accuracy = 0.079\n",
      "For epsilon = 0.2 , PGD attacked model test accuracy = 0.079\n",
      "----------------------------------------------------------------------------\n"
     ]
    }
   ],
   "source": [
    "#######\n",
    "# !!! YOUR CODE HERE !!!\n",
    "from sklearn.metrics import accuracy_score\n",
    "\n",
    "epsilonList = [0, 0.02, 0.04, 0.06, 0.08, 0.1, 0.12, 0.14, 0.16, 0.18, 0.2]\n",
    "fgsmAccuracyList = []\n",
    "pgdAccuracyList = []\n",
    "\n",
    "# function to return test accuracy of model\n",
    "def get_accuracy(model, X_test_torch, y_test):\n",
    "  predictions_test = model(X_test_torch).to('cpu')\n",
    "  y_test_pred = torch.argmax(predictions_test, dim=1).numpy()\n",
    "  y_test = y_test.to('cpu')\n",
    "  return accuracy_score(y_test_pred, np.asarray(y_test, dtype=np.float32))\n",
    "\n",
    "print(\"FGSM Attack\")\n",
    "# running all fgsm models\n",
    "for eps in epsilonList:\n",
    "  \n",
    "  # getting the perturbations\n",
    "  delta = fgsm(model = nn_model, X = X_test, y = y_test, epsilon = eps) \n",
    "\n",
    "  # applying the perturbations to the dataset\n",
    "  modified_X_test = X_test + delta\n",
    "\n",
    "  # getting the test accuracy of perturbed model\n",
    "  test_accuracy = get_accuracy(nn_model, modified_X_test, y_test)\n",
    "  fgsmAccuracyList.append(test_accuracy)\n",
    "  print(\"For epsilon =\", eps, \", FGSM attacked model test accuracy =\", test_accuracy)\n",
    "\n",
    "print(\"----------------------------------------------------------------------------\")\n",
    "print(\"PGD Attack\")\n",
    "# running all pgd models\n",
    "for eps in epsilonList:\n",
    "  \n",
    "  # getting the perturbations\n",
    "  delta = pgd(model = nn_model, X = X_test, y = y_test, alpha = 1000, epsilon = eps, num_iter = 1000) \n",
    "\n",
    "  # applying the perturbations to the dataset\n",
    "  modified_X_test = X_test + delta\n",
    "\n",
    "  # getting the test accuracy of perturbed model\n",
    "  test_accuracy = get_accuracy(nn_model, modified_X_test, y_test)\n",
    "  pgdAccuracyList.append(test_accuracy)\n",
    "  print(\"For epsilon =\", eps, \", PGD attacked model test accuracy =\", test_accuracy)\n",
    "\n",
    "print(\"----------------------------------------------------------------------------\")"
   ]
  },
  {
   "cell_type": "markdown",
   "metadata": {
    "id": "LCvAljqaj-bR"
   },
   "source": [
    "\n",
    "\n",
    "---\n",
    "\n"
   ]
  },
  {
   "cell_type": "code",
   "execution_count": 11,
   "metadata": {
    "colab": {
     "base_uri": "https://localhost:8080/",
     "height": 295
    },
    "id": "Zb4OkEeHBdCt",
    "outputId": "a6ae5acb-8ac4-44af-dbf1-07a76552322f"
   },
   "outputs": [
    {
     "data": {
      "image/png": "[encoded data removed]",
      "text/plain": [
       "<Figure size 432x288 with 1 Axes>"
      ]
     },
     "metadata": {
      "needs_background": "light"
     },
     "output_type": "display_data"
    }
   ],
   "source": [
    "# plotting Test Accuracy vs Epsilon graph for both attacks\n",
    "plt.title(\"Test Accuracy vs Epsilon\")\n",
    "plt.xlabel(\"Epsilon Value\")\n",
    "plt.ylabel(\"Test Accuracy\")\n",
    "plt.plot(epsilonList, fgsmAccuracyList, label = \"FGSM\", marker = 'o', color = 'green', alpha = 1)\n",
    "plt.plot(epsilonList, pgdAccuracyList, label = \"PGD\", marker = 'o', color = 'red', alpha = 0.5)\n",
    "plt.xticks(epsilonList)\n",
    "plt.legend(title = \"Attack Type\")\n",
    "plt.show()"
   ]
  },
  {
   "cell_type": "markdown",
   "metadata": {
    "id": "0boUhvoAj_4g"
   },
   "source": [
    "### **(d)** Use the Interval-Bound-Propagation (IBP) technique to certify robustness of the model through lower bound with a given value of epsilon. (10 points)"
   ]
  },
  {
   "cell_type": "markdown",
   "metadata": {
    "id": "6hcmHsRX1pz1"
   },
   "source": [
    "* In this section, you will find the lower and upper bounds for each neuron of each of the linear layers of the neural network model.\n",
    "\n",
    "* Note that the initial bound is the bound of the first layer, which is the input example. For the $l_\\infty$ perturbation, the initial lower bound is simply $max(0, x-\\epsilon)$, and the  initial upper bound is $min(1, x+\\epsilon)$, for an input example $x$ (Note that each value of $x$ must lie in between 0 and 1, thats why the $min$ and $max$).\n",
    "\n",
    "* In the function, propagate the initial bound across all layers of the neural network and return a list of tuples of *pre-activation* lower and upper bound for each layer. The *pre-activation* bounds are the bound before applying ReLU activation. \n",
    "\n",
    "* Let's review a bit of the IBP bounds: let $z=Wx+b$ denote an intermediate linear layer of the model, and suppose $\\hat{l} \\le x \\le \\hat{u}, l \\le z \\le u$, we have:\\\n",
    "$l=W_+\\hat{l}+W_-\\hat{u}+b$\\\n",
    "$u=W_+\\hat{u}+W_-\\hat{l}+b$\\\n",
    "Note $l, u$ here are the *pre-activation* bounds\n",
    "\n",
    "* If a non-linear ReLU activation function $\\sigma(\\cdot)$ is applied to the layer $z=Wx+b$, then the bounds of $\\sigma(z)$ will be: $l=\\sigma(\\hat{l}), u = \\sigma(\\hat{u})$ as $\\sigma$ is a monotonically non-decreasing function. I.e. $l \\leq \\sigma(z) \\leq u$. The $l,u$ here are the *post-activation* bounds. Note, here we use $\\hat{l}$ and $\\hat{u}$ to denote the bounds of the previous layer: $\\hat{l} \\leq z \\leq \\hat{u}$. \n",
    "\n",
    "### **#1.** Define a function `bound_propagation` which takes as input an ordered list of layers of the model (`model_layers`), a feature vector (`x`), and attack budget (`epsilon`). Return a list of tuples of `pre-activation` lower and upper bound tensors for each layer. Verify that your implementation is correct by verifying the results of your function on the unit tests given below."
   ]
  },
  {
   "cell_type": "code",
   "execution_count": 12,
   "metadata": {
    "id": "8p4zMIeHj-D2"
   },
   "outputs": [],
   "source": [
    "#######\n",
    "# !!! YOUR CODE HERE !!!\n",
    "def bound_propagation(model_layers, x, epsilon):\n",
    "  bounds = []\n",
    "  l, u = (x - epsilon).clamp(min=0), (x + epsilon).clamp(max=1)\n",
    "  bounds.append((l, u))\n",
    "  for layer in model_layers:\n",
    "    # calculating pre-activation bounds\n",
    "    l_ = (layer.weight.clamp(min=0) @ l.t() + layer.weight.clamp(max=0) @ u.t() + layer.bias[:,None]).t()\n",
    "    u_ = (layer.weight.clamp(min=0) @ u.t() + layer.weight.clamp(max=0) @ l.t() + layer.bias[:,None]).t()\n",
    "    \n",
    "    bounds.append((l_, u_))\n",
    "    \n",
    "    # calculating post-activation bounds\n",
    "    l_ = l_.clamp(min=0)\n",
    "    u_ = u_.clamp(min=0)\n",
    "\n",
    "    l, u = l_, u_\n",
    "    \n",
    "  # print(bounds)\n",
    "  return bounds\n",
    "#######"
   ]
  },
  {
   "cell_type": "code",
   "execution_count": 13,
   "metadata": {
    "id": "VkjsOCP0D8vD"
   },
   "outputs": [],
   "source": [
    "# !!DO NOT EDIT!!\n",
    "sample_epsilon = 0.2\n",
    "# unit test - 1\n",
    "x_1 = torch.tensor([[0.1, 0.9]], device=device)\n",
    "test_bounds_1 = bound_propagation(test_model_layers, x_1, sample_epsilon)\n",
    "assert torch.all(torch.eq(torch.round(test_bounds_1[0][0], decimals=2), torch.tensor([[0.0000, 0.7000]], device=device)))\n",
    "assert torch.all(torch.eq(torch.round(test_bounds_1[0][1], decimals=2), torch.tensor([[0.3000, 1.0000]], device=device)))\n",
    "assert torch.all(torch.eq(torch.round(test_bounds_1[1][0], decimals=2), torch.tensor([[0.0000, 1.4000, 1.2000]], device=device)))\n",
    "assert torch.all(torch.eq(torch.round(test_bounds_1[1][1], decimals=2), torch.tensor([[0.4500, 2.6000, 1.5000]], device=device)))\n",
    "assert torch.all(torch.eq(torch.round(test_bounds_1[2][0], decimals=2), torch.tensor([[2.6500, -0.8000, 2.1000]], device=device)))\n",
    "assert torch.all(torch.eq(torch.round(test_bounds_1[2][1], decimals=2), torch.tensor([[6.7000, 0.1000, 4.3500]], device=device)))\n",
    "assert torch.all(torch.eq(torch.round(test_bounds_1[3][0], decimals=2), torch.tensor([[4.2000, 1.4500]], device=device)))\n",
    "assert torch.all(torch.eq(torch.round(test_bounds_1[3][1], decimals=2), torch.tensor([[9.4700, 11.900]], device=device)))\n",
    "\n",
    "# unit test - 2\n",
    "x_2 = torch.tensor([[0.4, 0.5]], device=device)\n",
    "test_bounds_2 = bound_propagation(test_model_layers, x_2, sample_epsilon)\n",
    "assert torch.all(torch.eq(torch.round(test_bounds_2[0][0], decimals=2), torch.tensor([[0.2000, 0.3000]], device=device)))\n",
    "assert torch.all(torch.eq(torch.round(test_bounds_2[0][1], decimals=2), torch.tensor([[0.6000, 0.7000]], device=device)))\n",
    "assert torch.all(torch.eq(torch.round(test_bounds_2[1][0], decimals=2), torch.tensor([[0.4000, 1.0000, 0.8000]], device=device)))\n",
    "assert torch.all(torch.eq(torch.round(test_bounds_2[1][1], decimals=2), torch.tensor([[1.0000, 2.6000, 1.2000]], device=device)))\n",
    "assert torch.all(torch.eq(torch.round(test_bounds_2[2][0], decimals=2), torch.tensor([[-0.2000, -0.7000,  0.4000]], device=device)))\n",
    "assert torch.all(torch.eq(torch.round(test_bounds_2[2][1], decimals=2), torch.tensor([[5.2000, 0.5000, 3.4000]], device=device)))\n",
    "assert torch.all(torch.eq(torch.round(test_bounds_2[3][0], decimals=2), torch.tensor([[0.7000, -2.9000]], device=device)))\n",
    "assert torch.all(torch.eq(torch.round(test_bounds_2[3][1], decimals=2), torch.tensor([[7.9000, 11.0000]], device=device)))"
   ]
  },
  {
   "cell_type": "markdown",
   "metadata": {
    "id": "JoXJUcz226wm"
   },
   "source": [
    "### **#2.** Let the lower and upper bounds of the final layer of the model be $l^{final}$ and $u^{final}$ respectively. Then we say that an input example $x$ has a robutness certificate $\\epsilon$ if the criteria: $l^{final}[c]-u^{final}[i]>0, \\forall i\\ne c$, where $c$ denotes the ground truth class of the input $x$. \n",
    "\n",
    "* We need to determine the maximum value of epsilon for certified robustness against an adversarial attack for a given example. We can do the same using binary search over a few values of epsilon.\n",
    "\n",
    "* Define a function `binary_search` that takes as input a sorted array of epsilon values (`epsilons`), an ordered list of neural network model layers (`model_layers`), examples (`X`), corresponding targets (`y`), the number of target classes (`num_classes`). It should return `certified_epsilons` which is a python list of the final values of epsilon certification for each example in input. You can use `None` when unable to find an epsilon value from epsilons. \n",
    "\n",
    "* Verify that your implementation is correct by verifying the results of your function on the unit tests given below."
   ]
  },
  {
   "cell_type": "code",
   "execution_count": 14,
   "metadata": {
    "id": "D4hUeavjD8vD"
   },
   "outputs": [],
   "source": [
    "#######\n",
    "# !!! YOUR CODE HERE !!!\n",
    "\n",
    "# function to get return whether tested epsilon value satisfies the criteria for tensor 1\n",
    "def criteria_1(model_layers, epsilon, X, y, num_classes):\n",
    "  bounds = bound_propagation(model_layers, X, epsilon)\n",
    "  i = 0\n",
    "  \n",
    "  lower_bounds =  bounds[-1][0][i].detach().cpu().numpy()\n",
    "  upper_bounds = bounds[-1][1][i].detach().cpu().numpy()\n",
    "\n",
    "  flag = 0\n",
    "  for k in range(num_classes):\n",
    "    if y[i] != k:\n",
    "      criteria_value = lower_bounds[y[i]] - upper_bounds[k] \n",
    "      if criteria_value < 0:\n",
    "        flag = -1\n",
    "        break\n",
    "  return flag\n",
    "  \n",
    "# function to get return whether tested epsilon value satisfies the criteria for tensor 2\n",
    "def criteria_2(model_layers, epsilon, X, y, num_classes):\n",
    "  bounds = bound_propagation(model_layers, X, epsilon)\n",
    "  i = 1\n",
    "\n",
    "  lower_bounds =  bounds[-1][0][i].detach().cpu().numpy()\n",
    "  upper_bounds = bounds[-1][1][i].detach().cpu().numpy()\n",
    "  \n",
    "  flag = 0\n",
    "  for k in range(num_classes):\n",
    "    if y[i] != k:\n",
    "      criteria_value = lower_bounds[y[i]] - upper_bounds[k] \n",
    "      if criteria_value < 0:\n",
    "        flag = -1\n",
    "        break\n",
    "  return flag\n",
    "\n",
    "# binary search to find optimum epsilon values\n",
    "def binary_search(epsilons, model_layers, X, y, num_classes):\n",
    "  epsilon_list = []\n",
    "\n",
    "# optimum epsilon value for tensor 1\n",
    "  start1 = 0\n",
    "  end1 = len(epsilons) - 1\n",
    "  flag1 = -1\n",
    "  while start1 <= end1:\n",
    "    mid = int((start1 + end1)/ 2)\n",
    "    if criteria_1(model_layers, epsilons[mid], X, y, num_classes) == 0 and criteria_1(model_layers, epsilons[mid + 1], X, y, num_classes) == -1:\n",
    "      epsilon_list.append(epsilons[mid])\n",
    "      flag1 = 0\n",
    "      break\n",
    "    elif criteria_1(model_layers, epsilons[mid], X, y, num_classes) == 0 and criteria_1(model_layers, epsilons[mid + 1], X, y, num_classes) == 0:\n",
    "      start1 = mid + 1\n",
    "    else:\n",
    "      end1 = mid - 1\n",
    "# returning None if value not found\n",
    "  if flag1 == -1:\n",
    "    epsilon_list.append(None)\n",
    "\n",
    "# optimum epsilon value for tensor 2\n",
    "  start2 = 0\n",
    "  end2 = len(epsilons) - 1\n",
    "  flag2 = -1\n",
    "  while start2 <= end2:\n",
    "    mid = int((start2 + end2)/ 2)\n",
    "    if criteria_2(model_layers, epsilons[mid], X, y, num_classes) == 0 and criteria_2(model_layers, epsilons[mid + 1], X, y, num_classes) == -1:\n",
    "      epsilon_list.append(epsilons[mid])\n",
    "      flag2 = 0\n",
    "      break\n",
    "    elif criteria_2(model_layers, epsilons[mid], X, y, num_classes) == 0 and criteria_2(model_layers, epsilons[mid + 1], X, y, num_classes) == 0:\n",
    "      start2 = mid + 1\n",
    "    else:\n",
    "      end2 = mid - 1 \n",
    "# returning None if value not found\n",
    "  if flag2 == -1:\n",
    "    epsilon_list.append(None) \n",
    "\n",
    "  return epsilon_list\n",
    "\n",
    "#######"
   ]
  },
  {
   "cell_type": "code",
   "execution_count": 15,
   "metadata": {
    "id": "TpcsRBWYCJTm"
   },
   "outputs": [],
   "source": [
    "# !!DO NOT EDIT!!\n",
    "epsilons = [x/10000 for x in range(1, 10000)]\n",
    "# unit test - 1 \n",
    "sample_X = torch.tensor([[0.1, 0.9], [0.4, 0.5]], device=device)\n",
    "sample_y = torch.tensor([0,0], device=device)\n",
    "test_epsilons = binary_search(epsilons, test_model_layers, sample_X, sample_y, num_classes_test)\n",
    "assert test_epsilons==[0.0028, 0.0067]"
   ]
  },
  {
   "cell_type": "markdown",
   "metadata": {
    "id": "c-oAMCniCUl6"
   },
   "source": [
    "### **#3.** Report the certified values of epsilon on the first few examples (simply run the below cell)."
   ]
  },
  {
   "cell_type": "code",
   "execution_count": 16,
   "metadata": {
    "colab": {
     "base_uri": "https://localhost:8080/"
    },
    "id": "WBuMbyEpD8vD",
    "outputId": "f1f9529e-1098-4233-a223-ee99c100c1ea"
   },
   "outputs": [
    {
     "data": {
      "text/plain": [
       "[0.0008, 0.0013]"
      ]
     },
     "execution_count": 16,
     "metadata": {},
     "output_type": "execute_result"
    }
   ],
   "source": [
    "# !!DO NOT EDIT!!\n",
    "# finding epsilon for first few examples of MNIST dataset using IBP\n",
    "epsilons = [x/10000 for x in range(1, 10000)]\n",
    "X = example_data_flattened[0:2]\n",
    "y = example_labels[0:2]\n",
    "binary_search(epsilons, model_layers, X, y, num_classes)"
   ]
  }
 ],
 "metadata": {
  "accelerator": "GPU",
  "colab": {
   "provenance": []
  },
  "gpuClass": "standard",
  "kernelspec": {
   "display_name": "Python 3",
   "language": "python",
   "name": "python3"
  },
  "language_info": {
   "codemirror_mode": {
    "name": "ipython",
    "version": 3
   },
   "file_extension": ".py",
   "mimetype": "text/x-python",
   "name": "python",
   "nbconvert_exporter": "python",
   "pygments_lexer": "ipython3",
   "version": "3.8.8"
  },
  "vscode": {
   "interpreter": {
    "hash": "b0d983612b814860d9ab1dbb303f20bfc8fb4fb3419b27046d7bc1d14cf03c9f"
   }
  },
  "widgets": {
   "application/vnd.jupyter.widget-state+json": {
    "10b12039006d4fffbd36a919a9ffea28": {
     "model_module": "@jupyter-widgets/controls",
     "model_module_version": "1.5.0",
     "model_name": "DescriptionStyleModel",
     "state": {
      "_model_module": "@jupyter-widgets/controls",
      "_model_module_version": "1.5.0",
      "_model_name": "DescriptionStyleModel",
      "_view_count": null,
      "_view_module": "@jupyter-widgets/base",
      "_view_module_version": "1.2.0",
      "_view_name": "StyleView",
      "description_width": ""
     }
    },
    "12f65853184c41a49abcbd10b73b9464": {
     "model_module": "@jupyter-widgets/controls",
     "model_module_version": "1.5.0",
     "model_name": "HTMLModel",
     "state": {
      "_dom_classes": [],
      "_model_module": "@jupyter-widgets/controls",
      "_model_module_version": "1.5.0",
      "_model_name": "HTMLModel",
      "_view_count": null,
      "_view_module": "@jupyter-widgets/controls",
      "_view_module_version": "1.5.0",
      "_view_name": "HTMLView",
      "description": "",
      "description_tooltip": null,
      "layout": "IPY_MODEL_7567031015bd43fe9073516ac437be3e",
      "placeholder": "​",
      "style": "IPY_MODEL_70477b9116964539afdba73443e85abf",
      "value": "100%"
     }
    },
    "21a3e15ceeb343bb97e1ac760289ee3f": {
     "model_module": "@jupyter-widgets/base",
     "model_module_version": "1.2.0",
     "model_name": "LayoutModel",
     "state": {
      "_model_module": "@jupyter-widgets/base",
      "_model_module_version": "1.2.0",
      "_model_name": "LayoutModel",
      "_view_count": null,
      "_view_module": "@jupyter-widgets/base",
      "_view_module_version": "1.2.0",
      "_view_name": "LayoutView",
      "align_content": null,
      "align_items": null,
      "align_self": null,
      "border": null,
      "bottom": null,
      "display": null,
      "flex": null,
      "flex_flow": null,
      "grid_area": null,
      "grid_auto_columns": null,
      "grid_auto_flow": null,
      "grid_auto_rows": null,
      "grid_column": null,
      "grid_gap": null,
      "grid_row": null,
      "grid_template_areas": null,
      "grid_template_columns": null,
      "grid_template_rows": null,
      "height": null,
      "justify_content": null,
      "justify_items": null,
      "left": null,
      "margin": null,
      "max_height": null,
      "max_width": null,
      "min_height": null,
      "min_width": null,
      "object_fit": null,
      "object_position": null,
      "order": null,
      "overflow": null,
      "overflow_x": null,
      "overflow_y": null,
      "padding": null,
      "right": null,
      "top": null,
      "visibility": null,
      "width": null
     }
    },
    "2bacb321a1884d4883011e55e312a5fa": {
     "model_module": "@jupyter-widgets/base",
     "model_module_version": "1.2.0",
     "model_name": "LayoutModel",
     "state": {
      "_model_module": "@jupyter-widgets/base",
      "_model_module_version": "1.2.0",
      "_model_name": "LayoutModel",
      "_view_count": null,
      "_view_module": "@jupyter-widgets/base",
      "_view_module_version": "1.2.0",
      "_view_name": "LayoutView",
      "align_content": null,
      "align_items": null,
      "align_self": null,
      "border": null,
      "bottom": null,
      "display": null,
      "flex": null,
      "flex_flow": null,
      "grid_area": null,
      "grid_auto_columns": null,
      "grid_auto_flow": null,
      "grid_auto_rows": null,
      "grid_column": null,
      "grid_gap": null,
      "grid_row": null,
      "grid_template_areas": null,
      "grid_template_columns": null,
      "grid_template_rows": null,
      "height": null,
      "justify_content": null,
      "justify_items": null,
      "left": null,
      "margin": null,
      "max_height": null,
      "max_width": null,
      "min_height": null,
      "min_width": null,
      "object_fit": null,
      "object_position": null,
      "order": null,
      "overflow": null,
      "overflow_x": null,
      "overflow_y": null,
      "padding": null,
      "right": null,
      "top": null,
      "visibility": null,
      "width": null
     }
    },
    "2c2a3c254c924659afbfee2ce91d13ed": {
     "model_module": "@jupyter-widgets/controls",
     "model_module_version": "1.5.0",
     "model_name": "HTMLModel",
     "state": {
      "_dom_classes": [],
      "_model_module": "@jupyter-widgets/controls",
      "_model_module_version": "1.5.0",
      "_model_name": "HTMLModel",
      "_view_count": null,
      "_view_module": "@jupyter-widgets/controls",
      "_view_module_version": "1.5.0",
      "_view_name": "HTMLView",
      "description": "",
      "description_tooltip": null,
      "layout": "IPY_MODEL_764168c8f97e44c18a59bd891d767738",
      "placeholder": "​",
      "style": "IPY_MODEL_c433d6a9fa484cddbcf2743a95eb4674",
      "value": "100%"
     }
    },
    "2f2e5e9a7d7a4bf499b6f4979ccabff2": {
     "model_module": "@jupyter-widgets/base",
     "model_module_version": "1.2.0",
     "model_name": "LayoutModel",
     "state": {
      "_model_module": "@jupyter-widgets/base",
      "_model_module_version": "1.2.0",
      "_model_name": "LayoutModel",
      "_view_count": null,
      "_view_module": "@jupyter-widgets/base",
      "_view_module_version": "1.2.0",
      "_view_name": "LayoutView",
      "align_content": null,
      "align_items": null,
      "align_self": null,
      "border": null,
      "bottom": null,
      "display": null,
      "flex": null,
      "flex_flow": null,
      "grid_area": null,
      "grid_auto_columns": null,
      "grid_auto_flow": null,
      "grid_auto_rows": null,
      "grid_column": null,
      "grid_gap": null,
      "grid_row": null,
      "grid_template_areas": null,
      "grid_template_columns": null,
      "grid_template_rows": null,
      "height": null,
      "justify_content": null,
      "justify_items": null,
      "left": null,
      "margin": null,
      "max_height": null,
      "max_width": null,
      "min_height": null,
      "min_width": null,
      "object_fit": null,
      "object_position": null,
      "order": null,
      "overflow": null,
      "overflow_x": null,
      "overflow_y": null,
      "padding": null,
      "right": null,
      "top": null,
      "visibility": null,
      "width": null
     }
    },
    "342a216246194d89b3260f1cac4b6809": {
     "model_module": "@jupyter-widgets/base",
     "model_module_version": "1.2.0",
     "model_name": "LayoutModel",
     "state": {
      "_model_module": "@jupyter-widgets/base",
      "_model_module_version": "1.2.0",
      "_model_name": "LayoutModel",
      "_view_count": null,
      "_view_module": "@jupyter-widgets/base",
      "_view_module_version": "1.2.0",
      "_view_name": "LayoutView",
      "align_content": null,
      "align_items": null,
      "align_self": null,
      "border": null,
      "bottom": null,
      "display": null,
      "flex": null,
      "flex_flow": null,
      "grid_area": null,
      "grid_auto_columns": null,
      "grid_auto_flow": null,
      "grid_auto_rows": null,
      "grid_column": null,
      "grid_gap": null,
      "grid_row": null,
      "grid_template_areas": null,
      "grid_template_columns": null,
      "grid_template_rows": null,
      "height": null,
      "justify_content": null,
      "justify_items": null,
      "left": null,
      "margin": null,
      "max_height": null,
      "max_width": null,
      "min_height": null,
      "min_width": null,
      "object_fit": null,
      "object_position": null,
      "order": null,
      "overflow": null,
      "overflow_x": null,
      "overflow_y": null,
      "padding": null,
      "right": null,
      "top": null,
      "visibility": null,
      "width": null
     }
    },
    "35e463d3a17040608eff1d78112ec966": {
     "model_module": "@jupyter-widgets/controls",
     "model_module_version": "1.5.0",
     "model_name": "DescriptionStyleModel",
     "state": {
      "_model_module": "@jupyter-widgets/controls",
      "_model_module_version": "1.5.0",
      "_model_name": "DescriptionStyleModel",
      "_view_count": null,
      "_view_module": "@jupyter-widgets/base",
      "_view_module_version": "1.2.0",
      "_view_name": "StyleView",
      "description_width": ""
     }
    },
    "390364e38e324ec793f264c1db82b983": {
     "model_module": "@jupyter-widgets/controls",
     "model_module_version": "1.5.0",
     "model_name": "HTMLModel",
     "state": {
      "_dom_classes": [],
      "_model_module": "@jupyter-widgets/controls",
      "_model_module_version": "1.5.0",
      "_model_name": "HTMLModel",
      "_view_count": null,
      "_view_module": "@jupyter-widgets/controls",
      "_view_module_version": "1.5.0",
      "_view_name": "HTMLView",
      "description": "",
      "description_tooltip": null,
      "layout": "IPY_MODEL_342a216246194d89b3260f1cac4b6809",
      "placeholder": "​",
      "style": "IPY_MODEL_e1ce8064f0884228a642fb167ab14061",
      "value": " 4542/4542 [00:00&lt;00:00, 105122.03it/s]"
     }
    },
    "3dc25854772c4066a9c4c72ba2bb1def": {
     "model_module": "@jupyter-widgets/base",
     "model_module_version": "1.2.0",
     "model_name": "LayoutModel",
     "state": {
      "_model_module": "@jupyter-widgets/base",
      "_model_module_version": "1.2.0",
      "_model_name": "LayoutModel",
      "_view_count": null,
      "_view_module": "@jupyter-widgets/base",
      "_view_module_version": "1.2.0",
      "_view_name": "LayoutView",
      "align_content": null,
      "align_items": null,
      "align_self": null,
      "border": null,
      "bottom": null,
      "display": null,
      "flex": null,
      "flex_flow": null,
      "grid_area": null,
      "grid_auto_columns": null,
      "grid_auto_flow": null,
      "grid_auto_rows": null,
      "grid_column": null,
      "grid_gap": null,
      "grid_row": null,
      "grid_template_areas": null,
      "grid_template_columns": null,
      "grid_template_rows": null,
      "height": null,
      "justify_content": null,
      "justify_items": null,
      "left": null,
      "margin": null,
      "max_height": null,
      "max_width": null,
      "min_height": null,
      "min_width": null,
      "object_fit": null,
      "object_position": null,
      "order": null,
      "overflow": null,
      "overflow_x": null,
      "overflow_y": null,
      "padding": null,
      "right": null,
      "top": null,
      "visibility": null,
      "width": null
     }
    },
    "3f70dc80458f415989a794c1749f1d3b": {
     "model_module": "@jupyter-widgets/base",
     "model_module_version": "1.2.0",
     "model_name": "LayoutModel",
     "state": {
      "_model_module": "@jupyter-widgets/base",
      "_model_module_version": "1.2.0",
      "_model_name": "LayoutModel",
      "_view_count": null,
      "_view_module": "@jupyter-widgets/base",
      "_view_module_version": "1.2.0",
      "_view_name": "LayoutView",
      "align_content": null,
      "align_items": null,
      "align_self": null,
      "border": null,
      "bottom": null,
      "display": null,
      "flex": null,
      "flex_flow": null,
      "grid_area": null,
      "grid_auto_columns": null,
      "grid_auto_flow": null,
      "grid_auto_rows": null,
      "grid_column": null,
      "grid_gap": null,
      "grid_row": null,
      "grid_template_areas": null,
      "grid_template_columns": null,
      "grid_template_rows": null,
      "height": null,
      "justify_content": null,
      "justify_items": null,
      "left": null,
      "margin": null,
      "max_height": null,
      "max_width": null,
      "min_height": null,
      "min_width": null,
      "object_fit": null,
      "object_position": null,
      "order": null,
      "overflow": null,
      "overflow_x": null,
      "overflow_y": null,
      "padding": null,
      "right": null,
      "top": null,
      "visibility": null,
      "width": null
     }
    },
    "4aa8a4e9f1b5415fb91c3c08dab420cd": {
     "model_module": "@jupyter-widgets/controls",
     "model_module_version": "1.5.0",
     "model_name": "ProgressStyleModel",
     "state": {
      "_model_module": "@jupyter-widgets/controls",
      "_model_module_version": "1.5.0",
      "_model_name": "ProgressStyleModel",
      "_view_count": null,
      "_view_module": "@jupyter-widgets/base",
      "_view_module_version": "1.2.0",
      "_view_name": "StyleView",
      "bar_color": null,
      "description_width": ""
     }
    },
    "4b54b18e8c124451bd3c6b0460cdb0de": {
     "model_module": "@jupyter-widgets/controls",
     "model_module_version": "1.5.0",
     "model_name": "HTMLModel",
     "state": {
      "_dom_classes": [],
      "_model_module": "@jupyter-widgets/controls",
      "_model_module_version": "1.5.0",
      "_model_name": "HTMLModel",
      "_view_count": null,
      "_view_module": "@jupyter-widgets/controls",
      "_view_module_version": "1.5.0",
      "_view_name": "HTMLView",
      "description": "",
      "description_tooltip": null,
      "layout": "IPY_MODEL_2bacb321a1884d4883011e55e312a5fa",
      "placeholder": "​",
      "style": "IPY_MODEL_7f07a5cc76474e879f4dab5842efa13f",
      "value": " 28881/28881 [00:00&lt;00:00, 815218.04it/s]"
     }
    },
    "53b7572c0da04c73949bb4058b6cfd07": {
     "model_module": "@jupyter-widgets/controls",
     "model_module_version": "1.5.0",
     "model_name": "DescriptionStyleModel",
     "state": {
      "_model_module": "@jupyter-widgets/controls",
      "_model_module_version": "1.5.0",
      "_model_name": "DescriptionStyleModel",
      "_view_count": null,
      "_view_module": "@jupyter-widgets/base",
      "_view_module_version": "1.2.0",
      "_view_name": "StyleView",
      "description_width": ""
     }
    },
    "59a5293df76c40d28a9fd825d2706987": {
     "model_module": "@jupyter-widgets/base",
     "model_module_version": "1.2.0",
     "model_name": "LayoutModel",
     "state": {
      "_model_module": "@jupyter-widgets/base",
      "_model_module_version": "1.2.0",
      "_model_name": "LayoutModel",
      "_view_count": null,
      "_view_module": "@jupyter-widgets/base",
      "_view_module_version": "1.2.0",
      "_view_name": "LayoutView",
      "align_content": null,
      "align_items": null,
      "align_self": null,
      "border": null,
      "bottom": null,
      "display": null,
      "flex": null,
      "flex_flow": null,
      "grid_area": null,
      "grid_auto_columns": null,
      "grid_auto_flow": null,
      "grid_auto_rows": null,
      "grid_column": null,
      "grid_gap": null,
      "grid_row": null,
      "grid_template_areas": null,
      "grid_template_columns": null,
      "grid_template_rows": null,
      "height": null,
      "justify_content": null,
      "justify_items": null,
      "left": null,
      "margin": null,
      "max_height": null,
      "max_width": null,
      "min_height": null,
      "min_width": null,
      "object_fit": null,
      "object_position": null,
      "order": null,
      "overflow": null,
      "overflow_x": null,
      "overflow_y": null,
      "padding": null,
      "right": null,
      "top": null,
      "visibility": null,
      "width": null
     }
    },
    "5b7b740c6b3d439b9a52f3b6b0c0e4ce": {
     "model_module": "@jupyter-widgets/controls",
     "model_module_version": "1.5.0",
     "model_name": "HBoxModel",
     "state": {
      "_dom_classes": [],
      "_model_module": "@jupyter-widgets/controls",
      "_model_module_version": "1.5.0",
      "_model_name": "HBoxModel",
      "_view_count": null,
      "_view_module": "@jupyter-widgets/controls",
      "_view_module_version": "1.5.0",
      "_view_name": "HBoxView",
      "box_style": "",
      "children": [
       "IPY_MODEL_c93c22acb27b4e149395b27963bc5236",
       "IPY_MODEL_af3b54cf232d408ebf6911592de7e08e",
       "IPY_MODEL_390364e38e324ec793f264c1db82b983"
      ],
      "layout": "IPY_MODEL_59a5293df76c40d28a9fd825d2706987"
     }
    },
    "68a04224b49948748419cbab67cbc154": {
     "model_module": "@jupyter-widgets/controls",
     "model_module_version": "1.5.0",
     "model_name": "ProgressStyleModel",
     "state": {
      "_model_module": "@jupyter-widgets/controls",
      "_model_module_version": "1.5.0",
      "_model_name": "ProgressStyleModel",
      "_view_count": null,
      "_view_module": "@jupyter-widgets/base",
      "_view_module_version": "1.2.0",
      "_view_name": "StyleView",
      "bar_color": null,
      "description_width": ""
     }
    },
    "70477b9116964539afdba73443e85abf": {
     "model_module": "@jupyter-widgets/controls",
     "model_module_version": "1.5.0",
     "model_name": "DescriptionStyleModel",
     "state": {
      "_model_module": "@jupyter-widgets/controls",
      "_model_module_version": "1.5.0",
      "_model_name": "DescriptionStyleModel",
      "_view_count": null,
      "_view_module": "@jupyter-widgets/base",
      "_view_module_version": "1.2.0",
      "_view_name": "StyleView",
      "description_width": ""
     }
    },
    "7125e1ae4ff24bcb9d1316867a61501a": {
     "model_module": "@jupyter-widgets/base",
     "model_module_version": "1.2.0",
     "model_name": "LayoutModel",
     "state": {
      "_model_module": "@jupyter-widgets/base",
      "_model_module_version": "1.2.0",
      "_model_name": "LayoutModel",
      "_view_count": null,
      "_view_module": "@jupyter-widgets/base",
      "_view_module_version": "1.2.0",
      "_view_name": "LayoutView",
      "align_content": null,
      "align_items": null,
      "align_self": null,
      "border": null,
      "bottom": null,
      "display": null,
      "flex": null,
      "flex_flow": null,
      "grid_area": null,
      "grid_auto_columns": null,
      "grid_auto_flow": null,
      "grid_auto_rows": null,
      "grid_column": null,
      "grid_gap": null,
      "grid_row": null,
      "grid_template_areas": null,
      "grid_template_columns": null,
      "grid_template_rows": null,
      "height": null,
      "justify_content": null,
      "justify_items": null,
      "left": null,
      "margin": null,
      "max_height": null,
      "max_width": null,
      "min_height": null,
      "min_width": null,
      "object_fit": null,
      "object_position": null,
      "order": null,
      "overflow": null,
      "overflow_x": null,
      "overflow_y": null,
      "padding": null,
      "right": null,
      "top": null,
      "visibility": null,
      "width": null
     }
    },
    "7567031015bd43fe9073516ac437be3e": {
     "model_module": "@jupyter-widgets/base",
     "model_module_version": "1.2.0",
     "model_name": "LayoutModel",
     "state": {
      "_model_module": "@jupyter-widgets/base",
      "_model_module_version": "1.2.0",
      "_model_name": "LayoutModel",
      "_view_count": null,
      "_view_module": "@jupyter-widgets/base",
      "_view_module_version": "1.2.0",
      "_view_name": "LayoutView",
      "align_content": null,
      "align_items": null,
      "align_self": null,
      "border": null,
      "bottom": null,
      "display": null,
      "flex": null,
      "flex_flow": null,
      "grid_area": null,
      "grid_auto_columns": null,
      "grid_auto_flow": null,
      "grid_auto_rows": null,
      "grid_column": null,
      "grid_gap": null,
      "grid_row": null,
      "grid_template_areas": null,
      "grid_template_columns": null,
      "grid_template_rows": null,
      "height": null,
      "justify_content": null,
      "justify_items": null,
      "left": null,
      "margin": null,
      "max_height": null,
      "max_width": null,
      "min_height": null,
      "min_width": null,
      "object_fit": null,
      "object_position": null,
      "order": null,
      "overflow": null,
      "overflow_x": null,
      "overflow_y": null,
      "padding": null,
      "right": null,
      "top": null,
      "visibility": null,
      "width": null
     }
    },
    "764168c8f97e44c18a59bd891d767738": {
     "model_module": "@jupyter-widgets/base",
     "model_module_version": "1.2.0",
     "model_name": "LayoutModel",
     "state": {
      "_model_module": "@jupyter-widgets/base",
      "_model_module_version": "1.2.0",
      "_model_name": "LayoutModel",
      "_view_count": null,
      "_view_module": "@jupyter-widgets/base",
      "_view_module_version": "1.2.0",
      "_view_name": "LayoutView",
      "align_content": null,
      "align_items": null,
      "align_self": null,
      "border": null,
      "bottom": null,
      "display": null,
      "flex": null,
      "flex_flow": null,
      "grid_area": null,
      "grid_auto_columns": null,
      "grid_auto_flow": null,
      "grid_auto_rows": null,
      "grid_column": null,
      "grid_gap": null,
      "grid_row": null,
      "grid_template_areas": null,
      "grid_template_columns": null,
      "grid_template_rows": null,
      "height": null,
      "justify_content": null,
      "justify_items": null,
      "left": null,
      "margin": null,
      "max_height": null,
      "max_width": null,
      "min_height": null,
      "min_width": null,
      "object_fit": null,
      "object_position": null,
      "order": null,
      "overflow": null,
      "overflow_x": null,
      "overflow_y": null,
      "padding": null,
      "right": null,
      "top": null,
      "visibility": null,
      "width": null
     }
    },
    "76d0ffb3beb747b18dea632af08cf21c": {
     "model_module": "@jupyter-widgets/base",
     "model_module_version": "1.2.0",
     "model_name": "LayoutModel",
     "state": {
      "_model_module": "@jupyter-widgets/base",
      "_model_module_version": "1.2.0",
      "_model_name": "LayoutModel",
      "_view_count": null,
      "_view_module": "@jupyter-widgets/base",
      "_view_module_version": "1.2.0",
      "_view_name": "LayoutView",
      "align_content": null,
      "align_items": null,
      "align_self": null,
      "border": null,
      "bottom": null,
      "display": null,
      "flex": null,
      "flex_flow": null,
      "grid_area": null,
      "grid_auto_columns": null,
      "grid_auto_flow": null,
      "grid_auto_rows": null,
      "grid_column": null,
      "grid_gap": null,
      "grid_row": null,
      "grid_template_areas": null,
      "grid_template_columns": null,
      "grid_template_rows": null,
      "height": null,
      "justify_content": null,
      "justify_items": null,
      "left": null,
      "margin": null,
      "max_height": null,
      "max_width": null,
      "min_height": null,
      "min_width": null,
      "object_fit": null,
      "object_position": null,
      "order": null,
      "overflow": null,
      "overflow_x": null,
      "overflow_y": null,
      "padding": null,
      "right": null,
      "top": null,
      "visibility": null,
      "width": null
     }
    },
    "7b0cfb03d8294b748679f5ddd60742f6": {
     "model_module": "@jupyter-widgets/controls",
     "model_module_version": "1.5.0",
     "model_name": "HBoxModel",
     "state": {
      "_dom_classes": [],
      "_model_module": "@jupyter-widgets/controls",
      "_model_module_version": "1.5.0",
      "_model_name": "HBoxModel",
      "_view_count": null,
      "_view_module": "@jupyter-widgets/controls",
      "_view_module_version": "1.5.0",
      "_view_name": "HBoxView",
      "box_style": "",
      "children": [
       "IPY_MODEL_2c2a3c254c924659afbfee2ce91d13ed",
       "IPY_MODEL_9844d7b1c5fc411f880e174642793608",
       "IPY_MODEL_ef0648ac2be3414c864628a4081cb426"
      ],
      "layout": "IPY_MODEL_7125e1ae4ff24bcb9d1316867a61501a"
     }
    },
    "7e507d7eae45402f95bb7704ab3c0ea5": {
     "model_module": "@jupyter-widgets/controls",
     "model_module_version": "1.5.0",
     "model_name": "FloatProgressModel",
     "state": {
      "_dom_classes": [],
      "_model_module": "@jupyter-widgets/controls",
      "_model_module_version": "1.5.0",
      "_model_name": "FloatProgressModel",
      "_view_count": null,
      "_view_module": "@jupyter-widgets/controls",
      "_view_module_version": "1.5.0",
      "_view_name": "ProgressView",
      "bar_style": "success",
      "description": "",
      "description_tooltip": null,
      "layout": "IPY_MODEL_d6a049899a344f24b0bdf8db79e835ef",
      "max": 28881,
      "min": 0,
      "orientation": "horizontal",
      "style": "IPY_MODEL_4aa8a4e9f1b5415fb91c3c08dab420cd",
      "value": 28881
     }
    },
    "7e70a39973134afb847d15fb4730e4cd": {
     "model_module": "@jupyter-widgets/controls",
     "model_module_version": "1.5.0",
     "model_name": "DescriptionStyleModel",
     "state": {
      "_model_module": "@jupyter-widgets/controls",
      "_model_module_version": "1.5.0",
      "_model_name": "DescriptionStyleModel",
      "_view_count": null,
      "_view_module": "@jupyter-widgets/base",
      "_view_module_version": "1.2.0",
      "_view_name": "StyleView",
      "description_width": ""
     }
    },
    "7f07a5cc76474e879f4dab5842efa13f": {
     "model_module": "@jupyter-widgets/controls",
     "model_module_version": "1.5.0",
     "model_name": "DescriptionStyleModel",
     "state": {
      "_model_module": "@jupyter-widgets/controls",
      "_model_module_version": "1.5.0",
      "_model_name": "DescriptionStyleModel",
      "_view_count": null,
      "_view_module": "@jupyter-widgets/base",
      "_view_module_version": "1.2.0",
      "_view_name": "StyleView",
      "description_width": ""
     }
    },
    "8b615967e7424c09867f1bc7714ba32d": {
     "model_module": "@jupyter-widgets/controls",
     "model_module_version": "1.5.0",
     "model_name": "FloatProgressModel",
     "state": {
      "_dom_classes": [],
      "_model_module": "@jupyter-widgets/controls",
      "_model_module_version": "1.5.0",
      "_model_name": "FloatProgressModel",
      "_view_count": null,
      "_view_module": "@jupyter-widgets/controls",
      "_view_module_version": "1.5.0",
      "_view_name": "ProgressView",
      "bar_style": "success",
      "description": "",
      "description_tooltip": null,
      "layout": "IPY_MODEL_76d0ffb3beb747b18dea632af08cf21c",
      "max": 9912422,
      "min": 0,
      "orientation": "horizontal",
      "style": "IPY_MODEL_ce706e65e1684ad4a5deab74aa5342af",
      "value": 9912422
     }
    },
    "90283ba446794a50b46d0fc2f27b0de6": {
     "model_module": "@jupyter-widgets/base",
     "model_module_version": "1.2.0",
     "model_name": "LayoutModel",
     "state": {
      "_model_module": "@jupyter-widgets/base",
      "_model_module_version": "1.2.0",
      "_model_name": "LayoutModel",
      "_view_count": null,
      "_view_module": "@jupyter-widgets/base",
      "_view_module_version": "1.2.0",
      "_view_name": "LayoutView",
      "align_content": null,
      "align_items": null,
      "align_self": null,
      "border": null,
      "bottom": null,
      "display": null,
      "flex": null,
      "flex_flow": null,
      "grid_area": null,
      "grid_auto_columns": null,
      "grid_auto_flow": null,
      "grid_auto_rows": null,
      "grid_column": null,
      "grid_gap": null,
      "grid_row": null,
      "grid_template_areas": null,
      "grid_template_columns": null,
      "grid_template_rows": null,
      "height": null,
      "justify_content": null,
      "justify_items": null,
      "left": null,
      "margin": null,
      "max_height": null,
      "max_width": null,
      "min_height": null,
      "min_width": null,
      "object_fit": null,
      "object_position": null,
      "order": null,
      "overflow": null,
      "overflow_x": null,
      "overflow_y": null,
      "padding": null,
      "right": null,
      "top": null,
      "visibility": null,
      "width": null
     }
    },
    "9437bf4fb19b4ff1af0fedfeeaeee9ab": {
     "model_module": "@jupyter-widgets/base",
     "model_module_version": "1.2.0",
     "model_name": "LayoutModel",
     "state": {
      "_model_module": "@jupyter-widgets/base",
      "_model_module_version": "1.2.0",
      "_model_name": "LayoutModel",
      "_view_count": null,
      "_view_module": "@jupyter-widgets/base",
      "_view_module_version": "1.2.0",
      "_view_name": "LayoutView",
      "align_content": null,
      "align_items": null,
      "align_self": null,
      "border": null,
      "bottom": null,
      "display": null,
      "flex": null,
      "flex_flow": null,
      "grid_area": null,
      "grid_auto_columns": null,
      "grid_auto_flow": null,
      "grid_auto_rows": null,
      "grid_column": null,
      "grid_gap": null,
      "grid_row": null,
      "grid_template_areas": null,
      "grid_template_columns": null,
      "grid_template_rows": null,
      "height": null,
      "justify_content": null,
      "justify_items": null,
      "left": null,
      "margin": null,
      "max_height": null,
      "max_width": null,
      "min_height": null,
      "min_width": null,
      "object_fit": null,
      "object_position": null,
      "order": null,
      "overflow": null,
      "overflow_x": null,
      "overflow_y": null,
      "padding": null,
      "right": null,
      "top": null,
      "visibility": null,
      "width": null
     }
    },
    "9844d7b1c5fc411f880e174642793608": {
     "model_module": "@jupyter-widgets/controls",
     "model_module_version": "1.5.0",
     "model_name": "FloatProgressModel",
     "state": {
      "_dom_classes": [],
      "_model_module": "@jupyter-widgets/controls",
      "_model_module_version": "1.5.0",
      "_model_name": "FloatProgressModel",
      "_view_count": null,
      "_view_module": "@jupyter-widgets/controls",
      "_view_module_version": "1.5.0",
      "_view_name": "ProgressView",
      "bar_style": "success",
      "description": "",
      "description_tooltip": null,
      "layout": "IPY_MODEL_3f70dc80458f415989a794c1749f1d3b",
      "max": 1648877,
      "min": 0,
      "orientation": "horizontal",
      "style": "IPY_MODEL_f31399b233dc4a7bad405faf2bdbfd80",
      "value": 1648877
     }
    },
    "9d002478d7604f2884599725b1e2fd8f": {
     "model_module": "@jupyter-widgets/controls",
     "model_module_version": "1.5.0",
     "model_name": "HBoxModel",
     "state": {
      "_dom_classes": [],
      "_model_module": "@jupyter-widgets/controls",
      "_model_module_version": "1.5.0",
      "_model_name": "HBoxModel",
      "_view_count": null,
      "_view_module": "@jupyter-widgets/controls",
      "_view_module_version": "1.5.0",
      "_view_name": "HBoxView",
      "box_style": "",
      "children": [
       "IPY_MODEL_12f65853184c41a49abcbd10b73b9464",
       "IPY_MODEL_8b615967e7424c09867f1bc7714ba32d",
       "IPY_MODEL_dfc4cfaca78149e5ab8aa2a513f765ab"
      ],
      "layout": "IPY_MODEL_2f2e5e9a7d7a4bf499b6f4979ccabff2"
     }
    },
    "af3b54cf232d408ebf6911592de7e08e": {
     "model_module": "@jupyter-widgets/controls",
     "model_module_version": "1.5.0",
     "model_name": "FloatProgressModel",
     "state": {
      "_dom_classes": [],
      "_model_module": "@jupyter-widgets/controls",
      "_model_module_version": "1.5.0",
      "_model_name": "FloatProgressModel",
      "_view_count": null,
      "_view_module": "@jupyter-widgets/controls",
      "_view_module_version": "1.5.0",
      "_view_name": "ProgressView",
      "bar_style": "success",
      "description": "",
      "description_tooltip": null,
      "layout": "IPY_MODEL_9437bf4fb19b4ff1af0fedfeeaeee9ab",
      "max": 4542,
      "min": 0,
      "orientation": "horizontal",
      "style": "IPY_MODEL_68a04224b49948748419cbab67cbc154",
      "value": 4542
     }
    },
    "c433d6a9fa484cddbcf2743a95eb4674": {
     "model_module": "@jupyter-widgets/controls",
     "model_module_version": "1.5.0",
     "model_name": "DescriptionStyleModel",
     "state": {
      "_model_module": "@jupyter-widgets/controls",
      "_model_module_version": "1.5.0",
      "_model_name": "DescriptionStyleModel",
      "_view_count": null,
      "_view_module": "@jupyter-widgets/base",
      "_view_module_version": "1.2.0",
      "_view_name": "StyleView",
      "description_width": ""
     }
    },
    "c93c22acb27b4e149395b27963bc5236": {
     "model_module": "@jupyter-widgets/controls",
     "model_module_version": "1.5.0",
     "model_name": "HTMLModel",
     "state": {
      "_dom_classes": [],
      "_model_module": "@jupyter-widgets/controls",
      "_model_module_version": "1.5.0",
      "_model_name": "HTMLModel",
      "_view_count": null,
      "_view_module": "@jupyter-widgets/controls",
      "_view_module_version": "1.5.0",
      "_view_name": "HTMLView",
      "description": "",
      "description_tooltip": null,
      "layout": "IPY_MODEL_fe21918a8db34fab823cfd2b9f737abc",
      "placeholder": "​",
      "style": "IPY_MODEL_7e70a39973134afb847d15fb4730e4cd",
      "value": "100%"
     }
    },
    "ce706e65e1684ad4a5deab74aa5342af": {
     "model_module": "@jupyter-widgets/controls",
     "model_module_version": "1.5.0",
     "model_name": "ProgressStyleModel",
     "state": {
      "_model_module": "@jupyter-widgets/controls",
      "_model_module_version": "1.5.0",
      "_model_name": "ProgressStyleModel",
      "_view_count": null,
      "_view_module": "@jupyter-widgets/base",
      "_view_module_version": "1.2.0",
      "_view_name": "StyleView",
      "bar_color": null,
      "description_width": ""
     }
    },
    "d6a049899a344f24b0bdf8db79e835ef": {
     "model_module": "@jupyter-widgets/base",
     "model_module_version": "1.2.0",
     "model_name": "LayoutModel",
     "state": {
      "_model_module": "@jupyter-widgets/base",
      "_model_module_version": "1.2.0",
      "_model_name": "LayoutModel",
      "_view_count": null,
      "_view_module": "@jupyter-widgets/base",
      "_view_module_version": "1.2.0",
      "_view_name": "LayoutView",
      "align_content": null,
      "align_items": null,
      "align_self": null,
      "border": null,
      "bottom": null,
      "display": null,
      "flex": null,
      "flex_flow": null,
      "grid_area": null,
      "grid_auto_columns": null,
      "grid_auto_flow": null,
      "grid_auto_rows": null,
      "grid_column": null,
      "grid_gap": null,
      "grid_row": null,
      "grid_template_areas": null,
      "grid_template_columns": null,
      "grid_template_rows": null,
      "height": null,
      "justify_content": null,
      "justify_items": null,
      "left": null,
      "margin": null,
      "max_height": null,
      "max_width": null,
      "min_height": null,
      "min_width": null,
      "object_fit": null,
      "object_position": null,
      "order": null,
      "overflow": null,
      "overflow_x": null,
      "overflow_y": null,
      "padding": null,
      "right": null,
      "top": null,
      "visibility": null,
      "width": null
     }
    },
    "dfc4cfaca78149e5ab8aa2a513f765ab": {
     "model_module": "@jupyter-widgets/controls",
     "model_module_version": "1.5.0",
     "model_name": "HTMLModel",
     "state": {
      "_dom_classes": [],
      "_model_module": "@jupyter-widgets/controls",
      "_model_module_version": "1.5.0",
      "_model_name": "HTMLModel",
      "_view_count": null,
      "_view_module": "@jupyter-widgets/controls",
      "_view_module_version": "1.5.0",
      "_view_name": "HTMLView",
      "description": "",
      "description_tooltip": null,
      "layout": "IPY_MODEL_fb35fe49e86a45719f77ece903d33bd1",
      "placeholder": "​",
      "style": "IPY_MODEL_35e463d3a17040608eff1d78112ec966",
      "value": " 9912422/9912422 [00:00&lt;00:00, 96853236.41it/s]"
     }
    },
    "e1ce8064f0884228a642fb167ab14061": {
     "model_module": "@jupyter-widgets/controls",
     "model_module_version": "1.5.0",
     "model_name": "DescriptionStyleModel",
     "state": {
      "_model_module": "@jupyter-widgets/controls",
      "_model_module_version": "1.5.0",
      "_model_name": "DescriptionStyleModel",
      "_view_count": null,
      "_view_module": "@jupyter-widgets/base",
      "_view_module_version": "1.2.0",
      "_view_name": "StyleView",
      "description_width": ""
     }
    },
    "ef0648ac2be3414c864628a4081cb426": {
     "model_module": "@jupyter-widgets/controls",
     "model_module_version": "1.5.0",
     "model_name": "HTMLModel",
     "state": {
      "_dom_classes": [],
      "_model_module": "@jupyter-widgets/controls",
      "_model_module_version": "1.5.0",
      "_model_name": "HTMLModel",
      "_view_count": null,
      "_view_module": "@jupyter-widgets/controls",
      "_view_module_version": "1.5.0",
      "_view_name": "HTMLView",
      "description": "",
      "description_tooltip": null,
      "layout": "IPY_MODEL_90283ba446794a50b46d0fc2f27b0de6",
      "placeholder": "​",
      "style": "IPY_MODEL_53b7572c0da04c73949bb4058b6cfd07",
      "value": " 1648877/1648877 [00:00&lt;00:00, 20466121.75it/s]"
     }
    },
    "f31399b233dc4a7bad405faf2bdbfd80": {
     "model_module": "@jupyter-widgets/controls",
     "model_module_version": "1.5.0",
     "model_name": "ProgressStyleModel",
     "state": {
      "_model_module": "@jupyter-widgets/controls",
      "_model_module_version": "1.5.0",
      "_model_name": "ProgressStyleModel",
      "_view_count": null,
      "_view_module": "@jupyter-widgets/base",
      "_view_module_version": "1.2.0",
      "_view_name": "StyleView",
      "bar_color": null,
      "description_width": ""
     }
    },
    "f41a0bf6a9d7493aa2322116b8e11a1c": {
     "model_module": "@jupyter-widgets/controls",
     "model_module_version": "1.5.0",
     "model_name": "HBoxModel",
     "state": {
      "_dom_classes": [],
      "_model_module": "@jupyter-widgets/controls",
      "_model_module_version": "1.5.0",
      "_model_name": "HBoxModel",
      "_view_count": null,
      "_view_module": "@jupyter-widgets/controls",
      "_view_module_version": "1.5.0",
      "_view_name": "HBoxView",
      "box_style": "",
      "children": [
       "IPY_MODEL_f5cad15d3ba440b195ab6c89d5b00256",
       "IPY_MODEL_7e507d7eae45402f95bb7704ab3c0ea5",
       "IPY_MODEL_4b54b18e8c124451bd3c6b0460cdb0de"
      ],
      "layout": "IPY_MODEL_21a3e15ceeb343bb97e1ac760289ee3f"
     }
    },
    "f5cad15d3ba440b195ab6c89d5b00256": {
     "model_module": "@jupyter-widgets/controls",
     "model_module_version": "1.5.0",
     "model_name": "HTMLModel",
     "state": {
      "_dom_classes": [],
      "_model_module": "@jupyter-widgets/controls",
      "_model_module_version": "1.5.0",
      "_model_name": "HTMLModel",
      "_view_count": null,
      "_view_module": "@jupyter-widgets/controls",
      "_view_module_version": "1.5.0",
      "_view_name": "HTMLView",
      "description": "",
      "description_tooltip": null,
      "layout": "IPY_MODEL_3dc25854772c4066a9c4c72ba2bb1def",
      "placeholder": "​",
      "style": "IPY_MODEL_10b12039006d4fffbd36a919a9ffea28",
      "value": "100%"
     }
    },
    "fb35fe49e86a45719f77ece903d33bd1": {
     "model_module": "@jupyter-widgets/base",
     "model_module_version": "1.2.0",
     "model_name": "LayoutModel",
     "state": {
      "_model_module": "@jupyter-widgets/base",
      "_model_module_version": "1.2.0",
      "_model_name": "LayoutModel",
      "_view_count": null,
      "_view_module": "@jupyter-widgets/base",
      "_view_module_version": "1.2.0",
      "_view_name": "LayoutView",
      "align_content": null,
      "align_items": null,
      "align_self": null,
      "border": null,
      "bottom": null,
      "display": null,
      "flex": null,
      "flex_flow": null,
      "grid_area": null,
      "grid_auto_columns": null,
      "grid_auto_flow": null,
      "grid_auto_rows": null,
      "grid_column": null,
      "grid_gap": null,
      "grid_row": null,
      "grid_template_areas": null,
      "grid_template_columns": null,
      "grid_template_rows": null,
      "height": null,
      "justify_content": null,
      "justify_items": null,
      "left": null,
      "margin": null,
      "max_height": null,
      "max_width": null,
      "min_height": null,
      "min_width": null,
      "object_fit": null,
      "object_position": null,
      "order": null,
      "overflow": null,
      "overflow_x": null,
      "overflow_y": null,
      "padding": null,
      "right": null,
      "top": null,
      "visibility": null,
      "width": null
     }
    },
    "fe21918a8db34fab823cfd2b9f737abc": {
     "model_module": "@jupyter-widgets/base",
     "model_module_version": "1.2.0",
     "model_name": "LayoutModel",
     "state": {
      "_model_module": "@jupyter-widgets/base",
      "_model_module_version": "1.2.0",
      "_model_name": "LayoutModel",
      "_view_count": null,
      "_view_module": "@jupyter-widgets/base",
      "_view_module_version": "1.2.0",
      "_view_name": "LayoutView",
      "align_content": null,
      "align_items": null,
      "align_self": null,
      "border": null,
      "bottom": null,
      "display": null,
      "flex": null,
      "flex_flow": null,
      "grid_area": null,
      "grid_auto_columns": null,
      "grid_auto_flow": null,
      "grid_auto_rows": null,
      "grid_column": null,
      "grid_gap": null,
      "grid_row": null,
      "grid_template_areas": null,
      "grid_template_columns": null,
      "grid_template_rows": null,
      "height": null,
      "justify_content": null,
      "justify_items": null,
      "left": null,
      "margin": null,
      "max_height": null,
      "max_width": null,
      "min_height": null,
      "min_width": null,
      "object_fit": null,
      "object_position": null,
      "order": null,
      "overflow": null,
      "overflow_x": null,
      "overflow_y": null,
      "padding": null,
      "right": null,
      "top": null,
      "visibility": null,
      "width": null
     }
    }
   }
  }
 },
 "nbformat": 4,
 "nbformat_minor": 1
}
